{
 "cells": [
  {
   "cell_type": "code",
   "execution_count": 1,
   "metadata": {
    "collapsed": true
   },
   "outputs": [],
   "source": [
    "import pandas as pd"
   ]
  },
  {
   "cell_type": "code",
   "execution_count": 2,
   "metadata": {
    "collapsed": true
   },
   "outputs": [],
   "source": [
    "import matplotlib.pyplot as plt\n",
    "%matplotlib inline"
   ]
  },
  {
   "cell_type": "code",
   "execution_count": 3,
   "metadata": {
    "collapsed": true
   },
   "outputs": [],
   "source": [
    "import requests\n",
    "import time\n",
    "import shapely\n",
    "import json\n",
    "import math\n",
    "import re\n",
    "from shapely.geometry import asShape\n",
    "from collections import defaultdict"
   ]
  },
  {
   "cell_type": "code",
   "execution_count": 4,
   "metadata": {
    "collapsed": true
   },
   "outputs": [],
   "source": [
    "data_path = 'nyc-accessibility/elevator-pipeline/data/'"
   ]
  },
  {
   "cell_type": "markdown",
   "metadata": {},
   "source": [
    "## Read in Data"
   ]
  },
  {
   "cell_type": "code",
   "execution_count": 5,
   "metadata": {
    "collapsed": false
   },
   "outputs": [
    {
     "data": {
      "text/html": [
       "<div>\n",
       "<table border=\"1\" class=\"dataframe\">\n",
       "  <thead>\n",
       "    <tr style=\"text-align: right;\">\n",
       "      <th></th>\n",
       "      <th>num_elevator</th>\n",
       "    </tr>\n",
       "    <tr>\n",
       "      <th>id</th>\n",
       "      <th></th>\n",
       "    </tr>\n",
       "  </thead>\n",
       "  <tbody>\n",
       "    <tr>\n",
       "      <th>1</th>\n",
       "      <td>3</td>\n",
       "    </tr>\n",
       "    <tr>\n",
       "      <th>10</th>\n",
       "      <td>3</td>\n",
       "    </tr>\n",
       "    <tr>\n",
       "      <th>105</th>\n",
       "      <td>2</td>\n",
       "    </tr>\n",
       "    <tr>\n",
       "      <th>110</th>\n",
       "      <td>2</td>\n",
       "    </tr>\n",
       "    <tr>\n",
       "      <th>114</th>\n",
       "      <td>3</td>\n",
       "    </tr>\n",
       "  </tbody>\n",
       "</table>\n",
       "</div>"
      ],
      "text/plain": [
       "     num_elevator\n",
       "id               \n",
       "1               3\n",
       "10              3\n",
       "105             2\n",
       "110             2\n",
       "114             3"
      ]
     },
     "execution_count": 5,
     "metadata": {},
     "output_type": "execute_result"
    }
   ],
   "source": [
    "df = pd.read_csv('num_elevator.csv', index_col = 'id')\n",
    "df.head()"
   ]
  },
  {
   "cell_type": "code",
   "execution_count": 6,
   "metadata": {
    "collapsed": true
   },
   "outputs": [],
   "source": [
    "df['num_elevator'] = df['num_elevator'].astype(float)"
   ]
  },
  {
   "cell_type": "code",
   "execution_count": 7,
   "metadata": {
    "collapsed": false,
    "scrolled": true
   },
   "outputs": [
    {
     "data": {
      "text/plain": [
       "{1: 3.0,\n",
       " 3: 2.0,\n",
       " 5: 3.0,\n",
       " 8: 3.0,\n",
       " 9: 2.0,\n",
       " 10: 3.0,\n",
       " 14: 3.0,\n",
       " 25: 5.0,\n",
       " 34: 3.0,\n",
       " 35: 3.0,\n",
       " 41: 3.0,\n",
       " 46: 2.0,\n",
       " 49: 10.0,\n",
       " 57: 2.0,\n",
       " 59: 3.0,\n",
       " 67: 2.0,\n",
       " 69: 1.0,\n",
       " 72: 2.0,\n",
       " 77: 2.0,\n",
       " 82: 1.0,\n",
       " 84: 5.0,\n",
       " 105: 2.0,\n",
       " 110: 2.0,\n",
       " 114: 3.0,\n",
       " 120: 1.0,\n",
       " 133: 7.0,\n",
       " 135: 2.0,\n",
       " 140: 1.0,\n",
       " 157: 5.0,\n",
       " 159: 1.0,\n",
       " 163: 2.0,\n",
       " 176: 7.0,\n",
       " 178: 3.0,\n",
       " 189: 0.0,\n",
       " 194: 2.0,\n",
       " 205: 4.0,\n",
       " 219: 3.0,\n",
       " 223: 3.0,\n",
       " 225: 2.0,\n",
       " 226: 2.0,\n",
       " 227: 2.0,\n",
       " 241: 3.0,\n",
       " 250: 3.0,\n",
       " 253: 2.0,\n",
       " 256: 2.0,\n",
       " 262: 2.0,\n",
       " 269: 3.0,\n",
       " 276: 2.0,\n",
       " 277: 1.0,\n",
       " 279: 0.0,\n",
       " 280: 2.0,\n",
       " 283: 2.0,\n",
       " 291: 5.0,\n",
       " 294: 3.0,\n",
       " 305: 3.0,\n",
       " 315: 3.0,\n",
       " 331: 2.0,\n",
       " 345: 0.0,\n",
       " 347: 3.0,\n",
       " 348: 0.0,\n",
       " 350: 3.0,\n",
       " 352: 2.0,\n",
       " 353: 2.0,\n",
       " 354: 5.0,\n",
       " 355: 0.0,\n",
       " 359: 3.0,\n",
       " 360: 4.0,\n",
       " 363: 3.0,\n",
       " 369: 4.0,\n",
       " 373: 3.0,\n",
       " 400: 3.0,\n",
       " 405: 3.0,\n",
       " 409: 3.0,\n",
       " 414: 19.0,\n",
       " 420: 2.0,\n",
       " 425: 0.0,\n",
       " 430: 19.0,\n",
       " 434: 5.0,\n",
       " 436: 2.0,\n",
       " 438: 4.0,\n",
       " 439: 4.0,\n",
       " 445: 5.0,\n",
       " 460: 3.0,\n",
       " 469: 2.0,\n",
       " 470: 3.0,\n",
       " 471: 4.0}"
      ]
     },
     "execution_count": 7,
     "metadata": {},
     "output_type": "execute_result"
    }
   ],
   "source": [
    "num_elev_dict = df.to_dict()['num_elevator']\n",
    "num_elev_dict"
   ]
  },
  {
   "cell_type": "markdown",
   "metadata": {},
   "source": [
    "## Get neighborhood"
   ]
  },
  {
   "cell_type": "code",
   "execution_count": 8,
   "metadata": {
    "collapsed": false
   },
   "outputs": [],
   "source": [
    "# Start by reloading our core datasets:\n",
    "with open('{}neighborhood_to_stations.json'.format(data_path)) as infile:\n",
    "    neighborhood_to_stations=json.load(infile)\n",
    "with open('{}stations_to_neighborhoods.json'.format(data_path)) as infile:\n",
    "    stations_to_neighborhoods=json.load(infile)\n",
    "with open('{}mta_stations_sorted_by_name.json'.format(data_path)) as infile:\n",
    "    mta_stations_sorted_by_name=json.load(infile)\n",
    "with open('{}nyca_stations.json'.format(data_path)) as infile:\n",
    "    nyca_stations=json.load(infile)\n",
    "with open('{}all_nyca_station_details.json'.format(data_path)) as infile:\n",
    "    all_nyca_station_details=json.load(infile)\n",
    "with open('{}neighborhood_data.json'.format(data_path)) as infile:\n",
    "    neighborhood_data=json.load(infile)"
   ]
  },
  {
   "cell_type": "code",
   "execution_count": 9,
   "metadata": {
    "collapsed": true
   },
   "outputs": [],
   "source": [
    "mta_sorted = sorted([\n",
    "    (m['properties']['name'],m['properties']['line'],m['properties']['objectid'])\n",
    "    for m in mta_stations_sorted_by_name\n",
    "])\n",
    "nyca_sorted = sorted([\n",
    "    (n['name'],tuple(n['lines']),n['id'])\n",
    "    for n in nyca_stations\n",
    "]) "
   ]
  },
  {
   "cell_type": "code",
   "execution_count": 10,
   "metadata": {
    "collapsed": false
   },
   "outputs": [],
   "source": [
    "pd.DataFrame(mta_sorted).to_csv('mta_sorted.csv')\n",
    "pd.DataFrame(nyca_sorted).to_csv('nyca_sorted.csv')\n",
    "dr1=pd.DataFrame.from_csv('{}aligned_mta_nyca.csv'.format(data_path))"
   ]
  },
  {
   "cell_type": "code",
   "execution_count": 11,
   "metadata": {
    "collapsed": false
   },
   "outputs": [
    {
     "data": {
      "text/plain": [
       "('103rd St', '103rd St')"
      ]
     },
     "execution_count": 11,
     "metadata": {},
     "output_type": "execute_result"
    }
   ],
   "source": [
    "# tuple of (mta,nyca_id)\n",
    "def format_mta_id(flt):\n",
    "    if not flt or math.isnan(flt):\n",
    "        return None\n",
    "    else:\n",
    "        return str(int(flt))\n",
    "\n",
    "def format_nyca_id(flt):\n",
    "    if not flt or math.isnan(flt):\n",
    "        return None\n",
    "    else:\n",
    "        return int(flt)\n",
    "\n",
    "aligned_objectids = [\n",
    "    (format_mta_id(r[3]),format_nyca_id(r[7]))\n",
    "    for r in dr1.to_records()\n",
    "]\n",
    "mta_stations_to_name={ms['properties']['objectid']:ms['properties']['name'] for ms in mta_stations_sorted_by_name}\n",
    "nyca_stations_to_name={ns['id']:ns['name'] for ns in nyca_stations}\n",
    "first_rec=aligned_objectids[0]\n",
    "(mta_stations_to_name[first_rec[0]],nyca_stations_to_name[first_rec[1]]) # confirming they match"
   ]
  },
  {
   "cell_type": "code",
   "execution_count": 12,
   "metadata": {
    "collapsed": false
   },
   "outputs": [
    {
     "name": "stdout",
     "output_type": "stream",
     "text": [
      "Missing mta_id for nyca_id 372\n",
      "Missing nyca_id for mta_id 470\n",
      "Missing nyca_id for mta_id 442\n",
      "Missing nyca_id for mta_id 641\n",
      "Missing nyca_id for mta_id 642\n",
      "Missing nyca_id for mta_id 443\n",
      "Missing nyca_id for mta_id 643\n",
      "Missing nyca_id for mta_id 153\n",
      "Missing nyca_id for mta_id 371\n",
      "NYCA id 34 (Union Sq - 14th St) maps to neighborhoods ['West Village', 'Hudson Yards-Chelsea-Flatiron-Union Square']\n",
      "NYCA id 49 (Atlantic Ave) maps to neighborhoods ['Fort Greene', 'Park Slope-Gowanus']\n",
      "NYCA id 57 (Borough Hall) maps to neighborhoods ['Brooklyn Heights-Cobble Hill', 'DUMBO-Vinegar Hill-Downtown Brooklyn-Boerum Hill']\n",
      "NYCA id 274 (Broadway Junction) maps to neighborhoods ['Ocean Hill', 'Bushwick South']\n",
      "NYCA id 471 (Grand Central - 42nd St) maps to neighborhoods ['Turtle Bay-East Midtown', 'Murray Hill-Kips Bay', 'Midtown-Midtown South']\n"
     ]
    }
   ],
   "source": [
    "nyca_station_to_ntacode=defaultdict(lambda:set())\n",
    "#aligned_objectids[0][1]\n",
    "#stations_to_neighborhoods[aligned_objectids[0][0]]\n",
    "for mta_id,nyca_id in aligned_objectids:\n",
    "    if mta_id is None:\n",
    "        print('Missing mta_id for nyca_id {}'.format(nyca_id))\n",
    "    elif nyca_id is None:\n",
    "        print('Missing nyca_id for mta_id {}'.format(mta_id))\n",
    "    elif mta_id in stations_to_neighborhoods:\n",
    "        neighborhoods=stations_to_neighborhoods[mta_id]\n",
    "        if len(neighborhoods) == 1:\n",
    "            nyca_station_to_ntacode[nyca_id].add(neighborhoods[0])\n",
    "        else:\n",
    "            print('Multi-neighborhood data for {}/{}'.format(mta_id,nyca_id))\n",
    "    else:\n",
    "        print('Missing neighborhood data for {}'.format(mta_id))\n",
    "\n",
    "ntacode_to_name={nb['properties']['NTACode']:nb['properties']['NTAName'] for nb in neighborhood_data['features']}\n",
    "for nyca_id,ntacodes in nyca_station_to_ntacode.items():\n",
    "    if len(ntacodes) != 1:\n",
    "        print('NYCA id {} ({}) maps to neighborhoods {}'.format(\n",
    "            nyca_id,\n",
    "            nyca_stations_to_name[nyca_id],\n",
    "            [ntacode_to_name[nb] for nb in ntacodes]))"
   ]
  },
  {
   "cell_type": "code",
   "execution_count": 13,
   "metadata": {
    "collapsed": true
   },
   "outputs": [],
   "source": [
    "def station_scores_to_neighborhood_data(station_scores):\n",
    "    neighborhood_scores=defaultdict(lambda:0)\n",
    "    for station_id,station_score in station_scores.items():\n",
    "        for neighborhood in nyca_station_to_ntacode[int(station_id)]:\n",
    "            neighborhood_scores[neighborhood] = neighborhood_scores[neighborhood]+station_score    \n",
    "    return dict(neighborhood_scores)"
   ]
  },
  {
   "cell_type": "code",
   "execution_count": 14,
   "metadata": {
    "collapsed": false
   },
   "outputs": [
    {
     "data": {
      "text/plain": [
       "{'BK09': 2.0,\n",
       " 'BK23': 3.0,\n",
       " 'BK28': 3.0,\n",
       " 'BK37': 10.0,\n",
       " 'BK38': 6.0,\n",
       " 'BK41': 3.0,\n",
       " 'BK42': 1.0,\n",
       " 'BK43': 0.0,\n",
       " 'BK44': 2.0,\n",
       " 'BK50': 0.0,\n",
       " 'BK60': 2.0,\n",
       " 'BK61': 5.0,\n",
       " 'BK68': 13.0,\n",
       " 'BK69': 2.0,\n",
       " 'BK72': 2.0,\n",
       " 'BK77': 3.0,\n",
       " 'BK78': 3.0,\n",
       " 'BK82': 3.0,\n",
       " 'BK95': 2.0,\n",
       " 'BX05': 6.0,\n",
       " 'BX10': 2.0,\n",
       " 'BX17': 2.0,\n",
       " 'BX27': 5.0,\n",
       " 'BX29': 2.0,\n",
       " 'BX34': 2.0,\n",
       " 'BX44': 5.0,\n",
       " 'BX49': 3.0,\n",
       " 'BX63': 5.0,\n",
       " 'MN01': 2.0,\n",
       " 'MN03': 1.0,\n",
       " 'MN11': 3.0,\n",
       " 'MN12': 2.0,\n",
       " 'MN13': 8.0,\n",
       " 'MN14': 9.0,\n",
       " 'MN17': 26.0,\n",
       " 'MN19': 7.0,\n",
       " 'MN20': 4.0,\n",
       " 'MN23': 11.0,\n",
       " 'MN24': 10.0,\n",
       " 'MN25': 40.0,\n",
       " 'MN27': 3.0,\n",
       " 'MN31': 2.0,\n",
       " 'MN34': 2.0,\n",
       " 'MN35': 1.0,\n",
       " 'MN36': 9.0,\n",
       " 'MN40': 2.0,\n",
       " 'QN10': 1.0,\n",
       " 'QN15': 2.0,\n",
       " 'QN17': 3.0,\n",
       " 'QN20': 0.0,\n",
       " 'QN22': 1.0,\n",
       " 'QN29': 11.0,\n",
       " 'QN31': 6.0,\n",
       " 'QN60': 5.0,\n",
       " 'QN61': 12.0,\n",
       " 'QN63': 5.0,\n",
       " 'QN68': 3.0,\n",
       " 'QN98': 3.0}"
      ]
     },
     "execution_count": 14,
     "metadata": {},
     "output_type": "execute_result"
    }
   ],
   "source": [
    "num_elev = station_scores_to_neighborhood_data(num_elev_dict)\n",
    "num_elev"
   ]
  },
  {
   "cell_type": "code",
   "execution_count": 15,
   "metadata": {
    "collapsed": false
   },
   "outputs": [
    {
     "data": {
      "text/plain": [
       "58"
      ]
     },
     "execution_count": 15,
     "metadata": {},
     "output_type": "execute_result"
    }
   ],
   "source": [
    "len(num_elev)"
   ]
  },
  {
   "cell_type": "code",
   "execution_count": 16,
   "metadata": {
    "collapsed": false
   },
   "outputs": [],
   "source": [
    "# And, once again, enrich the original neighborhood_data geojson with neighborhood_score:\n",
    "for n in neighborhood_data['features']:\n",
    "    n_id=n['properties']['NTACode']\n",
    "    n['properties']['elevator_outage_score'] = num_elev.get(n_id,0)\n",
    "\n",
    "#... and write it back out:\n",
    "with open('num_elev.json','w') as outfile:\n",
    "    json.dump(neighborhood_data,outfile)"
   ]
  }
 ],
 "metadata": {
  "kernelspec": {
   "display_name": "Python 3",
   "language": "python",
   "name": "python3"
  },
  "language_info": {
   "codemirror_mode": {
    "name": "ipython",
    "version": 3
   },
   "file_extension": ".py",
   "mimetype": "text/x-python",
   "name": "python",
   "nbconvert_exporter": "python",
   "pygments_lexer": "ipython3",
   "version": "3.4.5"
  }
 },
 "nbformat": 4,
 "nbformat_minor": 2
}
