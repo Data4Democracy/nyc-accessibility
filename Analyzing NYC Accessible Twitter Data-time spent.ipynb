{
 "cells": [
  {
   "cell_type": "code",
   "execution_count": 1,
   "metadata": {
    "collapsed": true
   },
   "outputs": [],
   "source": [
    "import pandas as pd"
   ]
  },
  {
   "cell_type": "code",
   "execution_count": 2,
   "metadata": {
    "collapsed": true
   },
   "outputs": [],
   "source": [
    "import matplotlib.pyplot as plt\n",
    "%matplotlib inline"
   ]
  },
  {
   "cell_type": "code",
   "execution_count": 3,
   "metadata": {
    "collapsed": true
   },
   "outputs": [],
   "source": [
    "import requests\n",
    "import time\n",
    "import shapely\n",
    "import json\n",
    "import math\n",
    "import re\n",
    "from shapely.geometry import asShape\n",
    "from collections import defaultdict"
   ]
  },
  {
   "cell_type": "code",
   "execution_count": 4,
   "metadata": {
    "collapsed": true
   },
   "outputs": [],
   "source": [
    "data_path = 'nyc-accessibility/elevator-pipeline/data/'"
   ]
  },
  {
   "cell_type": "markdown",
   "metadata": {},
   "source": [
    "## Read in Data"
   ]
  },
  {
   "cell_type": "code",
   "execution_count": 5,
   "metadata": {
    "collapsed": false
   },
   "outputs": [
    {
     "data": {
      "text/html": [
       "<div>\n",
       "<table border=\"1\" class=\"dataframe\">\n",
       "  <thead>\n",
       "    <tr style=\"text-align: right;\">\n",
       "      <th></th>\n",
       "      <th>name</th>\n",
       "      <th>human_eq_type</th>\n",
       "      <th>location</th>\n",
       "      <th>serving</th>\n",
       "      <th>status</th>\n",
       "      <th>date</th>\n",
       "      <th>status2</th>\n",
       "      <th>date2</th>\n",
       "      <th>time_spent</th>\n",
       "      <th>nyca_id</th>\n",
       "    </tr>\n",
       "  </thead>\n",
       "  <tbody>\n",
       "    <tr>\n",
       "      <th>0</th>\n",
       "      <td>125th St</td>\n",
       "      <td>An elevator</td>\n",
       "      <td>NaN</td>\n",
       "      <td>Mezzanine And Downtown</td>\n",
       "      <td>FIXED</td>\n",
       "      <td>2017-03-14 18:28:41</td>\n",
       "      <td>nan</td>\n",
       "      <td>NaN</td>\n",
       "      <td>nan</td>\n",
       "      <td>400</td>\n",
       "    </tr>\n",
       "    <tr>\n",
       "      <th>1</th>\n",
       "      <td>125th St</td>\n",
       "      <td>An elevator</td>\n",
       "      <td>NaN</td>\n",
       "      <td>Mezzanine And Downtown</td>\n",
       "      <td>OUTAGE</td>\n",
       "      <td>2017-03-15 12:18:12</td>\n",
       "      <td>FIXED</td>\n",
       "      <td>2017-03-15 13:08:33</td>\n",
       "      <td>0 days 00:50:21.000000000</td>\n",
       "      <td>400</td>\n",
       "    </tr>\n",
       "    <tr>\n",
       "      <th>2</th>\n",
       "      <td>125th St</td>\n",
       "      <td>An elevator</td>\n",
       "      <td>NaN</td>\n",
       "      <td>Mezzanine And Downtown</td>\n",
       "      <td>OUTAGE</td>\n",
       "      <td>2017-03-29 03:38:37</td>\n",
       "      <td>FIXED</td>\n",
       "      <td>2017-03-29 09:09:04</td>\n",
       "      <td>0 days 05:30:27.000000000</td>\n",
       "      <td>400</td>\n",
       "    </tr>\n",
       "    <tr>\n",
       "      <th>3</th>\n",
       "      <td>125th St</td>\n",
       "      <td>An elevator</td>\n",
       "      <td>NaN</td>\n",
       "      <td>Mezzanine And Downtown</td>\n",
       "      <td>OUTAGE</td>\n",
       "      <td>2017-03-30 18:28:44</td>\n",
       "      <td>FIXED</td>\n",
       "      <td>2017-03-30 21:58:46</td>\n",
       "      <td>0 days 03:30:02.000000000</td>\n",
       "      <td>400</td>\n",
       "    </tr>\n",
       "    <tr>\n",
       "      <th>4</th>\n",
       "      <td>125th St</td>\n",
       "      <td>An elevator</td>\n",
       "      <td>NaN</td>\n",
       "      <td>Mezzanine And Uptown</td>\n",
       "      <td>OUTAGE</td>\n",
       "      <td>2017-03-21 18:09:13</td>\n",
       "      <td>FIXED</td>\n",
       "      <td>2017-03-22 00:58:46</td>\n",
       "      <td>0 days 06:49:33.000000000</td>\n",
       "      <td>400</td>\n",
       "    </tr>\n",
       "  </tbody>\n",
       "</table>\n",
       "</div>"
      ],
      "text/plain": [
       "       name human_eq_type location                 serving  status  \\\n",
       "0  125th St   An elevator      NaN  Mezzanine And Downtown   FIXED   \n",
       "1  125th St   An elevator      NaN  Mezzanine And Downtown  OUTAGE   \n",
       "2  125th St   An elevator      NaN  Mezzanine And Downtown  OUTAGE   \n",
       "3  125th St   An elevator      NaN  Mezzanine And Downtown  OUTAGE   \n",
       "4  125th St   An elevator      NaN    Mezzanine And Uptown  OUTAGE   \n",
       "\n",
       "                  date status2                date2  \\\n",
       "0  2017-03-14 18:28:41     nan                  NaN   \n",
       "1  2017-03-15 12:18:12   FIXED  2017-03-15 13:08:33   \n",
       "2  2017-03-29 03:38:37   FIXED  2017-03-29 09:09:04   \n",
       "3  2017-03-30 18:28:44   FIXED  2017-03-30 21:58:46   \n",
       "4  2017-03-21 18:09:13   FIXED  2017-03-22 00:58:46   \n",
       "\n",
       "                  time_spent  nyca_id  \n",
       "0                        nan      400  \n",
       "1  0 days 00:50:21.000000000      400  \n",
       "2  0 days 05:30:27.000000000      400  \n",
       "3  0 days 03:30:02.000000000      400  \n",
       "4  0 days 06:49:33.000000000      400  "
      ]
     },
     "execution_count": 5,
     "metadata": {},
     "output_type": "execute_result"
    }
   ],
   "source": [
    "df = pd.read_csv('CleanedNYCAccessibleTwitterData.csv', parse_dates = [6, 8])\n",
    "df.head()"
   ]
  },
  {
   "cell_type": "markdown",
   "metadata": {},
   "source": [
    "## Clean Data"
   ]
  },
  {
   "cell_type": "markdown",
   "metadata": {},
   "source": [
    "### Format data"
   ]
  },
  {
   "cell_type": "code",
   "execution_count": 6,
   "metadata": {
    "collapsed": false
   },
   "outputs": [
    {
     "data": {
      "text/html": [
       "<div>\n",
       "<table border=\"1\" class=\"dataframe\">\n",
       "  <thead>\n",
       "    <tr style=\"text-align: right;\">\n",
       "      <th></th>\n",
       "      <th>name</th>\n",
       "      <th>human_eq_type</th>\n",
       "      <th>location</th>\n",
       "      <th>serving</th>\n",
       "      <th>status</th>\n",
       "      <th>date</th>\n",
       "      <th>status2</th>\n",
       "      <th>date2</th>\n",
       "      <th>time_spent</th>\n",
       "      <th>nyca_id</th>\n",
       "    </tr>\n",
       "  </thead>\n",
       "  <tbody>\n",
       "    <tr>\n",
       "      <th>0</th>\n",
       "      <td>125th St</td>\n",
       "      <td>An elevator</td>\n",
       "      <td>NaN</td>\n",
       "      <td>Mezzanine And Downtown</td>\n",
       "      <td>FIXED</td>\n",
       "      <td>2017-03-14 18:28:41</td>\n",
       "      <td>nan</td>\n",
       "      <td>NaN</td>\n",
       "      <td>NaT</td>\n",
       "      <td>400</td>\n",
       "    </tr>\n",
       "    <tr>\n",
       "      <th>1</th>\n",
       "      <td>125th St</td>\n",
       "      <td>An elevator</td>\n",
       "      <td>NaN</td>\n",
       "      <td>Mezzanine And Downtown</td>\n",
       "      <td>OUTAGE</td>\n",
       "      <td>2017-03-15 12:18:12</td>\n",
       "      <td>FIXED</td>\n",
       "      <td>2017-03-15 13:08:33</td>\n",
       "      <td>00:50:21</td>\n",
       "      <td>400</td>\n",
       "    </tr>\n",
       "    <tr>\n",
       "      <th>2</th>\n",
       "      <td>125th St</td>\n",
       "      <td>An elevator</td>\n",
       "      <td>NaN</td>\n",
       "      <td>Mezzanine And Downtown</td>\n",
       "      <td>OUTAGE</td>\n",
       "      <td>2017-03-29 03:38:37</td>\n",
       "      <td>FIXED</td>\n",
       "      <td>2017-03-29 09:09:04</td>\n",
       "      <td>05:30:27</td>\n",
       "      <td>400</td>\n",
       "    </tr>\n",
       "    <tr>\n",
       "      <th>3</th>\n",
       "      <td>125th St</td>\n",
       "      <td>An elevator</td>\n",
       "      <td>NaN</td>\n",
       "      <td>Mezzanine And Downtown</td>\n",
       "      <td>OUTAGE</td>\n",
       "      <td>2017-03-30 18:28:44</td>\n",
       "      <td>FIXED</td>\n",
       "      <td>2017-03-30 21:58:46</td>\n",
       "      <td>03:30:02</td>\n",
       "      <td>400</td>\n",
       "    </tr>\n",
       "    <tr>\n",
       "      <th>4</th>\n",
       "      <td>125th St</td>\n",
       "      <td>An elevator</td>\n",
       "      <td>NaN</td>\n",
       "      <td>Mezzanine And Uptown</td>\n",
       "      <td>OUTAGE</td>\n",
       "      <td>2017-03-21 18:09:13</td>\n",
       "      <td>FIXED</td>\n",
       "      <td>2017-03-22 00:58:46</td>\n",
       "      <td>06:49:33</td>\n",
       "      <td>400</td>\n",
       "    </tr>\n",
       "  </tbody>\n",
       "</table>\n",
       "</div>"
      ],
      "text/plain": [
       "       name human_eq_type location                 serving  status  \\\n",
       "0  125th St   An elevator      NaN  Mezzanine And Downtown   FIXED   \n",
       "1  125th St   An elevator      NaN  Mezzanine And Downtown  OUTAGE   \n",
       "2  125th St   An elevator      NaN  Mezzanine And Downtown  OUTAGE   \n",
       "3  125th St   An elevator      NaN  Mezzanine And Downtown  OUTAGE   \n",
       "4  125th St   An elevator      NaN    Mezzanine And Uptown  OUTAGE   \n",
       "\n",
       "                  date status2                date2  time_spent  nyca_id  \n",
       "0  2017-03-14 18:28:41     nan                  NaN         NaT      400  \n",
       "1  2017-03-15 12:18:12   FIXED  2017-03-15 13:08:33    00:50:21      400  \n",
       "2  2017-03-29 03:38:37   FIXED  2017-03-29 09:09:04    05:30:27      400  \n",
       "3  2017-03-30 18:28:44   FIXED  2017-03-30 21:58:46    03:30:02      400  \n",
       "4  2017-03-21 18:09:13   FIXED  2017-03-22 00:58:46    06:49:33      400  "
      ]
     },
     "execution_count": 6,
     "metadata": {},
     "output_type": "execute_result"
    }
   ],
   "source": [
    "df['time_spent'] = pd.to_timedelta(df['time_spent'])\n",
    "df.head()"
   ]
  },
  {
   "cell_type": "code",
   "execution_count": 7,
   "metadata": {
    "collapsed": false
   },
   "outputs": [
    {
     "data": {
      "text/plain": [
       "name                      object\n",
       "human_eq_type             object\n",
       "location                  object\n",
       "serving                   object\n",
       "status                    object\n",
       "date                      object\n",
       "status2                   object\n",
       "date2                     object\n",
       "time_spent       timedelta64[ns]\n",
       "nyca_id                    int64\n",
       "dtype: object"
      ]
     },
     "execution_count": 7,
     "metadata": {},
     "output_type": "execute_result"
    }
   ],
   "source": [
    "df.dtypes"
   ]
  },
  {
   "cell_type": "code",
   "execution_count": 8,
   "metadata": {
    "collapsed": true
   },
   "outputs": [],
   "source": [
    "# remove time spent\n",
    "df['time_spent'].fillna(0, inplace = True)"
   ]
  },
  {
   "cell_type": "markdown",
   "metadata": {},
   "source": [
    "### If status = 'FIXED' (meaning we do not have earlier outage data) drop it"
   ]
  },
  {
   "cell_type": "code",
   "execution_count": 9,
   "metadata": {
    "collapsed": false
   },
   "outputs": [
    {
     "data": {
      "text/html": [
       "<div>\n",
       "<table border=\"1\" class=\"dataframe\">\n",
       "  <thead>\n",
       "    <tr style=\"text-align: right;\">\n",
       "      <th></th>\n",
       "      <th>name</th>\n",
       "      <th>human_eq_type</th>\n",
       "      <th>location</th>\n",
       "      <th>serving</th>\n",
       "      <th>status</th>\n",
       "      <th>date</th>\n",
       "      <th>status2</th>\n",
       "      <th>date2</th>\n",
       "      <th>time_spent</th>\n",
       "      <th>nyca_id</th>\n",
       "    </tr>\n",
       "  </thead>\n",
       "  <tbody>\n",
       "    <tr>\n",
       "      <th>1</th>\n",
       "      <td>125th St</td>\n",
       "      <td>An elevator</td>\n",
       "      <td>NaN</td>\n",
       "      <td>Mezzanine And Downtown</td>\n",
       "      <td>OUTAGE</td>\n",
       "      <td>2017-03-15 12:18:12</td>\n",
       "      <td>FIXED</td>\n",
       "      <td>2017-03-15 13:08:33</td>\n",
       "      <td>00:50:21</td>\n",
       "      <td>400</td>\n",
       "    </tr>\n",
       "    <tr>\n",
       "      <th>2</th>\n",
       "      <td>125th St</td>\n",
       "      <td>An elevator</td>\n",
       "      <td>NaN</td>\n",
       "      <td>Mezzanine And Downtown</td>\n",
       "      <td>OUTAGE</td>\n",
       "      <td>2017-03-29 03:38:37</td>\n",
       "      <td>FIXED</td>\n",
       "      <td>2017-03-29 09:09:04</td>\n",
       "      <td>05:30:27</td>\n",
       "      <td>400</td>\n",
       "    </tr>\n",
       "    <tr>\n",
       "      <th>3</th>\n",
       "      <td>125th St</td>\n",
       "      <td>An elevator</td>\n",
       "      <td>NaN</td>\n",
       "      <td>Mezzanine And Downtown</td>\n",
       "      <td>OUTAGE</td>\n",
       "      <td>2017-03-30 18:28:44</td>\n",
       "      <td>FIXED</td>\n",
       "      <td>2017-03-30 21:58:46</td>\n",
       "      <td>03:30:02</td>\n",
       "      <td>400</td>\n",
       "    </tr>\n",
       "    <tr>\n",
       "      <th>4</th>\n",
       "      <td>125th St</td>\n",
       "      <td>An elevator</td>\n",
       "      <td>NaN</td>\n",
       "      <td>Mezzanine And Uptown</td>\n",
       "      <td>OUTAGE</td>\n",
       "      <td>2017-03-21 18:09:13</td>\n",
       "      <td>FIXED</td>\n",
       "      <td>2017-03-22 00:58:46</td>\n",
       "      <td>06:49:33</td>\n",
       "      <td>400</td>\n",
       "    </tr>\n",
       "    <tr>\n",
       "      <th>5</th>\n",
       "      <td>125th St</td>\n",
       "      <td>An elevator</td>\n",
       "      <td>NaN</td>\n",
       "      <td>Mezzanine And Uptown</td>\n",
       "      <td>OUTAGE</td>\n",
       "      <td>2017-03-30 04:18:39</td>\n",
       "      <td>FIXED</td>\n",
       "      <td>2017-03-30 09:38:27</td>\n",
       "      <td>05:19:48</td>\n",
       "      <td>400</td>\n",
       "    </tr>\n",
       "  </tbody>\n",
       "</table>\n",
       "</div>"
      ],
      "text/plain": [
       "       name human_eq_type location                 serving  status  \\\n",
       "1  125th St   An elevator      NaN  Mezzanine And Downtown  OUTAGE   \n",
       "2  125th St   An elevator      NaN  Mezzanine And Downtown  OUTAGE   \n",
       "3  125th St   An elevator      NaN  Mezzanine And Downtown  OUTAGE   \n",
       "4  125th St   An elevator      NaN    Mezzanine And Uptown  OUTAGE   \n",
       "5  125th St   An elevator      NaN    Mezzanine And Uptown  OUTAGE   \n",
       "\n",
       "                  date status2                date2  time_spent  nyca_id  \n",
       "1  2017-03-15 12:18:12   FIXED  2017-03-15 13:08:33    00:50:21      400  \n",
       "2  2017-03-29 03:38:37   FIXED  2017-03-29 09:09:04    05:30:27      400  \n",
       "3  2017-03-30 18:28:44   FIXED  2017-03-30 21:58:46    03:30:02      400  \n",
       "4  2017-03-21 18:09:13   FIXED  2017-03-22 00:58:46    06:49:33      400  \n",
       "5  2017-03-30 04:18:39   FIXED  2017-03-30 09:38:27    05:19:48      400  "
      ]
     },
     "execution_count": 9,
     "metadata": {},
     "output_type": "execute_result"
    }
   ],
   "source": [
    "df = df[df['status'] != 'FIXED']\n",
    "df.head()"
   ]
  },
  {
   "cell_type": "markdown",
   "metadata": {},
   "source": [
    "### Keep only elevator"
   ]
  },
  {
   "cell_type": "code",
   "execution_count": 10,
   "metadata": {
    "collapsed": false
   },
   "outputs": [
    {
     "data": {
      "text/plain": [
       "An escalator    988\n",
       "An elevator     473\n",
       "Name: human_eq_type, dtype: int64"
      ]
     },
     "execution_count": 10,
     "metadata": {},
     "output_type": "execute_result"
    }
   ],
   "source": [
    "df['human_eq_type'].value_counts()"
   ]
  },
  {
   "cell_type": "code",
   "execution_count": 11,
   "metadata": {
    "collapsed": false
   },
   "outputs": [
    {
     "data": {
      "text/plain": [
       "An elevator    473\n",
       "Name: human_eq_type, dtype: int64"
      ]
     },
     "execution_count": 11,
     "metadata": {},
     "output_type": "execute_result"
    }
   ],
   "source": [
    "df = df[df['human_eq_type'] == 'An elevator']\n",
    "df['human_eq_type'].value_counts()"
   ]
  },
  {
   "cell_type": "markdown",
   "metadata": {},
   "source": [
    "## Create Necessary Columns"
   ]
  },
  {
   "cell_type": "code",
   "execution_count": 12,
   "metadata": {
    "collapsed": false
   },
   "outputs": [
    {
     "data": {
      "text/html": [
       "<div>\n",
       "<table border=\"1\" class=\"dataframe\">\n",
       "  <thead>\n",
       "    <tr style=\"text-align: right;\">\n",
       "      <th></th>\n",
       "      <th>name</th>\n",
       "      <th>human_eq_type</th>\n",
       "      <th>location</th>\n",
       "      <th>serving</th>\n",
       "      <th>status</th>\n",
       "      <th>date</th>\n",
       "      <th>status2</th>\n",
       "      <th>date2</th>\n",
       "      <th>time_spent</th>\n",
       "      <th>nyca_id</th>\n",
       "      <th>time_spent_min</th>\n",
       "    </tr>\n",
       "  </thead>\n",
       "  <tbody>\n",
       "    <tr>\n",
       "      <th>1</th>\n",
       "      <td>125th St</td>\n",
       "      <td>An elevator</td>\n",
       "      <td>NaN</td>\n",
       "      <td>Mezzanine And Downtown</td>\n",
       "      <td>OUTAGE</td>\n",
       "      <td>2017-03-15 12:18:12</td>\n",
       "      <td>FIXED</td>\n",
       "      <td>2017-03-15 13:08:33</td>\n",
       "      <td>00:50:21</td>\n",
       "      <td>400</td>\n",
       "      <td>50</td>\n",
       "    </tr>\n",
       "    <tr>\n",
       "      <th>2</th>\n",
       "      <td>125th St</td>\n",
       "      <td>An elevator</td>\n",
       "      <td>NaN</td>\n",
       "      <td>Mezzanine And Downtown</td>\n",
       "      <td>OUTAGE</td>\n",
       "      <td>2017-03-29 03:38:37</td>\n",
       "      <td>FIXED</td>\n",
       "      <td>2017-03-29 09:09:04</td>\n",
       "      <td>05:30:27</td>\n",
       "      <td>400</td>\n",
       "      <td>330</td>\n",
       "    </tr>\n",
       "    <tr>\n",
       "      <th>3</th>\n",
       "      <td>125th St</td>\n",
       "      <td>An elevator</td>\n",
       "      <td>NaN</td>\n",
       "      <td>Mezzanine And Downtown</td>\n",
       "      <td>OUTAGE</td>\n",
       "      <td>2017-03-30 18:28:44</td>\n",
       "      <td>FIXED</td>\n",
       "      <td>2017-03-30 21:58:46</td>\n",
       "      <td>03:30:02</td>\n",
       "      <td>400</td>\n",
       "      <td>210</td>\n",
       "    </tr>\n",
       "    <tr>\n",
       "      <th>4</th>\n",
       "      <td>125th St</td>\n",
       "      <td>An elevator</td>\n",
       "      <td>NaN</td>\n",
       "      <td>Mezzanine And Uptown</td>\n",
       "      <td>OUTAGE</td>\n",
       "      <td>2017-03-21 18:09:13</td>\n",
       "      <td>FIXED</td>\n",
       "      <td>2017-03-22 00:58:46</td>\n",
       "      <td>06:49:33</td>\n",
       "      <td>400</td>\n",
       "      <td>409</td>\n",
       "    </tr>\n",
       "    <tr>\n",
       "      <th>5</th>\n",
       "      <td>125th St</td>\n",
       "      <td>An elevator</td>\n",
       "      <td>NaN</td>\n",
       "      <td>Mezzanine And Uptown</td>\n",
       "      <td>OUTAGE</td>\n",
       "      <td>2017-03-30 04:18:39</td>\n",
       "      <td>FIXED</td>\n",
       "      <td>2017-03-30 09:38:27</td>\n",
       "      <td>05:19:48</td>\n",
       "      <td>400</td>\n",
       "      <td>319</td>\n",
       "    </tr>\n",
       "  </tbody>\n",
       "</table>\n",
       "</div>"
      ],
      "text/plain": [
       "       name human_eq_type location                 serving  status  \\\n",
       "1  125th St   An elevator      NaN  Mezzanine And Downtown  OUTAGE   \n",
       "2  125th St   An elevator      NaN  Mezzanine And Downtown  OUTAGE   \n",
       "3  125th St   An elevator      NaN  Mezzanine And Downtown  OUTAGE   \n",
       "4  125th St   An elevator      NaN    Mezzanine And Uptown  OUTAGE   \n",
       "5  125th St   An elevator      NaN    Mezzanine And Uptown  OUTAGE   \n",
       "\n",
       "                  date status2                date2  time_spent  nyca_id  \\\n",
       "1  2017-03-15 12:18:12   FIXED  2017-03-15 13:08:33    00:50:21      400   \n",
       "2  2017-03-29 03:38:37   FIXED  2017-03-29 09:09:04    05:30:27      400   \n",
       "3  2017-03-30 18:28:44   FIXED  2017-03-30 21:58:46    03:30:02      400   \n",
       "4  2017-03-21 18:09:13   FIXED  2017-03-22 00:58:46    06:49:33      400   \n",
       "5  2017-03-30 04:18:39   FIXED  2017-03-30 09:38:27    05:19:48      400   \n",
       "\n",
       "   time_spent_min  \n",
       "1              50  \n",
       "2             330  \n",
       "3             210  \n",
       "4             409  \n",
       "5             319  "
      ]
     },
     "execution_count": 12,
     "metadata": {},
     "output_type": "execute_result"
    }
   ],
   "source": [
    "# Calculate minute spent fixing\n",
    "df['time_spent_min'] = df['time_spent'].apply(lambda x: x.seconds / 60).astype(int)\n",
    "df.head()"
   ]
  },
  {
   "cell_type": "code",
   "execution_count": 13,
   "metadata": {
    "collapsed": false
   },
   "outputs": [
    {
     "data": {
      "text/plain": [
       "<matplotlib.axes._subplots.AxesSubplot at 0x10493fda0>"
      ]
     },
     "execution_count": 13,
     "metadata": {},
     "output_type": "execute_result"
    },
    {
     "data": {
      "image/png": "[encoded data removed]",
      "text/plain": [
       "<matplotlib.figure.Figure at 0x10493f128>"
      ]
     },
     "metadata": {},
     "output_type": "display_data"
    }
   ],
   "source": [
    "df['time_spent_min'].plot.hist(bins = 50)"
   ]
  },
  {
   "cell_type": "code",
   "execution_count": 14,
   "metadata": {
    "collapsed": true
   },
   "outputs": [],
   "source": [
    "def top_code600(val):\n",
    "    if val > 600: \n",
    "        val = 600\n",
    "    return val"
   ]
  },
  {
   "cell_type": "code",
   "execution_count": 15,
   "metadata": {
    "collapsed": true
   },
   "outputs": [],
   "source": [
    "# top code at 600\n",
    "df['time_spent_min'] = df['time_spent_min'].apply(top_code600)"
   ]
  },
  {
   "cell_type": "code",
   "execution_count": 16,
   "metadata": {
    "collapsed": false
   },
   "outputs": [
    {
     "data": {
      "text/plain": [
       "69"
      ]
     },
     "execution_count": 16,
     "metadata": {},
     "output_type": "execute_result"
    }
   ],
   "source": [
    "# Check how many has 0?\n",
    "sum(df['time_spent_min'] == 0)"
   ]
  },
  {
   "cell_type": "code",
   "execution_count": 17,
   "metadata": {
    "collapsed": false,
    "scrolled": true
   },
   "outputs": [
    {
     "data": {
      "text/html": [
       "<div>\n",
       "<table border=\"1\" class=\"dataframe\">\n",
       "  <thead>\n",
       "    <tr style=\"text-align: right;\">\n",
       "      <th></th>\n",
       "      <th>name</th>\n",
       "      <th>human_eq_type</th>\n",
       "      <th>location</th>\n",
       "      <th>serving</th>\n",
       "      <th>status</th>\n",
       "      <th>date</th>\n",
       "      <th>status2</th>\n",
       "      <th>date2</th>\n",
       "      <th>time_spent</th>\n",
       "      <th>nyca_id</th>\n",
       "      <th>time_spent_min</th>\n",
       "    </tr>\n",
       "  </thead>\n",
       "  <tbody>\n",
       "    <tr>\n",
       "      <th>29</th>\n",
       "      <td>14th St - 8 Av</td>\n",
       "      <td>An elevator</td>\n",
       "      <td>NaN</td>\n",
       "      <td>Mezzanine To L Platform</td>\n",
       "      <td>OUTAGE</td>\n",
       "      <td>2017-04-01 12:48:23</td>\n",
       "      <td>nan</td>\n",
       "      <td>NaN</td>\n",
       "      <td>0 days</td>\n",
       "      <td>445</td>\n",
       "      <td>0</td>\n",
       "    </tr>\n",
       "    <tr>\n",
       "      <th>58</th>\n",
       "      <td>161st St - Yankee Stadium</td>\n",
       "      <td>An elevator</td>\n",
       "      <td>NaN</td>\n",
       "      <td>Mezzanines To Downtown 4 Platform</td>\n",
       "      <td>OUTAGE</td>\n",
       "      <td>2017-03-22 15:10:06</td>\n",
       "      <td>nan</td>\n",
       "      <td>NaN</td>\n",
       "      <td>0 days</td>\n",
       "      <td>291</td>\n",
       "      <td>0</td>\n",
       "    </tr>\n",
       "    <tr>\n",
       "      <th>65</th>\n",
       "      <td>161st St - Yankee Stadium</td>\n",
       "      <td>An elevator</td>\n",
       "      <td>NE corner of 161st Street and River Avenue</td>\n",
       "      <td>Street To Mezzanine</td>\n",
       "      <td>OUTAGE</td>\n",
       "      <td>2017-04-01 06:18:47</td>\n",
       "      <td>nan</td>\n",
       "      <td>NaN</td>\n",
       "      <td>0 days</td>\n",
       "      <td>291</td>\n",
       "      <td>0</td>\n",
       "    </tr>\n",
       "    <tr>\n",
       "      <th>108</th>\n",
       "      <td>168th St</td>\n",
       "      <td>An elevator</td>\n",
       "      <td>NaN</td>\n",
       "      <td>Lower Mezzanine To Upper Mezzanine</td>\n",
       "      <td>OUTAGE</td>\n",
       "      <td>2017-03-27 10:38:21</td>\n",
       "      <td>nan</td>\n",
       "      <td>NaN</td>\n",
       "      <td>0 days</td>\n",
       "      <td>133</td>\n",
       "      <td>0</td>\n",
       "    </tr>\n",
       "    <tr>\n",
       "      <th>109</th>\n",
       "      <td>168th St</td>\n",
       "      <td>An elevator</td>\n",
       "      <td>NaN</td>\n",
       "      <td>Lower Mezzanine To Upper Mezzanine</td>\n",
       "      <td>OUTAGE</td>\n",
       "      <td>2017-03-27 10:38:21</td>\n",
       "      <td>nan</td>\n",
       "      <td>NaN</td>\n",
       "      <td>0 days</td>\n",
       "      <td>133</td>\n",
       "      <td>0</td>\n",
       "    </tr>\n",
       "  </tbody>\n",
       "</table>\n",
       "</div>"
      ],
      "text/plain": [
       "                          name human_eq_type  \\\n",
       "29              14th St - 8 Av   An elevator   \n",
       "58   161st St - Yankee Stadium   An elevator   \n",
       "65   161st St - Yankee Stadium   An elevator   \n",
       "108                   168th St   An elevator   \n",
       "109                   168th St   An elevator   \n",
       "\n",
       "                                       location  \\\n",
       "29                                          NaN   \n",
       "58                                          NaN   \n",
       "65   NE corner of 161st Street and River Avenue   \n",
       "108                                         NaN   \n",
       "109                                         NaN   \n",
       "\n",
       "                                serving  status                 date status2  \\\n",
       "29              Mezzanine To L Platform  OUTAGE  2017-04-01 12:48:23     nan   \n",
       "58    Mezzanines To Downtown 4 Platform  OUTAGE  2017-03-22 15:10:06     nan   \n",
       "65                  Street To Mezzanine  OUTAGE  2017-04-01 06:18:47     nan   \n",
       "108  Lower Mezzanine To Upper Mezzanine  OUTAGE  2017-03-27 10:38:21     nan   \n",
       "109  Lower Mezzanine To Upper Mezzanine  OUTAGE  2017-03-27 10:38:21     nan   \n",
       "\n",
       "    date2  time_spent  nyca_id  time_spent_min  \n",
       "29    NaN      0 days      445               0  \n",
       "58    NaN      0 days      291               0  \n",
       "65    NaN      0 days      291               0  \n",
       "108   NaN      0 days      133               0  \n",
       "109   NaN      0 days      133               0  "
      ]
     },
     "execution_count": 17,
     "metadata": {},
     "output_type": "execute_result"
    }
   ],
   "source": [
    "zero_spent = df[df['time_spent_min'] == 0]\n",
    "zero_spent.head()"
   ]
  },
  {
   "cell_type": "markdown",
   "metadata": {},
   "source": [
    "These are not fixed. Confirm this, and assign 600."
   ]
  },
  {
   "cell_type": "code",
   "execution_count": 18,
   "metadata": {
    "collapsed": false
   },
   "outputs": [
    {
     "data": {
      "text/plain": [
       "nan    69\n",
       "Name: status2, dtype: int64"
      ]
     },
     "execution_count": 18,
     "metadata": {},
     "output_type": "execute_result"
    }
   ],
   "source": [
    "zero_spent['status2'].value_counts()"
   ]
  },
  {
   "cell_type": "code",
   "execution_count": 19,
   "metadata": {
    "collapsed": false
   },
   "outputs": [
    {
     "data": {
      "text/html": [
       "<div>\n",
       "<table border=\"1\" class=\"dataframe\">\n",
       "  <thead>\n",
       "    <tr style=\"text-align: right;\">\n",
       "      <th></th>\n",
       "      <th>name</th>\n",
       "      <th>human_eq_type</th>\n",
       "      <th>location</th>\n",
       "      <th>serving</th>\n",
       "      <th>status</th>\n",
       "      <th>date</th>\n",
       "      <th>status2</th>\n",
       "      <th>date2</th>\n",
       "      <th>time_spent</th>\n",
       "      <th>nyca_id</th>\n",
       "      <th>time_spent_min</th>\n",
       "    </tr>\n",
       "  </thead>\n",
       "  <tbody>\n",
       "  </tbody>\n",
       "</table>\n",
       "</div>"
      ],
      "text/plain": [
       "Empty DataFrame\n",
       "Columns: [name, human_eq_type, location, serving, status, date, status2, date2, time_spent, nyca_id, time_spent_min]\n",
       "Index: []"
      ]
     },
     "execution_count": 19,
     "metadata": {},
     "output_type": "execute_result"
    }
   ],
   "source": [
    "zero_spent[zero_spent['status2'] == 'FIXED']"
   ]
  },
  {
   "cell_type": "markdown",
   "metadata": {},
   "source": [
    "These are fixed within 1-2 seconds???   \n",
    "We will mark these as 1"
   ]
  },
  {
   "cell_type": "code",
   "execution_count": 20,
   "metadata": {
    "collapsed": false
   },
   "outputs": [],
   "source": [
    "df.loc[(df['status2'] == 'FIXED') & (df['time_spent_min'] == 0), 'time_spent_min'] = 1"
   ]
  },
  {
   "cell_type": "code",
   "execution_count": 21,
   "metadata": {
    "collapsed": false
   },
   "outputs": [],
   "source": [
    "# For the rest, mark as 600\n",
    "df.loc[(df['status2'] != 'FIXED') & (df['time_spent_min'] == 0), 'time_spent_min'] = 600"
   ]
  },
  {
   "cell_type": "code",
   "execution_count": 22,
   "metadata": {
    "collapsed": false
   },
   "outputs": [
    {
     "data": {
      "text/plain": [
       "count    473.000000\n",
       "mean     313.158562\n",
       "std      190.880693\n",
       "min        8.000000\n",
       "25%      159.000000\n",
       "50%      289.000000\n",
       "75%      500.000000\n",
       "max      600.000000\n",
       "Name: time_spent_min, dtype: float64"
      ]
     },
     "execution_count": 22,
     "metadata": {},
     "output_type": "execute_result"
    }
   ],
   "source": [
    "# check the distribution\n",
    "df['time_spent_min'].describe()"
   ]
  },
  {
   "cell_type": "code",
   "execution_count": 23,
   "metadata": {
    "collapsed": false
   },
   "outputs": [
    {
     "data": {
      "text/html": [
       "<div>\n",
       "<table border=\"1\" class=\"dataframe\">\n",
       "  <thead>\n",
       "    <tr style=\"text-align: right;\">\n",
       "      <th></th>\n",
       "      <th>time_spent_min</th>\n",
       "    </tr>\n",
       "    <tr>\n",
       "      <th>nyca_id</th>\n",
       "      <th></th>\n",
       "    </tr>\n",
       "  </thead>\n",
       "  <tbody>\n",
       "    <tr>\n",
       "      <th>1</th>\n",
       "      <td>311.000000</td>\n",
       "    </tr>\n",
       "    <tr>\n",
       "      <th>3</th>\n",
       "      <td>600.000000</td>\n",
       "    </tr>\n",
       "    <tr>\n",
       "      <th>8</th>\n",
       "      <td>223.166667</td>\n",
       "    </tr>\n",
       "    <tr>\n",
       "      <th>10</th>\n",
       "      <td>449.625000</td>\n",
       "    </tr>\n",
       "    <tr>\n",
       "      <th>14</th>\n",
       "      <td>456.333333</td>\n",
       "    </tr>\n",
       "  </tbody>\n",
       "</table>\n",
       "</div>"
      ],
      "text/plain": [
       "         time_spent_min\n",
       "nyca_id                \n",
       "1            311.000000\n",
       "3            600.000000\n",
       "8            223.166667\n",
       "10           449.625000\n",
       "14           456.333333"
      ]
     },
     "execution_count": 23,
     "metadata": {},
     "output_type": "execute_result"
    }
   ],
   "source": [
    "time_spent_df = df[['nyca_id', 'time_spent_min']].groupby('nyca_id').mean()\n",
    "time_spent_df.head()"
   ]
  },
  {
   "cell_type": "code",
   "execution_count": 24,
   "metadata": {
    "collapsed": false,
    "scrolled": true
   },
   "outputs": [
    {
     "data": {
      "text/plain": [
       "{1: 311.0,\n",
       " 3: 600.0,\n",
       " 8: 223.16666666666666,\n",
       " 10: 449.625,\n",
       " 14: 456.33333333333331,\n",
       " 34: 289.66666666666669,\n",
       " 35: 155.59999999999999,\n",
       " 41: 249.5,\n",
       " 49: 275.13333333333333,\n",
       " 57: 328.09090909090907,\n",
       " 59: 250.0,\n",
       " 67: 280.0,\n",
       " 69: 600.0,\n",
       " 72: 447.80000000000001,\n",
       " 82: 39.0,\n",
       " 84: 365.27272727272725,\n",
       " 105: 600.0,\n",
       " 110: 600.0,\n",
       " 114: 475.0,\n",
       " 133: 280.09090909090907,\n",
       " 135: 287.5,\n",
       " 163: 329.0,\n",
       " 178: 360.90909090909093,\n",
       " 194: 548.33333333333337,\n",
       " 219: 600.0,\n",
       " 223: 400.0,\n",
       " 225: 85.0,\n",
       " 226: 175.66666666666666,\n",
       " 227: 600.0,\n",
       " 241: 279.71428571428572,\n",
       " 250: 247.59999999999999,\n",
       " 253: 273.39999999999998,\n",
       " 256: 140.0,\n",
       " 262: 503.33333333333331,\n",
       " 269: 234.8235294117647,\n",
       " 276: 600.0,\n",
       " 277: 600.0,\n",
       " 283: 236.16666666666666,\n",
       " 291: 286.72413793103448,\n",
       " 294: 209.55555555555554,\n",
       " 305: 277.0,\n",
       " 315: 282.88888888888891,\n",
       " 331: 600.0,\n",
       " 347: 201.45454545454547,\n",
       " 350: 230.0,\n",
       " 352: 209.0,\n",
       " 353: 69.5,\n",
       " 354: 272.9375,\n",
       " 359: 307.0,\n",
       " 360: 452.25,\n",
       " 363: 229.0,\n",
       " 369: 103.59999999999999,\n",
       " 373: 290.44444444444446,\n",
       " 400: 333.11111111111109,\n",
       " 405: 211.14285714285714,\n",
       " 409: 259.0,\n",
       " 436: 375.60000000000002,\n",
       " 438: 309.44444444444446,\n",
       " 445: 356.78571428571428,\n",
       " 460: 301.0,\n",
       " 469: 218.22222222222223,\n",
       " 470: 369.66666666666669,\n",
       " 471: 150.58333333333334}"
      ]
     },
     "execution_count": 24,
     "metadata": {},
     "output_type": "execute_result"
    }
   ],
   "source": [
    "time_spent_dict = time_spent_df.to_dict()['time_spent_min']\n",
    "time_spent_dict"
   ]
  },
  {
   "cell_type": "markdown",
   "metadata": {},
   "source": [
    "## Get neighborhood"
   ]
  },
  {
   "cell_type": "code",
   "execution_count": 25,
   "metadata": {
    "collapsed": false
   },
   "outputs": [],
   "source": [
    "# Start by reloading our core datasets:\n",
    "with open('{}neighborhood_to_stations.json'.format(data_path)) as infile:\n",
    "    neighborhood_to_stations=json.load(infile)\n",
    "with open('{}stations_to_neighborhoods.json'.format(data_path)) as infile:\n",
    "    stations_to_neighborhoods=json.load(infile)\n",
    "with open('{}mta_stations_sorted_by_name.json'.format(data_path)) as infile:\n",
    "    mta_stations_sorted_by_name=json.load(infile)\n",
    "with open('{}nyca_stations.json'.format(data_path)) as infile:\n",
    "    nyca_stations=json.load(infile)\n",
    "with open('{}all_nyca_station_details.json'.format(data_path)) as infile:\n",
    "    all_nyca_station_details=json.load(infile)\n",
    "with open('{}neighborhood_data.json'.format(data_path)) as infile:\n",
    "    neighborhood_data=json.load(infile)"
   ]
  },
  {
   "cell_type": "code",
   "execution_count": 26,
   "metadata": {
    "collapsed": true
   },
   "outputs": [],
   "source": [
    "mta_sorted = sorted([\n",
    "    (m['properties']['name'],m['properties']['line'],m['properties']['objectid'])\n",
    "    for m in mta_stations_sorted_by_name\n",
    "])\n",
    "nyca_sorted = sorted([\n",
    "    (n['name'],tuple(n['lines']),n['id'])\n",
    "    for n in nyca_stations\n",
    "]) "
   ]
  },
  {
   "cell_type": "code",
   "execution_count": 27,
   "metadata": {
    "collapsed": false
   },
   "outputs": [],
   "source": [
    "pd.DataFrame(mta_sorted).to_csv('mta_sorted.csv')\n",
    "pd.DataFrame(nyca_sorted).to_csv('nyca_sorted.csv')\n",
    "dr1=pd.DataFrame.from_csv('{}aligned_mta_nyca.csv'.format(data_path))"
   ]
  },
  {
   "cell_type": "code",
   "execution_count": 28,
   "metadata": {
    "collapsed": false
   },
   "outputs": [
    {
     "data": {
      "text/plain": [
       "('103rd St', '103rd St')"
      ]
     },
     "execution_count": 28,
     "metadata": {},
     "output_type": "execute_result"
    }
   ],
   "source": [
    "# tuple of (mta,nyca_id)\n",
    "def format_mta_id(flt):\n",
    "    if not flt or math.isnan(flt):\n",
    "        return None\n",
    "    else:\n",
    "        return str(int(flt))\n",
    "\n",
    "def format_nyca_id(flt):\n",
    "    if not flt or math.isnan(flt):\n",
    "        return None\n",
    "    else:\n",
    "        return int(flt)\n",
    "\n",
    "aligned_objectids = [\n",
    "    (format_mta_id(r[3]),format_nyca_id(r[7]))\n",
    "    for r in dr1.to_records()\n",
    "]\n",
    "mta_stations_to_name={ms['properties']['objectid']:ms['properties']['name'] for ms in mta_stations_sorted_by_name}\n",
    "nyca_stations_to_name={ns['id']:ns['name'] for ns in nyca_stations}\n",
    "first_rec=aligned_objectids[0]\n",
    "(mta_stations_to_name[first_rec[0]],nyca_stations_to_name[first_rec[1]]) # confirming they match"
   ]
  },
  {
   "cell_type": "code",
   "execution_count": 29,
   "metadata": {
    "collapsed": false
   },
   "outputs": [
    {
     "name": "stdout",
     "output_type": "stream",
     "text": [
      "Missing mta_id for nyca_id 372\n",
      "Missing nyca_id for mta_id 470\n",
      "Missing nyca_id for mta_id 442\n",
      "Missing nyca_id for mta_id 641\n",
      "Missing nyca_id for mta_id 642\n",
      "Missing nyca_id for mta_id 443\n",
      "Missing nyca_id for mta_id 643\n",
      "Missing nyca_id for mta_id 153\n",
      "Missing nyca_id for mta_id 371\n",
      "NYCA id 34 (Union Sq - 14th St) maps to neighborhoods ['West Village', 'Hudson Yards-Chelsea-Flatiron-Union Square']\n",
      "NYCA id 49 (Atlantic Ave) maps to neighborhoods ['Park Slope-Gowanus', 'Fort Greene']\n",
      "NYCA id 57 (Borough Hall) maps to neighborhoods ['Brooklyn Heights-Cobble Hill', 'DUMBO-Vinegar Hill-Downtown Brooklyn-Boerum Hill']\n",
      "NYCA id 274 (Broadway Junction) maps to neighborhoods ['Bushwick South', 'Ocean Hill']\n",
      "NYCA id 471 (Grand Central - 42nd St) maps to neighborhoods ['Murray Hill-Kips Bay', 'Turtle Bay-East Midtown', 'Midtown-Midtown South']\n"
     ]
    }
   ],
   "source": [
    "nyca_station_to_ntacode=defaultdict(lambda:set())\n",
    "#aligned_objectids[0][1]\n",
    "#stations_to_neighborhoods[aligned_objectids[0][0]]\n",
    "for mta_id,nyca_id in aligned_objectids:\n",
    "    if mta_id is None:\n",
    "        print('Missing mta_id for nyca_id {}'.format(nyca_id))\n",
    "    elif nyca_id is None:\n",
    "        print('Missing nyca_id for mta_id {}'.format(mta_id))\n",
    "    elif mta_id in stations_to_neighborhoods:\n",
    "        neighborhoods=stations_to_neighborhoods[mta_id]\n",
    "        if len(neighborhoods) == 1:\n",
    "            nyca_station_to_ntacode[nyca_id].add(neighborhoods[0])\n",
    "        else:\n",
    "            print('Multi-neighborhood data for {}/{}'.format(mta_id,nyca_id))\n",
    "    else:\n",
    "        print('Missing neighborhood data for {}'.format(mta_id))\n",
    "\n",
    "ntacode_to_name={nb['properties']['NTACode']:nb['properties']['NTAName'] for nb in neighborhood_data['features']}\n",
    "for nyca_id,ntacodes in nyca_station_to_ntacode.items():\n",
    "    if len(ntacodes) != 1:\n",
    "        print('NYCA id {} ({}) maps to neighborhoods {}'.format(\n",
    "            nyca_id,\n",
    "            nyca_stations_to_name[nyca_id],\n",
    "            [ntacode_to_name[nb] for nb in ntacodes]))"
   ]
  },
  {
   "cell_type": "code",
   "execution_count": 30,
   "metadata": {
    "collapsed": true
   },
   "outputs": [],
   "source": [
    "def station_scores_to_neighborhood_data(station_scores):\n",
    "    neighborhood_scores=defaultdict(lambda:0)\n",
    "    for station_id,station_score in station_scores.items():\n",
    "        for neighborhood in nyca_station_to_ntacode[int(station_id)]:\n",
    "            neighborhood_scores[neighborhood] = neighborhood_scores[neighborhood]+station_score    \n",
    "    return dict(neighborhood_scores)"
   ]
  },
  {
   "cell_type": "code",
   "execution_count": 31,
   "metadata": {
    "collapsed": false
   },
   "outputs": [
    {
     "data": {
      "text/plain": [
       "{'BK09': 328.09090909090907,\n",
       " 'BK23': 369.66666666666669,\n",
       " 'BK28': 282.88888888888891,\n",
       " 'BK37': 275.13333333333333,\n",
       " 'BK38': 431.69090909090903,\n",
       " 'BK41': 249.5,\n",
       " 'BK42': 600.0,\n",
       " 'BK44': 600.0,\n",
       " 'BK61': 657.35555555555561,\n",
       " 'BK68': 525.13333333333333,\n",
       " 'BK77': 360.90909090909093,\n",
       " 'BK78': 290.44444444444446,\n",
       " 'BK82': 301.0,\n",
       " 'BK95': 280.0,\n",
       " 'BX05': 506.60000000000002,\n",
       " 'BX10': 329.0,\n",
       " 'BX17': 600.0,\n",
       " 'BX27': 1049.625,\n",
       " 'BX29': 273.39999999999998,\n",
       " 'BX34': 236.16666666666666,\n",
       " 'BX44': 726.5,\n",
       " 'BX49': 279.71428571428572,\n",
       " 'BX63': 286.72413793103448,\n",
       " 'MN01': 140.0,\n",
       " 'MN11': 333.11111111111109,\n",
       " 'MN12': 600.0,\n",
       " 'MN13': 646.45238095238096,\n",
       " 'MN14': 872.9375,\n",
       " 'MN17': 2043.5505050505051,\n",
       " 'MN19': 789.58333333333337,\n",
       " 'MN20': 150.58333333333334,\n",
       " 'MN23': 600.66666666666674,\n",
       " 'MN24': 586.74285714285713,\n",
       " 'MN31': 69.5,\n",
       " 'MN34': 218.22222222222223,\n",
       " 'MN35': 600.0,\n",
       " 'MN36': 567.59090909090901,\n",
       " 'MN40': 209.0,\n",
       " 'QN15': 548.33333333333337,\n",
       " 'QN17': 400.0,\n",
       " 'QN29': 155.59999999999999,\n",
       " 'QN31': 733.33333333333326,\n",
       " 'QN60': 560.0,\n",
       " 'QN61': 410.49019607843138,\n",
       " 'QN68': 201.45454545454547,\n",
       " 'QN98': 600.0}"
      ]
     },
     "execution_count": 31,
     "metadata": {},
     "output_type": "execute_result"
    }
   ],
   "source": [
    "time_spent_scores = station_scores_to_neighborhood_data(time_spent_dict)\n",
    "time_spent_scores"
   ]
  },
  {
   "cell_type": "code",
   "execution_count": 32,
   "metadata": {
    "collapsed": true
   },
   "outputs": [],
   "source": [
    "# And, once again, enrich the original neighborhood_data geojson with neighborhood_score:\n",
    "for n in neighborhood_data['features']:\n",
    "    n_id=n['properties']['NTACode']\n",
    "    n['properties']['elevator_outage_score'] = time_spent_scores.get(n_id,0)\n",
    "\n",
    "#... and write it back out:\n",
    "with open('time_spent_scores.json','w') as outfile:\n",
    "    json.dump(neighborhood_data,outfile)"
   ]
  },
  {
   "cell_type": "code",
   "execution_count": null,
   "metadata": {
    "collapsed": true
   },
   "outputs": [],
   "source": []
  },
  {
   "cell_type": "code",
   "execution_count": null,
   "metadata": {
    "collapsed": true
   },
   "outputs": [],
   "source": []
  },
  {
   "cell_type": "code",
   "execution_count": null,
   "metadata": {
    "collapsed": false
   },
   "outputs": [],
   "source": [
    "# create a flag for 'OUTAGE'\n",
    "df['broken'] = pd.get_dummies(df['status'])['OUTAGE']\n",
    "df[['status', 'broken']].head()"
   ]
  },
  {
   "cell_type": "code",
   "execution_count": null,
   "metadata": {
    "collapsed": false
   },
   "outputs": [],
   "source": [
    "num_broken_df = df[['nyca_id', 'broken']].groupby('nyca_id').sum()\n",
    "num_broken_df.head()"
   ]
  },
  {
   "cell_type": "code",
   "execution_count": null,
   "metadata": {
    "collapsed": false
   },
   "outputs": [],
   "source": [
    "num_broken_df.describe()"
   ]
  },
  {
   "cell_type": "code",
   "execution_count": null,
   "metadata": {
    "collapsed": false,
    "scrolled": true
   },
   "outputs": [],
   "source": [
    "num_broken_dict = num_broken_df.to_dict()['broken']\n",
    "num_broken_dict"
   ]
  },
  {
   "cell_type": "code",
   "execution_count": null,
   "metadata": {
    "collapsed": false
   },
   "outputs": [],
   "source": [
    "num_broken_df.reset_index().head()"
   ]
  },
  {
   "cell_type": "code",
   "execution_count": null,
   "metadata": {
    "collapsed": false
   },
   "outputs": [],
   "source": []
  },
  {
   "cell_type": "code",
   "execution_count": null,
   "metadata": {
    "collapsed": true
   },
   "outputs": [],
   "source": []
  }
 ],
 "metadata": {
  "kernelspec": {
   "display_name": "Python 3",
   "language": "python",
   "name": "python3"
  },
  "language_info": {
   "codemirror_mode": {
    "name": "ipython",
    "version": 3
   },
   "file_extension": ".py",
   "mimetype": "text/x-python",
   "name": "python",
   "nbconvert_exporter": "python",
   "pygments_lexer": "ipython3",
   "version": "3.4.5"
  }
 },
 "nbformat": 4,
 "nbformat_minor": 2
}
