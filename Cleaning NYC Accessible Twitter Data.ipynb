{
 "cells": [
  {
   "cell_type": "markdown",
   "metadata": {},
   "source": [
    "# Cleaning NYC Accessible Twitter Data"
   ]
  },
  {
   "cell_type": "markdown",
   "metadata": {},
   "source": [
    "## Setup"
   ]
  },
  {
   "cell_type": "code",
   "execution_count": 1,
   "metadata": {
    "collapsed": true
   },
   "outputs": [],
   "source": [
    "import pandas as pd\n",
    "import re"
   ]
  },
  {
   "cell_type": "markdown",
   "metadata": {},
   "source": [
    "## Read in Data"
   ]
  },
  {
   "cell_type": "code",
   "execution_count": 2,
   "metadata": {
    "collapsed": false
   },
   "outputs": [
    {
     "data": {
      "text/plain": [
       "(3200, 2)"
      ]
     },
     "execution_count": 2,
     "metadata": {},
     "output_type": "execute_result"
    }
   ],
   "source": [
    "df = pd.read_csv('Data/nycoutages_tweets.csv')\n",
    "df.shape"
   ]
  },
  {
   "cell_type": "markdown",
   "metadata": {},
   "source": [
    "## Format Data"
   ]
  },
  {
   "cell_type": "code",
   "execution_count": 3,
   "metadata": {
    "collapsed": false
   },
   "outputs": [
    {
     "data": {
      "text/html": [
       "<div>\n",
       "<table border=\"1\" class=\"dataframe\">\n",
       "  <thead>\n",
       "    <tr style=\"text-align: right;\">\n",
       "      <th></th>\n",
       "      <th>tweet_id</th>\n",
       "      <th>text</th>\n",
       "    </tr>\n",
       "  </thead>\n",
       "  <tbody>\n",
       "    <tr>\n",
       "      <th>0</th>\n",
       "      <td>2017-04-01 15:18:55</td>\n",
       "      <td>FIXED: An escalator @ 59th St servicing Northb...</td>\n",
       "    </tr>\n",
       "    <tr>\n",
       "      <th>1</th>\n",
       "      <td>2017-04-01 15:18:49</td>\n",
       "      <td>OUTAGE: An elevator servicing Lower Mezzanine ...</td>\n",
       "    </tr>\n",
       "    <tr>\n",
       "      <th>2</th>\n",
       "      <td>2017-04-01 14:58:34</td>\n",
       "      <td>OUTAGE: An elevator servicing Mezzanine To Pla...</td>\n",
       "    </tr>\n",
       "    <tr>\n",
       "      <th>3</th>\n",
       "      <td>2017-04-01 14:28:50</td>\n",
       "      <td>OUTAGE: An escalator servicing Center Mezzanin...</td>\n",
       "    </tr>\n",
       "    <tr>\n",
       "      <th>4</th>\n",
       "      <td>2017-04-01 14:28:50</td>\n",
       "      <td>OUTAGE: An escalator servicing Lower Mezzanine...</td>\n",
       "    </tr>\n",
       "  </tbody>\n",
       "</table>\n",
       "</div>"
      ],
      "text/plain": [
       "              tweet_id                                               text\n",
       "0  2017-04-01 15:18:55  FIXED: An escalator @ 59th St servicing Northb...\n",
       "1  2017-04-01 15:18:49  OUTAGE: An elevator servicing Lower Mezzanine ...\n",
       "2  2017-04-01 14:58:34  OUTAGE: An elevator servicing Mezzanine To Pla...\n",
       "3  2017-04-01 14:28:50  OUTAGE: An escalator servicing Center Mezzanin...\n",
       "4  2017-04-01 14:28:50  OUTAGE: An escalator servicing Lower Mezzanine..."
      ]
     },
     "execution_count": 3,
     "metadata": {},
     "output_type": "execute_result"
    }
   ],
   "source": [
    "# reset index\n",
    "df.reset_index(drop = True, inplace = True)\n",
    "df.head()"
   ]
  },
  {
   "cell_type": "code",
   "execution_count": 4,
   "metadata": {
    "collapsed": false
   },
   "outputs": [
    {
     "data": {
      "text/html": [
       "<div>\n",
       "<table border=\"1\" class=\"dataframe\">\n",
       "  <thead>\n",
       "    <tr style=\"text-align: right;\">\n",
       "      <th></th>\n",
       "      <th>date</th>\n",
       "      <th>text</th>\n",
       "    </tr>\n",
       "  </thead>\n",
       "  <tbody>\n",
       "    <tr>\n",
       "      <th>0</th>\n",
       "      <td>2017-04-01 15:18:55</td>\n",
       "      <td>FIXED: An escalator @ 59th St servicing Northb...</td>\n",
       "    </tr>\n",
       "    <tr>\n",
       "      <th>1</th>\n",
       "      <td>2017-04-01 15:18:49</td>\n",
       "      <td>OUTAGE: An elevator servicing Lower Mezzanine ...</td>\n",
       "    </tr>\n",
       "    <tr>\n",
       "      <th>2</th>\n",
       "      <td>2017-04-01 14:58:34</td>\n",
       "      <td>OUTAGE: An elevator servicing Mezzanine To Pla...</td>\n",
       "    </tr>\n",
       "    <tr>\n",
       "      <th>3</th>\n",
       "      <td>2017-04-01 14:28:50</td>\n",
       "      <td>OUTAGE: An escalator servicing Center Mezzanin...</td>\n",
       "    </tr>\n",
       "    <tr>\n",
       "      <th>4</th>\n",
       "      <td>2017-04-01 14:28:50</td>\n",
       "      <td>OUTAGE: An escalator servicing Lower Mezzanine...</td>\n",
       "    </tr>\n",
       "  </tbody>\n",
       "</table>\n",
       "</div>"
      ],
      "text/plain": [
       "                  date                                               text\n",
       "0  2017-04-01 15:18:55  FIXED: An escalator @ 59th St servicing Northb...\n",
       "1  2017-04-01 15:18:49  OUTAGE: An elevator servicing Lower Mezzanine ...\n",
       "2  2017-04-01 14:58:34  OUTAGE: An elevator servicing Mezzanine To Pla...\n",
       "3  2017-04-01 14:28:50  OUTAGE: An escalator servicing Center Mezzanin...\n",
       "4  2017-04-01 14:28:50  OUTAGE: An escalator servicing Lower Mezzanine..."
      ]
     },
     "execution_count": 4,
     "metadata": {},
     "output_type": "execute_result"
    }
   ],
   "source": [
    "# rename date column\n",
    "df.rename(columns = {'tweet_id': 'date'}, inplace = True)\n",
    "df.head()"
   ]
  },
  {
   "cell_type": "code",
   "execution_count": 5,
   "metadata": {
    "collapsed": false
   },
   "outputs": [
    {
     "data": {
      "text/html": [
       "<div>\n",
       "<table border=\"1\" class=\"dataframe\">\n",
       "  <thead>\n",
       "    <tr style=\"text-align: right;\">\n",
       "      <th></th>\n",
       "      <th>date</th>\n",
       "      <th>date_date</th>\n",
       "    </tr>\n",
       "  </thead>\n",
       "  <tbody>\n",
       "    <tr>\n",
       "      <th>0</th>\n",
       "      <td>2017-04-01 15:18:55</td>\n",
       "      <td>2017-04-01 15:18:55</td>\n",
       "    </tr>\n",
       "    <tr>\n",
       "      <th>1</th>\n",
       "      <td>2017-04-01 15:18:49</td>\n",
       "      <td>2017-04-01 15:18:49</td>\n",
       "    </tr>\n",
       "    <tr>\n",
       "      <th>2</th>\n",
       "      <td>2017-04-01 14:58:34</td>\n",
       "      <td>2017-04-01 14:58:34</td>\n",
       "    </tr>\n",
       "    <tr>\n",
       "      <th>3</th>\n",
       "      <td>2017-04-01 14:28:50</td>\n",
       "      <td>2017-04-01 14:28:50</td>\n",
       "    </tr>\n",
       "    <tr>\n",
       "      <th>4</th>\n",
       "      <td>2017-04-01 14:28:50</td>\n",
       "      <td>2017-04-01 14:28:50</td>\n",
       "    </tr>\n",
       "  </tbody>\n",
       "</table>\n",
       "</div>"
      ],
      "text/plain": [
       "                  date           date_date\n",
       "0  2017-04-01 15:18:55 2017-04-01 15:18:55\n",
       "1  2017-04-01 15:18:49 2017-04-01 15:18:49\n",
       "2  2017-04-01 14:58:34 2017-04-01 14:58:34\n",
       "3  2017-04-01 14:28:50 2017-04-01 14:28:50\n",
       "4  2017-04-01 14:28:50 2017-04-01 14:28:50"
      ]
     },
     "execution_count": 5,
     "metadata": {},
     "output_type": "execute_result"
    }
   ],
   "source": [
    "# make date column as datetime format\n",
    "df['date_date'] = pd.to_datetime(df['date'])\n",
    "df[['date', 'date_date']].head()"
   ]
  },
  {
   "cell_type": "code",
   "execution_count": 6,
   "metadata": {
    "collapsed": false
   },
   "outputs": [
    {
     "data": {
      "text/html": [
       "<div>\n",
       "<table border=\"1\" class=\"dataframe\">\n",
       "  <thead>\n",
       "    <tr style=\"text-align: right;\">\n",
       "      <th></th>\n",
       "      <th>text</th>\n",
       "      <th>date</th>\n",
       "    </tr>\n",
       "  </thead>\n",
       "  <tbody>\n",
       "    <tr>\n",
       "      <th>0</th>\n",
       "      <td>FIXED: An escalator @ 59th St servicing Northb...</td>\n",
       "      <td>2017-04-01 15:18:55</td>\n",
       "    </tr>\n",
       "    <tr>\n",
       "      <th>1</th>\n",
       "      <td>OUTAGE: An elevator servicing Lower Mezzanine ...</td>\n",
       "      <td>2017-04-01 15:18:49</td>\n",
       "    </tr>\n",
       "    <tr>\n",
       "      <th>2</th>\n",
       "      <td>OUTAGE: An elevator servicing Mezzanine To Pla...</td>\n",
       "      <td>2017-04-01 14:58:34</td>\n",
       "    </tr>\n",
       "    <tr>\n",
       "      <th>3</th>\n",
       "      <td>OUTAGE: An escalator servicing Center Mezzanin...</td>\n",
       "      <td>2017-04-01 14:28:50</td>\n",
       "    </tr>\n",
       "    <tr>\n",
       "      <th>4</th>\n",
       "      <td>OUTAGE: An escalator servicing Lower Mezzanine...</td>\n",
       "      <td>2017-04-01 14:28:50</td>\n",
       "    </tr>\n",
       "  </tbody>\n",
       "</table>\n",
       "</div>"
      ],
      "text/plain": [
       "                                                text                date\n",
       "0  FIXED: An escalator @ 59th St servicing Northb... 2017-04-01 15:18:55\n",
       "1  OUTAGE: An elevator servicing Lower Mezzanine ... 2017-04-01 15:18:49\n",
       "2  OUTAGE: An elevator servicing Mezzanine To Pla... 2017-04-01 14:58:34\n",
       "3  OUTAGE: An escalator servicing Center Mezzanin... 2017-04-01 14:28:50\n",
       "4  OUTAGE: An escalator servicing Lower Mezzanine... 2017-04-01 14:28:50"
      ]
     },
     "execution_count": 6,
     "metadata": {},
     "output_type": "execute_result"
    }
   ],
   "source": [
    "df.drop('date', axis = 1, inplace = True)\n",
    "df.rename(columns = {'date_date': 'date'}, inplace = True)\n",
    "df.head()"
   ]
  },
  {
   "cell_type": "code",
   "execution_count": 7,
   "metadata": {
    "collapsed": false
   },
   "outputs": [
    {
     "data": {
      "text/html": [
       "<div>\n",
       "<table border=\"1\" class=\"dataframe\">\n",
       "  <thead>\n",
       "    <tr style=\"text-align: right;\">\n",
       "      <th></th>\n",
       "      <th>text</th>\n",
       "      <th>date</th>\n",
       "    </tr>\n",
       "  </thead>\n",
       "  <tbody>\n",
       "    <tr>\n",
       "      <th>0</th>\n",
       "      <td>FIXED: An escalator @ 59th St servicing Northb...</td>\n",
       "      <td>2017-04-01 15:18:55</td>\n",
       "    </tr>\n",
       "    <tr>\n",
       "      <th>1</th>\n",
       "      <td>OUTAGE: An elevator servicing Lower Mezzanine ...</td>\n",
       "      <td>2017-04-01 15:18:49</td>\n",
       "    </tr>\n",
       "    <tr>\n",
       "      <th>2</th>\n",
       "      <td>OUTAGE: An elevator servicing Mezzanine To Pla...</td>\n",
       "      <td>2017-04-01 14:58:34</td>\n",
       "    </tr>\n",
       "    <tr>\n",
       "      <th>3</th>\n",
       "      <td>OUTAGE: An escalator servicing Center Mezzanin...</td>\n",
       "      <td>2017-04-01 14:28:50</td>\n",
       "    </tr>\n",
       "    <tr>\n",
       "      <th>4</th>\n",
       "      <td>OUTAGE: An escalator servicing Lower Mezzanine...</td>\n",
       "      <td>2017-04-01 14:28:50</td>\n",
       "    </tr>\n",
       "  </tbody>\n",
       "</table>\n",
       "</div>"
      ],
      "text/plain": [
       "                                                text                date\n",
       "0  FIXED: An escalator @ 59th St servicing Northb... 2017-04-01 15:18:55\n",
       "1  OUTAGE: An elevator servicing Lower Mezzanine ... 2017-04-01 15:18:49\n",
       "2  OUTAGE: An elevator servicing Mezzanine To Pla... 2017-04-01 14:58:34\n",
       "3  OUTAGE: An escalator servicing Center Mezzanin... 2017-04-01 14:28:50\n",
       "4  OUTAGE: An escalator servicing Lower Mezzanine... 2017-04-01 14:28:50"
      ]
     },
     "execution_count": 7,
     "metadata": {},
     "output_type": "execute_result"
    }
   ],
   "source": [
    "df.head()"
   ]
  },
  {
   "cell_type": "markdown",
   "metadata": {},
   "source": [
    "## Take info out of 'text' column"
   ]
  },
  {
   "cell_type": "markdown",
   "metadata": {},
   "source": [
    "### take 'status'"
   ]
  },
  {
   "cell_type": "code",
   "execution_count": 8,
   "metadata": {
    "collapsed": true
   },
   "outputs": [],
   "source": [
    "def take_status(text_str):\n",
    "    text_split = text_str.split(': ')\n",
    "    if len(text_split) == 1: \n",
    "        status = ''\n",
    "        desc = text_str\n",
    "    else: \n",
    "        status = text_split[0]\n",
    "        desc = text_split[1]\n",
    "    return status, desc    "
   ]
  },
  {
   "cell_type": "code",
   "execution_count": 9,
   "metadata": {
    "collapsed": false
   },
   "outputs": [
    {
     "data": {
      "text/plain": [
       "0     FIXED\n",
       "1    OUTAGE\n",
       "2    OUTAGE\n",
       "3    OUTAGE\n",
       "4    OUTAGE\n",
       "Name: status, dtype: object"
      ]
     },
     "execution_count": 9,
     "metadata": {},
     "output_type": "execute_result"
    }
   ],
   "source": [
    "# take out whether FIXED or OUTAGE\n",
    "df['status'] = df['text'].apply(lambda x: take_status(x)[0])\n",
    "df['status'].head()"
   ]
  },
  {
   "cell_type": "code",
   "execution_count": 10,
   "metadata": {
    "collapsed": false
   },
   "outputs": [
    {
     "data": {
      "text/plain": [
       "0    An escalator @ 59th St servicing Northbound Ex...\n",
       "1    An elevator servicing Lower Mezzanine To Stree...\n",
       "2    An elevator servicing Mezzanine To Platforms @...\n",
       "3    An escalator servicing Center Mezzanine To Str...\n",
       "4    An escalator servicing Lower Mezzanine To Uppe...\n",
       "Name: desc, dtype: object"
      ]
     },
     "execution_count": 10,
     "metadata": {},
     "output_type": "execute_result"
    }
   ],
   "source": [
    "# take out the description\n",
    "df['desc'] = df['text'].apply(lambda x: take_status(x)[1])\n",
    "df['desc'].head()"
   ]
  },
  {
   "cell_type": "markdown",
   "metadata": {},
   "source": [
    "### Take equipment type (elevator/escalator)"
   ]
  },
  {
   "cell_type": "code",
   "execution_count": 11,
   "metadata": {
    "collapsed": true
   },
   "outputs": [],
   "source": [
    "def take_eq_type(txt): \n",
    "    txt_split = txt.split(' ')\n",
    "    if (txt[:1] == 'A') | (txt[:1] == 'T'): \n",
    "        eq_type = txt_split[0] + ' ' + txt_split[1]\n",
    "    else: \n",
    "        eq_type = ''\n",
    "    return eq_type"
   ]
  },
  {
   "cell_type": "code",
   "execution_count": 12,
   "metadata": {
    "collapsed": false
   },
   "outputs": [
    {
     "data": {
      "text/plain": [
       "0    An escalator\n",
       "1     An elevator\n",
       "2     An elevator\n",
       "3    An escalator\n",
       "4    An escalator\n",
       "Name: human_eq_type, dtype: object"
      ]
     },
     "execution_count": 12,
     "metadata": {},
     "output_type": "execute_result"
    }
   ],
   "source": [
    "df['human_eq_type'] = df['desc'].apply(take_eq_type)\n",
    "df['human_eq_type'].head()"
   ]
  },
  {
   "cell_type": "code",
   "execution_count": 13,
   "metadata": {
    "collapsed": false
   },
   "outputs": [
    {
     "data": {
      "text/plain": [
       "An escalator     1759\n",
       "An elevator      1329\n",
       "That elevator     112\n",
       "Name: human_eq_type, dtype: int64"
      ]
     },
     "execution_count": 13,
     "metadata": {},
     "output_type": "execute_result"
    }
   ],
   "source": [
    "df['human_eq_type'].value_counts()"
   ]
  },
  {
   "cell_type": "markdown",
   "metadata": {},
   "source": [
    "### Take status from text ending"
   ]
  },
  {
   "cell_type": "code",
   "execution_count": 14,
   "metadata": {
    "collapsed": true
   },
   "outputs": [],
   "source": [
    "# take out the ending\n",
    "def take_ending(txt): \n",
    "    end = txt.split(' is ')\n",
    "    if len(end) > 1: \n",
    "        return end[0], end[1].strip('. ')\n",
    "    else: \n",
    "        return txt, ''"
   ]
  },
  {
   "cell_type": "code",
   "execution_count": 15,
   "metadata": {
    "collapsed": false
   },
   "outputs": [
    {
     "data": {
      "text/plain": [
       "0        in service\n",
       "1    out of service\n",
       "2    out of service\n",
       "3    out of service\n",
       "4    out of service\n",
       "Name: ending, dtype: object"
      ]
     },
     "execution_count": 15,
     "metadata": {},
     "output_type": "execute_result"
    }
   ],
   "source": [
    "df['ending'] = df['desc'].apply(lambda x: take_ending(x)[1])\n",
    "df['ending'].head()"
   ]
  },
  {
   "cell_type": "code",
   "execution_count": 16,
   "metadata": {
    "collapsed": false
   },
   "outputs": [
    {
     "data": {
      "text/plain": [
       "0    An escalator @ 59th St servicing Northbound Ex...\n",
       "1    An elevator servicing Lower Mezzanine To Street @\n",
       "2       An elevator servicing Mezzanine To Platforms @\n",
       "3    An escalator servicing Center Mezzanine To Str...\n",
       "4    An escalator servicing Lower Mezzanine To Uppe...\n",
       "Name: desc, dtype: object"
      ]
     },
     "execution_count": 16,
     "metadata": {},
     "output_type": "execute_result"
    }
   ],
   "source": [
    "# update description without ending\n",
    "df['desc'] = df['desc'].apply(lambda x: take_ending(x)[0].strip())\n",
    "df['desc'].head()"
   ]
  },
  {
   "cell_type": "markdown",
   "metadata": {},
   "source": [
    "### name, servicing, location"
   ]
  },
  {
   "cell_type": "code",
   "execution_count": 17,
   "metadata": {
    "collapsed": true
   },
   "outputs": [],
   "source": [
    "def take_name(txt):\n",
    "    name = txt.split('@')\n",
    "    if len(name) > 1: \n",
    "        return name[0].strip(), name[1].strip()\n",
    "    else: \n",
    "        return txt, ''"
   ]
  },
  {
   "cell_type": "code",
   "execution_count": 18,
   "metadata": {
    "collapsed": true
   },
   "outputs": [],
   "source": [
    "def take_svc(txt): \n",
    "    src_word = ''\n",
    "    if re.search('servicing', txt):\n",
    "        src_word = 'servicing'\n",
    "    elif re.search('services', txt):\n",
    "        src_word = 'services'\n",
    "    \n",
    "    if src_word != '': \n",
    "        svc = txt.split(src_word)\n",
    "        return svc[0].strip(), svc[1].strip()\n",
    "    else: \n",
    "        return txt, ''"
   ]
  },
  {
   "cell_type": "code",
   "execution_count": 19,
   "metadata": {
    "collapsed": true
   },
   "outputs": [],
   "source": [
    "def take_loc(txt):\n",
    "    if re.search('\\(.*\\)', txt):\n",
    "        location = re.findall('\\((.*)\\)', txt)[0]\n",
    "        non_loc = re.sub(r'\\([^)]*\\)', '', txt)\n",
    "    else: \n",
    "        location = ''\n",
    "        non_loc = txt.strip()\n",
    "    return non_loc.strip(') '), location.strip()"
   ]
  },
  {
   "cell_type": "code",
   "execution_count": 20,
   "metadata": {
    "collapsed": false
   },
   "outputs": [
    {
     "data": {
      "text/plain": [
       "0                                           59th St\n",
       "1                                                  \n",
       "2                                                  \n",
       "3                                  Roosevelt Island\n",
       "4    Jackson Hts - Roosevelt Av, 74th St - Broadway\n",
       "Name: name, dtype: object"
      ]
     },
     "execution_count": 20,
     "metadata": {},
     "output_type": "execute_result"
    }
   ],
   "source": [
    "# take name from 'desc'\n",
    "df['name'] = df['desc'].apply(lambda x: take_name(x)[1]).apply(lambda x: take_svc(x)[0])\n",
    "df['name'].head()"
   ]
  },
  {
   "cell_type": "code",
   "execution_count": 21,
   "metadata": {
    "collapsed": false,
    "scrolled": true
   },
   "outputs": [
    {
     "data": {
      "text/plain": [
       "0    Northbound Express Platform To Northbound Loca...\n",
       "1                            Lower Mezzanine To Street\n",
       "2                               Mezzanine To Platforms\n",
       "3                           Center Mezzanine To Street\n",
       "4                   Lower Mezzanine To Upper Mezzanine\n",
       "Name: serving, dtype: object"
      ]
     },
     "execution_count": 21,
     "metadata": {},
     "output_type": "execute_result"
    }
   ],
   "source": [
    "# take servicing from 'desc'\n",
    "df['serving'] = df['desc'].apply(lambda x: take_svc(x)[1]).apply(lambda x: take_name(x)[0])\n",
    "df['serving'].head()"
   ]
  },
  {
   "cell_type": "code",
   "execution_count": 22,
   "metadata": {
    "collapsed": false,
    "scrolled": true
   },
   "outputs": [
    {
     "data": {
      "text/html": [
       "<div>\n",
       "<table border=\"1\" class=\"dataframe\">\n",
       "  <thead>\n",
       "    <tr style=\"text-align: right;\">\n",
       "      <th></th>\n",
       "      <th>text</th>\n",
       "      <th>date</th>\n",
       "      <th>status</th>\n",
       "      <th>desc</th>\n",
       "      <th>human_eq_type</th>\n",
       "      <th>ending</th>\n",
       "      <th>name</th>\n",
       "      <th>serving</th>\n",
       "      <th>location</th>\n",
       "    </tr>\n",
       "  </thead>\n",
       "  <tbody>\n",
       "    <tr>\n",
       "      <th>7</th>\n",
       "      <td>OUTAGE: An elevator @ Forest Hills - 71st Av (...</td>\n",
       "      <td>2017-04-01 14:09:13</td>\n",
       "      <td>OUTAGE</td>\n",
       "      <td>An elevator @ Forest Hills - 71st Av (South si...</td>\n",
       "      <td>An elevator</td>\n",
       "      <td>out of service</td>\n",
       "      <td>Forest Hills - 71st Av</td>\n",
       "      <td></td>\n",
       "      <td>South side of Queens Boulevard between 70th Ro...</td>\n",
       "    </tr>\n",
       "    <tr>\n",
       "      <th>19</th>\n",
       "      <td>FIXED: An elevator @ 34th St - Penn Station (S...</td>\n",
       "      <td>2017-04-01 09:38:50</td>\n",
       "      <td>FIXED</td>\n",
       "      <td>An elevator @ 34th St - Penn Station (SE corne...</td>\n",
       "      <td>An elevator</td>\n",
       "      <td>back in service</td>\n",
       "      <td>34th St - Penn Station</td>\n",
       "      <td></td>\n",
       "      <td>SE corner of 34th Street and Eighth Avenue</td>\n",
       "    </tr>\n",
       "    <tr>\n",
       "      <th>22</th>\n",
       "      <td>FIXED: An elevator @ 125th St (NE corner of 12...</td>\n",
       "      <td>2017-04-01 09:28:32</td>\n",
       "      <td>FIXED</td>\n",
       "      <td>An elevator @ 125th St (NE corner of 125th Str...</td>\n",
       "      <td>An elevator</td>\n",
       "      <td>in service</td>\n",
       "      <td>125th St</td>\n",
       "      <td>Street To Mezzanine</td>\n",
       "      <td>NE corner of 125th Street and Lexington Avenue</td>\n",
       "    </tr>\n",
       "    <tr>\n",
       "      <th>34</th>\n",
       "      <td>FIXED: An elevator @ Jackson Hts - Roosevelt A...</td>\n",
       "      <td>2017-04-01 08:48:50</td>\n",
       "      <td>FIXED</td>\n",
       "      <td>An elevator @ Jackson Hts - Roosevelt Av&amp;amp; ...</td>\n",
       "      <td>An elevator</td>\n",
       "      <td>back in service</td>\n",
       "      <td>Jackson Hts - Roosevelt Av&amp;amp; 74th St - Broa...</td>\n",
       "      <td></td>\n",
       "      <td>Roosevelt Avenue between 74th and 75th Streets</td>\n",
       "    </tr>\n",
       "    <tr>\n",
       "      <th>36</th>\n",
       "      <td>FIXED: An elevator @ Far Rockaway - Mott Ave (...</td>\n",
       "      <td>2017-04-01 08:08:29</td>\n",
       "      <td>FIXED</td>\n",
       "      <td>An elevator @ Far Rockaway - Mott Ave (Corner ...</td>\n",
       "      <td>An elevator</td>\n",
       "      <td>back in service</td>\n",
       "      <td>Far Rockaway - Mott Ave</td>\n",
       "      <td></td>\n",
       "      <td>Corner of Mott Avenue and Beach 22nd Street (I...</td>\n",
       "    </tr>\n",
       "  </tbody>\n",
       "</table>\n",
       "</div>"
      ],
      "text/plain": [
       "                                                 text                date  \\\n",
       "7   OUTAGE: An elevator @ Forest Hills - 71st Av (... 2017-04-01 14:09:13   \n",
       "19  FIXED: An elevator @ 34th St - Penn Station (S... 2017-04-01 09:38:50   \n",
       "22  FIXED: An elevator @ 125th St (NE corner of 12... 2017-04-01 09:28:32   \n",
       "34  FIXED: An elevator @ Jackson Hts - Roosevelt A... 2017-04-01 08:48:50   \n",
       "36  FIXED: An elevator @ Far Rockaway - Mott Ave (... 2017-04-01 08:08:29   \n",
       "\n",
       "    status                                               desc human_eq_type  \\\n",
       "7   OUTAGE  An elevator @ Forest Hills - 71st Av (South si...   An elevator   \n",
       "19   FIXED  An elevator @ 34th St - Penn Station (SE corne...   An elevator   \n",
       "22   FIXED  An elevator @ 125th St (NE corner of 125th Str...   An elevator   \n",
       "34   FIXED  An elevator @ Jackson Hts - Roosevelt Av&amp; ...   An elevator   \n",
       "36   FIXED  An elevator @ Far Rockaway - Mott Ave (Corner ...   An elevator   \n",
       "\n",
       "             ending                                               name  \\\n",
       "7    out of service                             Forest Hills - 71st Av   \n",
       "19  back in service                             34th St - Penn Station   \n",
       "22       in service                                           125th St   \n",
       "34  back in service  Jackson Hts - Roosevelt Av&amp; 74th St - Broa...   \n",
       "36  back in service                            Far Rockaway - Mott Ave   \n",
       "\n",
       "                serving                                           location  \n",
       "7                        South side of Queens Boulevard between 70th Ro...  \n",
       "19                              SE corner of 34th Street and Eighth Avenue  \n",
       "22  Street To Mezzanine     NE corner of 125th Street and Lexington Avenue  \n",
       "34                          Roosevelt Avenue between 74th and 75th Streets  \n",
       "36                       Corner of Mott Avenue and Beach 22nd Street (I...  "
      ]
     },
     "execution_count": 22,
     "metadata": {},
     "output_type": "execute_result"
    }
   ],
   "source": [
    "# take location from 'name'\n",
    "df['location'] = df['name'].apply(lambda x: take_loc(x)[1])\n",
    "df['name'] = df['name'].apply(lambda x: take_loc(x)[0])\n",
    "df[df['location'] != ''].head()"
   ]
  },
  {
   "cell_type": "code",
   "execution_count": 23,
   "metadata": {
    "collapsed": false,
    "scrolled": true
   },
   "outputs": [
    {
     "data": {
      "text/html": [
       "<div>\n",
       "<table border=\"1\" class=\"dataframe\">\n",
       "  <thead>\n",
       "    <tr style=\"text-align: right;\">\n",
       "      <th></th>\n",
       "      <th>text</th>\n",
       "      <th>date</th>\n",
       "      <th>status</th>\n",
       "      <th>desc</th>\n",
       "      <th>human_eq_type</th>\n",
       "      <th>ending</th>\n",
       "      <th>name</th>\n",
       "      <th>serving</th>\n",
       "      <th>location</th>\n",
       "    </tr>\n",
       "  </thead>\n",
       "  <tbody>\n",
       "    <tr>\n",
       "      <th>0</th>\n",
       "      <td>FIXED: An escalator @ 59th St servicing Northb...</td>\n",
       "      <td>2017-04-01 15:18:55</td>\n",
       "      <td>FIXED</td>\n",
       "      <td>An escalator @ 59th St servicing Northbound Ex...</td>\n",
       "      <td>An escalator</td>\n",
       "      <td>in service</td>\n",
       "      <td>59th St</td>\n",
       "      <td>Northbound Express Platform To Northbound Loca...</td>\n",
       "      <td></td>\n",
       "    </tr>\n",
       "    <tr>\n",
       "      <th>1</th>\n",
       "      <td>OUTAGE: An elevator servicing Lower Mezzanine ...</td>\n",
       "      <td>2017-04-01 15:18:49</td>\n",
       "      <td>OUTAGE</td>\n",
       "      <td>An elevator servicing Lower Mezzanine To Street @</td>\n",
       "      <td>An elevator</td>\n",
       "      <td>out of service</td>\n",
       "      <td></td>\n",
       "      <td>Lower Mezzanine To Street</td>\n",
       "      <td></td>\n",
       "    </tr>\n",
       "    <tr>\n",
       "      <th>2</th>\n",
       "      <td>OUTAGE: An elevator servicing Mezzanine To Pla...</td>\n",
       "      <td>2017-04-01 14:58:34</td>\n",
       "      <td>OUTAGE</td>\n",
       "      <td>An elevator servicing Mezzanine To Platforms @</td>\n",
       "      <td>An elevator</td>\n",
       "      <td>out of service</td>\n",
       "      <td></td>\n",
       "      <td>Mezzanine To Platforms</td>\n",
       "      <td></td>\n",
       "    </tr>\n",
       "    <tr>\n",
       "      <th>3</th>\n",
       "      <td>OUTAGE: An escalator servicing Center Mezzanin...</td>\n",
       "      <td>2017-04-01 14:28:50</td>\n",
       "      <td>OUTAGE</td>\n",
       "      <td>An escalator servicing Center Mezzanine To Str...</td>\n",
       "      <td>An escalator</td>\n",
       "      <td>out of service</td>\n",
       "      <td>Roosevelt Island</td>\n",
       "      <td>Center Mezzanine To Street</td>\n",
       "      <td></td>\n",
       "    </tr>\n",
       "    <tr>\n",
       "      <th>4</th>\n",
       "      <td>OUTAGE: An escalator servicing Lower Mezzanine...</td>\n",
       "      <td>2017-04-01 14:28:50</td>\n",
       "      <td>OUTAGE</td>\n",
       "      <td>An escalator servicing Lower Mezzanine To Uppe...</td>\n",
       "      <td>An escalator</td>\n",
       "      <td>out of service</td>\n",
       "      <td>Jackson Hts - Roosevelt Av, 74th St - Broadway</td>\n",
       "      <td>Lower Mezzanine To Upper Mezzanine</td>\n",
       "      <td></td>\n",
       "    </tr>\n",
       "    <tr>\n",
       "      <th>5</th>\n",
       "      <td>OUTAGE: An escalator servicing Northbound Ll P...</td>\n",
       "      <td>2017-04-01 14:09:14</td>\n",
       "      <td>OUTAGE</td>\n",
       "      <td>An escalator servicing Northbound Ll Platform ...</td>\n",
       "      <td>An escalator</td>\n",
       "      <td>out of service</td>\n",
       "      <td>W 4th St - Washington Sq</td>\n",
       "      <td>Northbound Ll Platform To Northbound Ul Platform</td>\n",
       "      <td></td>\n",
       "    </tr>\n",
       "    <tr>\n",
       "      <th>6</th>\n",
       "      <td>That elevator services Street To Mezzanine All...</td>\n",
       "      <td>2017-04-01 14:09:14</td>\n",
       "      <td></td>\n",
       "      <td>That elevator services Street To Mezzanine All...</td>\n",
       "      <td>That elevator</td>\n",
       "      <td></td>\n",
       "      <td></td>\n",
       "      <td>Street To Mezzanine All Trains</td>\n",
       "      <td></td>\n",
       "    </tr>\n",
       "    <tr>\n",
       "      <th>7</th>\n",
       "      <td>OUTAGE: An elevator @ Forest Hills - 71st Av (...</td>\n",
       "      <td>2017-04-01 14:09:13</td>\n",
       "      <td>OUTAGE</td>\n",
       "      <td>An elevator @ Forest Hills - 71st Av (South si...</td>\n",
       "      <td>An elevator</td>\n",
       "      <td>out of service</td>\n",
       "      <td>Forest Hills - 71st Av</td>\n",
       "      <td></td>\n",
       "      <td>South side of Queens Boulevard between 70th Ro...</td>\n",
       "    </tr>\n",
       "    <tr>\n",
       "      <th>8</th>\n",
       "      <td>OUTAGE: An escalator servicing Mezzanine To St...</td>\n",
       "      <td>2017-04-01 14:09:13</td>\n",
       "      <td>OUTAGE</td>\n",
       "      <td>An escalator servicing Mezzanine To Street @ D...</td>\n",
       "      <td>An escalator</td>\n",
       "      <td>out of service</td>\n",
       "      <td>Delancey St - Essex St</td>\n",
       "      <td>Mezzanine To Street</td>\n",
       "      <td></td>\n",
       "    </tr>\n",
       "    <tr>\n",
       "      <th>9</th>\n",
       "      <td>OUTAGE: An escalator servicing Northbound Expr...</td>\n",
       "      <td>2017-04-01 13:38:42</td>\n",
       "      <td>OUTAGE</td>\n",
       "      <td>An escalator servicing Northbound Express Plat...</td>\n",
       "      <td>An escalator</td>\n",
       "      <td>out of service</td>\n",
       "      <td>59th St</td>\n",
       "      <td>Northbound Express Platform To Northbound Loca...</td>\n",
       "      <td></td>\n",
       "    </tr>\n",
       "  </tbody>\n",
       "</table>\n",
       "</div>"
      ],
      "text/plain": [
       "                                                text                date  \\\n",
       "0  FIXED: An escalator @ 59th St servicing Northb... 2017-04-01 15:18:55   \n",
       "1  OUTAGE: An elevator servicing Lower Mezzanine ... 2017-04-01 15:18:49   \n",
       "2  OUTAGE: An elevator servicing Mezzanine To Pla... 2017-04-01 14:58:34   \n",
       "3  OUTAGE: An escalator servicing Center Mezzanin... 2017-04-01 14:28:50   \n",
       "4  OUTAGE: An escalator servicing Lower Mezzanine... 2017-04-01 14:28:50   \n",
       "5  OUTAGE: An escalator servicing Northbound Ll P... 2017-04-01 14:09:14   \n",
       "6  That elevator services Street To Mezzanine All... 2017-04-01 14:09:14   \n",
       "7  OUTAGE: An elevator @ Forest Hills - 71st Av (... 2017-04-01 14:09:13   \n",
       "8  OUTAGE: An escalator servicing Mezzanine To St... 2017-04-01 14:09:13   \n",
       "9  OUTAGE: An escalator servicing Northbound Expr... 2017-04-01 13:38:42   \n",
       "\n",
       "   status                                               desc  human_eq_type  \\\n",
       "0   FIXED  An escalator @ 59th St servicing Northbound Ex...   An escalator   \n",
       "1  OUTAGE  An elevator servicing Lower Mezzanine To Street @    An elevator   \n",
       "2  OUTAGE     An elevator servicing Mezzanine To Platforms @    An elevator   \n",
       "3  OUTAGE  An escalator servicing Center Mezzanine To Str...   An escalator   \n",
       "4  OUTAGE  An escalator servicing Lower Mezzanine To Uppe...   An escalator   \n",
       "5  OUTAGE  An escalator servicing Northbound Ll Platform ...   An escalator   \n",
       "6          That elevator services Street To Mezzanine All...  That elevator   \n",
       "7  OUTAGE  An elevator @ Forest Hills - 71st Av (South si...    An elevator   \n",
       "8  OUTAGE  An escalator servicing Mezzanine To Street @ D...   An escalator   \n",
       "9  OUTAGE  An escalator servicing Northbound Express Plat...   An escalator   \n",
       "\n",
       "           ending                                            name  \\\n",
       "0      in service                                         59th St   \n",
       "1  out of service                                                   \n",
       "2  out of service                                                   \n",
       "3  out of service                                Roosevelt Island   \n",
       "4  out of service  Jackson Hts - Roosevelt Av, 74th St - Broadway   \n",
       "5  out of service                        W 4th St - Washington Sq   \n",
       "6                                                                   \n",
       "7  out of service                          Forest Hills - 71st Av   \n",
       "8  out of service                          Delancey St - Essex St   \n",
       "9  out of service                                         59th St   \n",
       "\n",
       "                                             serving  \\\n",
       "0  Northbound Express Platform To Northbound Loca...   \n",
       "1                          Lower Mezzanine To Street   \n",
       "2                             Mezzanine To Platforms   \n",
       "3                         Center Mezzanine To Street   \n",
       "4                 Lower Mezzanine To Upper Mezzanine   \n",
       "5   Northbound Ll Platform To Northbound Ul Platform   \n",
       "6                     Street To Mezzanine All Trains   \n",
       "7                                                      \n",
       "8                                Mezzanine To Street   \n",
       "9  Northbound Express Platform To Northbound Loca...   \n",
       "\n",
       "                                            location  \n",
       "0                                                     \n",
       "1                                                     \n",
       "2                                                     \n",
       "3                                                     \n",
       "4                                                     \n",
       "5                                                     \n",
       "6                                                     \n",
       "7  South side of Queens Boulevard between 70th Ro...  \n",
       "8                                                     \n",
       "9                                                     "
      ]
     },
     "execution_count": 23,
     "metadata": {},
     "output_type": "execute_result"
    }
   ],
   "source": [
    "# take out servicing from name\n",
    "df.head(10)   "
   ]
  },
  {
   "cell_type": "markdown",
   "metadata": {},
   "source": [
    "### Get the sevice information from 'that elevator'"
   ]
  },
  {
   "cell_type": "code",
   "execution_count": 24,
   "metadata": {
    "collapsed": false
   },
   "outputs": [
    {
     "data": {
      "text/html": [
       "<div>\n",
       "<table border=\"1\" class=\"dataframe\">\n",
       "  <thead>\n",
       "    <tr style=\"text-align: right;\">\n",
       "      <th></th>\n",
       "      <th>serving</th>\n",
       "      <th>serving_lag</th>\n",
       "    </tr>\n",
       "  </thead>\n",
       "  <tbody>\n",
       "    <tr>\n",
       "      <th>0</th>\n",
       "      <td>Northbound Express Platform To Northbound Loca...</td>\n",
       "      <td>NaN</td>\n",
       "    </tr>\n",
       "    <tr>\n",
       "      <th>1</th>\n",
       "      <td>Lower Mezzanine To Street</td>\n",
       "      <td>Northbound Express Platform To Northbound Loca...</td>\n",
       "    </tr>\n",
       "    <tr>\n",
       "      <th>2</th>\n",
       "      <td>Mezzanine To Platforms</td>\n",
       "      <td>Lower Mezzanine To Street</td>\n",
       "    </tr>\n",
       "    <tr>\n",
       "      <th>3</th>\n",
       "      <td>Center Mezzanine To Street</td>\n",
       "      <td>Mezzanine To Platforms</td>\n",
       "    </tr>\n",
       "    <tr>\n",
       "      <th>4</th>\n",
       "      <td>Lower Mezzanine To Upper Mezzanine</td>\n",
       "      <td>Center Mezzanine To Street</td>\n",
       "    </tr>\n",
       "  </tbody>\n",
       "</table>\n",
       "</div>"
      ],
      "text/plain": [
       "                                             serving  \\\n",
       "0  Northbound Express Platform To Northbound Loca...   \n",
       "1                          Lower Mezzanine To Street   \n",
       "2                             Mezzanine To Platforms   \n",
       "3                         Center Mezzanine To Street   \n",
       "4                 Lower Mezzanine To Upper Mezzanine   \n",
       "\n",
       "                                         serving_lag  \n",
       "0                                                NaN  \n",
       "1  Northbound Express Platform To Northbound Loca...  \n",
       "2                          Lower Mezzanine To Street  \n",
       "3                             Mezzanine To Platforms  \n",
       "4                         Center Mezzanine To Street  "
      ]
     },
     "execution_count": 24,
     "metadata": {},
     "output_type": "execute_result"
    }
   ],
   "source": [
    "# assign lag to 'serving'\n",
    "df['serving_lag'] = df['serving'].shift()\n",
    "df[['serving', 'serving_lag']].head()"
   ]
  },
  {
   "cell_type": "code",
   "execution_count": 25,
   "metadata": {
    "collapsed": false
   },
   "outputs": [
    {
     "data": {
      "text/html": [
       "<div>\n",
       "<table border=\"1\" class=\"dataframe\">\n",
       "  <thead>\n",
       "    <tr style=\"text-align: right;\">\n",
       "      <th></th>\n",
       "      <th>human_eq_type</th>\n",
       "      <th>human_eq_type_lag</th>\n",
       "    </tr>\n",
       "  </thead>\n",
       "  <tbody>\n",
       "    <tr>\n",
       "      <th>0</th>\n",
       "      <td>An escalator</td>\n",
       "      <td>NaN</td>\n",
       "    </tr>\n",
       "    <tr>\n",
       "      <th>1</th>\n",
       "      <td>An elevator</td>\n",
       "      <td>An escalator</td>\n",
       "    </tr>\n",
       "    <tr>\n",
       "      <th>2</th>\n",
       "      <td>An elevator</td>\n",
       "      <td>An elevator</td>\n",
       "    </tr>\n",
       "    <tr>\n",
       "      <th>3</th>\n",
       "      <td>An escalator</td>\n",
       "      <td>An elevator</td>\n",
       "    </tr>\n",
       "    <tr>\n",
       "      <th>4</th>\n",
       "      <td>An escalator</td>\n",
       "      <td>An escalator</td>\n",
       "    </tr>\n",
       "  </tbody>\n",
       "</table>\n",
       "</div>"
      ],
      "text/plain": [
       "  human_eq_type human_eq_type_lag\n",
       "0  An escalator               NaN\n",
       "1   An elevator      An escalator\n",
       "2   An elevator       An elevator\n",
       "3  An escalator       An elevator\n",
       "4  An escalator      An escalator"
      ]
     },
     "execution_count": 25,
     "metadata": {},
     "output_type": "execute_result"
    }
   ],
   "source": [
    "df['human_eq_type_lag'] = df['human_eq_type'].shift()\n",
    "df[['human_eq_type', 'human_eq_type_lag']].head()"
   ]
  },
  {
   "cell_type": "code",
   "execution_count": 26,
   "metadata": {
    "collapsed": false
   },
   "outputs": [],
   "source": [
    "def get_svc_from_lag(row):\n",
    "    if (row['human_eq_type'] == 'An elevator') & (row['human_eq_type_lag'] == 'That elevator'):\n",
    "        row['serving'] = row['serving_lag']\n",
    "    return row"
   ]
  },
  {
   "cell_type": "code",
   "execution_count": 27,
   "metadata": {
    "collapsed": false,
    "scrolled": true
   },
   "outputs": [
    {
     "data": {
      "text/html": [
       "<div>\n",
       "<table border=\"1\" class=\"dataframe\">\n",
       "  <thead>\n",
       "    <tr style=\"text-align: right;\">\n",
       "      <th></th>\n",
       "      <th>text</th>\n",
       "      <th>date</th>\n",
       "      <th>status</th>\n",
       "      <th>desc</th>\n",
       "      <th>human_eq_type</th>\n",
       "      <th>ending</th>\n",
       "      <th>name</th>\n",
       "      <th>serving</th>\n",
       "      <th>location</th>\n",
       "      <th>serving_lag</th>\n",
       "      <th>human_eq_type_lag</th>\n",
       "    </tr>\n",
       "  </thead>\n",
       "  <tbody>\n",
       "    <tr>\n",
       "      <th>0</th>\n",
       "      <td>FIXED: An escalator @ 59th St servicing Northb...</td>\n",
       "      <td>2017-04-01 15:18:55</td>\n",
       "      <td>FIXED</td>\n",
       "      <td>An escalator @ 59th St servicing Northbound Ex...</td>\n",
       "      <td>An escalator</td>\n",
       "      <td>in service</td>\n",
       "      <td>59th St</td>\n",
       "      <td>Northbound Express Platform To Northbound Loca...</td>\n",
       "      <td></td>\n",
       "      <td>NaN</td>\n",
       "      <td>NaN</td>\n",
       "    </tr>\n",
       "    <tr>\n",
       "      <th>1</th>\n",
       "      <td>OUTAGE: An elevator servicing Lower Mezzanine ...</td>\n",
       "      <td>2017-04-01 15:18:49</td>\n",
       "      <td>OUTAGE</td>\n",
       "      <td>An elevator servicing Lower Mezzanine To Street @</td>\n",
       "      <td>An elevator</td>\n",
       "      <td>out of service</td>\n",
       "      <td></td>\n",
       "      <td>Lower Mezzanine To Street</td>\n",
       "      <td></td>\n",
       "      <td>Northbound Express Platform To Northbound Loca...</td>\n",
       "      <td>An escalator</td>\n",
       "    </tr>\n",
       "    <tr>\n",
       "      <th>2</th>\n",
       "      <td>OUTAGE: An elevator servicing Mezzanine To Pla...</td>\n",
       "      <td>2017-04-01 14:58:34</td>\n",
       "      <td>OUTAGE</td>\n",
       "      <td>An elevator servicing Mezzanine To Platforms @</td>\n",
       "      <td>An elevator</td>\n",
       "      <td>out of service</td>\n",
       "      <td></td>\n",
       "      <td>Mezzanine To Platforms</td>\n",
       "      <td></td>\n",
       "      <td>Lower Mezzanine To Street</td>\n",
       "      <td>An elevator</td>\n",
       "    </tr>\n",
       "    <tr>\n",
       "      <th>3</th>\n",
       "      <td>OUTAGE: An escalator servicing Center Mezzanin...</td>\n",
       "      <td>2017-04-01 14:28:50</td>\n",
       "      <td>OUTAGE</td>\n",
       "      <td>An escalator servicing Center Mezzanine To Str...</td>\n",
       "      <td>An escalator</td>\n",
       "      <td>out of service</td>\n",
       "      <td>Roosevelt Island</td>\n",
       "      <td>Center Mezzanine To Street</td>\n",
       "      <td></td>\n",
       "      <td>Mezzanine To Platforms</td>\n",
       "      <td>An elevator</td>\n",
       "    </tr>\n",
       "    <tr>\n",
       "      <th>4</th>\n",
       "      <td>OUTAGE: An escalator servicing Lower Mezzanine...</td>\n",
       "      <td>2017-04-01 14:28:50</td>\n",
       "      <td>OUTAGE</td>\n",
       "      <td>An escalator servicing Lower Mezzanine To Uppe...</td>\n",
       "      <td>An escalator</td>\n",
       "      <td>out of service</td>\n",
       "      <td>Jackson Hts - Roosevelt Av, 74th St - Broadway</td>\n",
       "      <td>Lower Mezzanine To Upper Mezzanine</td>\n",
       "      <td></td>\n",
       "      <td>Center Mezzanine To Street</td>\n",
       "      <td>An escalator</td>\n",
       "    </tr>\n",
       "    <tr>\n",
       "      <th>5</th>\n",
       "      <td>OUTAGE: An escalator servicing Northbound Ll P...</td>\n",
       "      <td>2017-04-01 14:09:14</td>\n",
       "      <td>OUTAGE</td>\n",
       "      <td>An escalator servicing Northbound Ll Platform ...</td>\n",
       "      <td>An escalator</td>\n",
       "      <td>out of service</td>\n",
       "      <td>W 4th St - Washington Sq</td>\n",
       "      <td>Northbound Ll Platform To Northbound Ul Platform</td>\n",
       "      <td></td>\n",
       "      <td>Lower Mezzanine To Upper Mezzanine</td>\n",
       "      <td>An escalator</td>\n",
       "    </tr>\n",
       "    <tr>\n",
       "      <th>6</th>\n",
       "      <td>That elevator services Street To Mezzanine All...</td>\n",
       "      <td>2017-04-01 14:09:14</td>\n",
       "      <td></td>\n",
       "      <td>That elevator services Street To Mezzanine All...</td>\n",
       "      <td>That elevator</td>\n",
       "      <td></td>\n",
       "      <td></td>\n",
       "      <td>Street To Mezzanine All Trains</td>\n",
       "      <td></td>\n",
       "      <td>Northbound Ll Platform To Northbound Ul Platform</td>\n",
       "      <td>An escalator</td>\n",
       "    </tr>\n",
       "    <tr>\n",
       "      <th>7</th>\n",
       "      <td>OUTAGE: An elevator @ Forest Hills - 71st Av (...</td>\n",
       "      <td>2017-04-01 14:09:13</td>\n",
       "      <td>OUTAGE</td>\n",
       "      <td>An elevator @ Forest Hills - 71st Av (South si...</td>\n",
       "      <td>An elevator</td>\n",
       "      <td>out of service</td>\n",
       "      <td>Forest Hills - 71st Av</td>\n",
       "      <td>Street To Mezzanine All Trains</td>\n",
       "      <td>South side of Queens Boulevard between 70th Ro...</td>\n",
       "      <td>Street To Mezzanine All Trains</td>\n",
       "      <td>That elevator</td>\n",
       "    </tr>\n",
       "    <tr>\n",
       "      <th>8</th>\n",
       "      <td>OUTAGE: An escalator servicing Mezzanine To St...</td>\n",
       "      <td>2017-04-01 14:09:13</td>\n",
       "      <td>OUTAGE</td>\n",
       "      <td>An escalator servicing Mezzanine To Street @ D...</td>\n",
       "      <td>An escalator</td>\n",
       "      <td>out of service</td>\n",
       "      <td>Delancey St - Essex St</td>\n",
       "      <td>Mezzanine To Street</td>\n",
       "      <td></td>\n",
       "      <td></td>\n",
       "      <td>An elevator</td>\n",
       "    </tr>\n",
       "    <tr>\n",
       "      <th>9</th>\n",
       "      <td>OUTAGE: An escalator servicing Northbound Expr...</td>\n",
       "      <td>2017-04-01 13:38:42</td>\n",
       "      <td>OUTAGE</td>\n",
       "      <td>An escalator servicing Northbound Express Plat...</td>\n",
       "      <td>An escalator</td>\n",
       "      <td>out of service</td>\n",
       "      <td>59th St</td>\n",
       "      <td>Northbound Express Platform To Northbound Loca...</td>\n",
       "      <td></td>\n",
       "      <td>Mezzanine To Street</td>\n",
       "      <td>An escalator</td>\n",
       "    </tr>\n",
       "  </tbody>\n",
       "</table>\n",
       "</div>"
      ],
      "text/plain": [
       "                                                text                date  \\\n",
       "0  FIXED: An escalator @ 59th St servicing Northb... 2017-04-01 15:18:55   \n",
       "1  OUTAGE: An elevator servicing Lower Mezzanine ... 2017-04-01 15:18:49   \n",
       "2  OUTAGE: An elevator servicing Mezzanine To Pla... 2017-04-01 14:58:34   \n",
       "3  OUTAGE: An escalator servicing Center Mezzanin... 2017-04-01 14:28:50   \n",
       "4  OUTAGE: An escalator servicing Lower Mezzanine... 2017-04-01 14:28:50   \n",
       "5  OUTAGE: An escalator servicing Northbound Ll P... 2017-04-01 14:09:14   \n",
       "6  That elevator services Street To Mezzanine All... 2017-04-01 14:09:14   \n",
       "7  OUTAGE: An elevator @ Forest Hills - 71st Av (... 2017-04-01 14:09:13   \n",
       "8  OUTAGE: An escalator servicing Mezzanine To St... 2017-04-01 14:09:13   \n",
       "9  OUTAGE: An escalator servicing Northbound Expr... 2017-04-01 13:38:42   \n",
       "\n",
       "   status                                               desc  human_eq_type  \\\n",
       "0   FIXED  An escalator @ 59th St servicing Northbound Ex...   An escalator   \n",
       "1  OUTAGE  An elevator servicing Lower Mezzanine To Street @    An elevator   \n",
       "2  OUTAGE     An elevator servicing Mezzanine To Platforms @    An elevator   \n",
       "3  OUTAGE  An escalator servicing Center Mezzanine To Str...   An escalator   \n",
       "4  OUTAGE  An escalator servicing Lower Mezzanine To Uppe...   An escalator   \n",
       "5  OUTAGE  An escalator servicing Northbound Ll Platform ...   An escalator   \n",
       "6          That elevator services Street To Mezzanine All...  That elevator   \n",
       "7  OUTAGE  An elevator @ Forest Hills - 71st Av (South si...    An elevator   \n",
       "8  OUTAGE  An escalator servicing Mezzanine To Street @ D...   An escalator   \n",
       "9  OUTAGE  An escalator servicing Northbound Express Plat...   An escalator   \n",
       "\n",
       "           ending                                            name  \\\n",
       "0      in service                                         59th St   \n",
       "1  out of service                                                   \n",
       "2  out of service                                                   \n",
       "3  out of service                                Roosevelt Island   \n",
       "4  out of service  Jackson Hts - Roosevelt Av, 74th St - Broadway   \n",
       "5  out of service                        W 4th St - Washington Sq   \n",
       "6                                                                   \n",
       "7  out of service                          Forest Hills - 71st Av   \n",
       "8  out of service                          Delancey St - Essex St   \n",
       "9  out of service                                         59th St   \n",
       "\n",
       "                                             serving  \\\n",
       "0  Northbound Express Platform To Northbound Loca...   \n",
       "1                          Lower Mezzanine To Street   \n",
       "2                             Mezzanine To Platforms   \n",
       "3                         Center Mezzanine To Street   \n",
       "4                 Lower Mezzanine To Upper Mezzanine   \n",
       "5   Northbound Ll Platform To Northbound Ul Platform   \n",
       "6                     Street To Mezzanine All Trains   \n",
       "7                     Street To Mezzanine All Trains   \n",
       "8                                Mezzanine To Street   \n",
       "9  Northbound Express Platform To Northbound Loca...   \n",
       "\n",
       "                                            location  \\\n",
       "0                                                      \n",
       "1                                                      \n",
       "2                                                      \n",
       "3                                                      \n",
       "4                                                      \n",
       "5                                                      \n",
       "6                                                      \n",
       "7  South side of Queens Boulevard between 70th Ro...   \n",
       "8                                                      \n",
       "9                                                      \n",
       "\n",
       "                                         serving_lag human_eq_type_lag  \n",
       "0                                                NaN               NaN  \n",
       "1  Northbound Express Platform To Northbound Loca...      An escalator  \n",
       "2                          Lower Mezzanine To Street       An elevator  \n",
       "3                             Mezzanine To Platforms       An elevator  \n",
       "4                         Center Mezzanine To Street      An escalator  \n",
       "5                 Lower Mezzanine To Upper Mezzanine      An escalator  \n",
       "6   Northbound Ll Platform To Northbound Ul Platform      An escalator  \n",
       "7                     Street To Mezzanine All Trains     That elevator  \n",
       "8                                                          An elevator  \n",
       "9                                Mezzanine To Street      An escalator  "
      ]
     },
     "execution_count": 27,
     "metadata": {},
     "output_type": "execute_result"
    }
   ],
   "source": [
    "df = df.apply(get_svc_from_lag, axis = 1)\n",
    "df.head(10)"
   ]
  },
  {
   "cell_type": "code",
   "execution_count": 28,
   "metadata": {
    "collapsed": false
   },
   "outputs": [],
   "source": [
    "# drop the lag columns\n",
    "df.drop(['serving_lag', 'human_eq_type_lag'], axis = 1, inplace = True)"
   ]
  },
  {
   "cell_type": "code",
   "execution_count": 29,
   "metadata": {
    "collapsed": false,
    "scrolled": true
   },
   "outputs": [
    {
     "data": {
      "text/html": [
       "<div>\n",
       "<table border=\"1\" class=\"dataframe\">\n",
       "  <thead>\n",
       "    <tr style=\"text-align: right;\">\n",
       "      <th></th>\n",
       "      <th>text</th>\n",
       "      <th>date</th>\n",
       "      <th>status</th>\n",
       "      <th>desc</th>\n",
       "      <th>human_eq_type</th>\n",
       "      <th>ending</th>\n",
       "      <th>name</th>\n",
       "      <th>serving</th>\n",
       "      <th>location</th>\n",
       "    </tr>\n",
       "  </thead>\n",
       "  <tbody>\n",
       "    <tr>\n",
       "      <th>0</th>\n",
       "      <td>FIXED: An escalator @ 59th St servicing Northb...</td>\n",
       "      <td>2017-04-01 15:18:55</td>\n",
       "      <td>FIXED</td>\n",
       "      <td>An escalator @ 59th St servicing Northbound Ex...</td>\n",
       "      <td>An escalator</td>\n",
       "      <td>in service</td>\n",
       "      <td>59th St</td>\n",
       "      <td>Northbound Express Platform To Northbound Loca...</td>\n",
       "      <td></td>\n",
       "    </tr>\n",
       "    <tr>\n",
       "      <th>1</th>\n",
       "      <td>OUTAGE: An elevator servicing Lower Mezzanine ...</td>\n",
       "      <td>2017-04-01 15:18:49</td>\n",
       "      <td>OUTAGE</td>\n",
       "      <td>An elevator servicing Lower Mezzanine To Street @</td>\n",
       "      <td>An elevator</td>\n",
       "      <td>out of service</td>\n",
       "      <td></td>\n",
       "      <td>Lower Mezzanine To Street</td>\n",
       "      <td></td>\n",
       "    </tr>\n",
       "    <tr>\n",
       "      <th>2</th>\n",
       "      <td>OUTAGE: An elevator servicing Mezzanine To Pla...</td>\n",
       "      <td>2017-04-01 14:58:34</td>\n",
       "      <td>OUTAGE</td>\n",
       "      <td>An elevator servicing Mezzanine To Platforms @</td>\n",
       "      <td>An elevator</td>\n",
       "      <td>out of service</td>\n",
       "      <td></td>\n",
       "      <td>Mezzanine To Platforms</td>\n",
       "      <td></td>\n",
       "    </tr>\n",
       "    <tr>\n",
       "      <th>3</th>\n",
       "      <td>OUTAGE: An escalator servicing Center Mezzanin...</td>\n",
       "      <td>2017-04-01 14:28:50</td>\n",
       "      <td>OUTAGE</td>\n",
       "      <td>An escalator servicing Center Mezzanine To Str...</td>\n",
       "      <td>An escalator</td>\n",
       "      <td>out of service</td>\n",
       "      <td>Roosevelt Island</td>\n",
       "      <td>Center Mezzanine To Street</td>\n",
       "      <td></td>\n",
       "    </tr>\n",
       "    <tr>\n",
       "      <th>4</th>\n",
       "      <td>OUTAGE: An escalator servicing Lower Mezzanine...</td>\n",
       "      <td>2017-04-01 14:28:50</td>\n",
       "      <td>OUTAGE</td>\n",
       "      <td>An escalator servicing Lower Mezzanine To Uppe...</td>\n",
       "      <td>An escalator</td>\n",
       "      <td>out of service</td>\n",
       "      <td>Jackson Hts - Roosevelt Av, 74th St - Broadway</td>\n",
       "      <td>Lower Mezzanine To Upper Mezzanine</td>\n",
       "      <td></td>\n",
       "    </tr>\n",
       "    <tr>\n",
       "      <th>5</th>\n",
       "      <td>OUTAGE: An escalator servicing Northbound Ll P...</td>\n",
       "      <td>2017-04-01 14:09:14</td>\n",
       "      <td>OUTAGE</td>\n",
       "      <td>An escalator servicing Northbound Ll Platform ...</td>\n",
       "      <td>An escalator</td>\n",
       "      <td>out of service</td>\n",
       "      <td>W 4th St - Washington Sq</td>\n",
       "      <td>Northbound Ll Platform To Northbound Ul Platform</td>\n",
       "      <td></td>\n",
       "    </tr>\n",
       "    <tr>\n",
       "      <th>7</th>\n",
       "      <td>OUTAGE: An elevator @ Forest Hills - 71st Av (...</td>\n",
       "      <td>2017-04-01 14:09:13</td>\n",
       "      <td>OUTAGE</td>\n",
       "      <td>An elevator @ Forest Hills - 71st Av (South si...</td>\n",
       "      <td>An elevator</td>\n",
       "      <td>out of service</td>\n",
       "      <td>Forest Hills - 71st Av</td>\n",
       "      <td>Street To Mezzanine All Trains</td>\n",
       "      <td>South side of Queens Boulevard between 70th Ro...</td>\n",
       "    </tr>\n",
       "    <tr>\n",
       "      <th>8</th>\n",
       "      <td>OUTAGE: An escalator servicing Mezzanine To St...</td>\n",
       "      <td>2017-04-01 14:09:13</td>\n",
       "      <td>OUTAGE</td>\n",
       "      <td>An escalator servicing Mezzanine To Street @ D...</td>\n",
       "      <td>An escalator</td>\n",
       "      <td>out of service</td>\n",
       "      <td>Delancey St - Essex St</td>\n",
       "      <td>Mezzanine To Street</td>\n",
       "      <td></td>\n",
       "    </tr>\n",
       "    <tr>\n",
       "      <th>9</th>\n",
       "      <td>OUTAGE: An escalator servicing Northbound Expr...</td>\n",
       "      <td>2017-04-01 13:38:42</td>\n",
       "      <td>OUTAGE</td>\n",
       "      <td>An escalator servicing Northbound Express Plat...</td>\n",
       "      <td>An escalator</td>\n",
       "      <td>out of service</td>\n",
       "      <td>59th St</td>\n",
       "      <td>Northbound Express Platform To Northbound Loca...</td>\n",
       "      <td></td>\n",
       "    </tr>\n",
       "    <tr>\n",
       "      <th>10</th>\n",
       "      <td>OUTAGE: An escalator servicing Center Island U...</td>\n",
       "      <td>2017-04-01 13:08:46</td>\n",
       "      <td>OUTAGE</td>\n",
       "      <td>An escalator servicing Center Island Upper Pla...</td>\n",
       "      <td>An escalator</td>\n",
       "      <td>out of service</td>\n",
       "      <td>Sutphin Blvd - Archer Av</td>\n",
       "      <td>Center Island Upper Platform To Mezzanine</td>\n",
       "      <td></td>\n",
       "    </tr>\n",
       "  </tbody>\n",
       "</table>\n",
       "</div>"
      ],
      "text/plain": [
       "                                                 text                date  \\\n",
       "0   FIXED: An escalator @ 59th St servicing Northb... 2017-04-01 15:18:55   \n",
       "1   OUTAGE: An elevator servicing Lower Mezzanine ... 2017-04-01 15:18:49   \n",
       "2   OUTAGE: An elevator servicing Mezzanine To Pla... 2017-04-01 14:58:34   \n",
       "3   OUTAGE: An escalator servicing Center Mezzanin... 2017-04-01 14:28:50   \n",
       "4   OUTAGE: An escalator servicing Lower Mezzanine... 2017-04-01 14:28:50   \n",
       "5   OUTAGE: An escalator servicing Northbound Ll P... 2017-04-01 14:09:14   \n",
       "7   OUTAGE: An elevator @ Forest Hills - 71st Av (... 2017-04-01 14:09:13   \n",
       "8   OUTAGE: An escalator servicing Mezzanine To St... 2017-04-01 14:09:13   \n",
       "9   OUTAGE: An escalator servicing Northbound Expr... 2017-04-01 13:38:42   \n",
       "10  OUTAGE: An escalator servicing Center Island U... 2017-04-01 13:08:46   \n",
       "\n",
       "    status                                               desc human_eq_type  \\\n",
       "0    FIXED  An escalator @ 59th St servicing Northbound Ex...  An escalator   \n",
       "1   OUTAGE  An elevator servicing Lower Mezzanine To Street @   An elevator   \n",
       "2   OUTAGE     An elevator servicing Mezzanine To Platforms @   An elevator   \n",
       "3   OUTAGE  An escalator servicing Center Mezzanine To Str...  An escalator   \n",
       "4   OUTAGE  An escalator servicing Lower Mezzanine To Uppe...  An escalator   \n",
       "5   OUTAGE  An escalator servicing Northbound Ll Platform ...  An escalator   \n",
       "7   OUTAGE  An elevator @ Forest Hills - 71st Av (South si...   An elevator   \n",
       "8   OUTAGE  An escalator servicing Mezzanine To Street @ D...  An escalator   \n",
       "9   OUTAGE  An escalator servicing Northbound Express Plat...  An escalator   \n",
       "10  OUTAGE  An escalator servicing Center Island Upper Pla...  An escalator   \n",
       "\n",
       "            ending                                            name  \\\n",
       "0       in service                                         59th St   \n",
       "1   out of service                                                   \n",
       "2   out of service                                                   \n",
       "3   out of service                                Roosevelt Island   \n",
       "4   out of service  Jackson Hts - Roosevelt Av, 74th St - Broadway   \n",
       "5   out of service                        W 4th St - Washington Sq   \n",
       "7   out of service                          Forest Hills - 71st Av   \n",
       "8   out of service                          Delancey St - Essex St   \n",
       "9   out of service                                         59th St   \n",
       "10  out of service                        Sutphin Blvd - Archer Av   \n",
       "\n",
       "                                              serving  \\\n",
       "0   Northbound Express Platform To Northbound Loca...   \n",
       "1                           Lower Mezzanine To Street   \n",
       "2                              Mezzanine To Platforms   \n",
       "3                          Center Mezzanine To Street   \n",
       "4                  Lower Mezzanine To Upper Mezzanine   \n",
       "5    Northbound Ll Platform To Northbound Ul Platform   \n",
       "7                      Street To Mezzanine All Trains   \n",
       "8                                 Mezzanine To Street   \n",
       "9   Northbound Express Platform To Northbound Loca...   \n",
       "10          Center Island Upper Platform To Mezzanine   \n",
       "\n",
       "                                             location  \n",
       "0                                                      \n",
       "1                                                      \n",
       "2                                                      \n",
       "3                                                      \n",
       "4                                                      \n",
       "5                                                      \n",
       "7   South side of Queens Boulevard between 70th Ro...  \n",
       "8                                                      \n",
       "9                                                      \n",
       "10                                                     "
      ]
     },
     "execution_count": 29,
     "metadata": {},
     "output_type": "execute_result"
    }
   ],
   "source": [
    "# drop the row with 'That elevator'\n",
    "df = df[df['human_eq_type'] != 'That elevator']\n",
    "df.head(10)"
   ]
  },
  {
   "cell_type": "code",
   "execution_count": 30,
   "metadata": {
    "collapsed": false
   },
   "outputs": [
    {
     "data": {
      "text/plain": [
       "An escalator    1759\n",
       "An elevator     1329\n",
       "Name: human_eq_type, dtype: int64"
      ]
     },
     "execution_count": 30,
     "metadata": {},
     "output_type": "execute_result"
    }
   ],
   "source": [
    "# confirm no more 'That elevator'\n",
    "df['human_eq_type'].value_counts()"
   ]
  },
  {
   "cell_type": "code",
   "execution_count": 31,
   "metadata": {
    "collapsed": false
   },
   "outputs": [
    {
     "data": {
      "text/html": [
       "<div>\n",
       "<table border=\"1\" class=\"dataframe\">\n",
       "  <thead>\n",
       "    <tr style=\"text-align: right;\">\n",
       "      <th></th>\n",
       "      <th>date</th>\n",
       "      <th>status</th>\n",
       "      <th>human_eq_type</th>\n",
       "      <th>ending</th>\n",
       "      <th>name</th>\n",
       "      <th>serving</th>\n",
       "      <th>location</th>\n",
       "    </tr>\n",
       "  </thead>\n",
       "  <tbody>\n",
       "    <tr>\n",
       "      <th>0</th>\n",
       "      <td>2017-04-01 15:18:55</td>\n",
       "      <td>FIXED</td>\n",
       "      <td>An escalator</td>\n",
       "      <td>in service</td>\n",
       "      <td>59th St</td>\n",
       "      <td>Northbound Express Platform To Northbound Loca...</td>\n",
       "      <td></td>\n",
       "    </tr>\n",
       "    <tr>\n",
       "      <th>1</th>\n",
       "      <td>2017-04-01 15:18:49</td>\n",
       "      <td>OUTAGE</td>\n",
       "      <td>An elevator</td>\n",
       "      <td>out of service</td>\n",
       "      <td></td>\n",
       "      <td>Lower Mezzanine To Street</td>\n",
       "      <td></td>\n",
       "    </tr>\n",
       "    <tr>\n",
       "      <th>2</th>\n",
       "      <td>2017-04-01 14:58:34</td>\n",
       "      <td>OUTAGE</td>\n",
       "      <td>An elevator</td>\n",
       "      <td>out of service</td>\n",
       "      <td></td>\n",
       "      <td>Mezzanine To Platforms</td>\n",
       "      <td></td>\n",
       "    </tr>\n",
       "    <tr>\n",
       "      <th>3</th>\n",
       "      <td>2017-04-01 14:28:50</td>\n",
       "      <td>OUTAGE</td>\n",
       "      <td>An escalator</td>\n",
       "      <td>out of service</td>\n",
       "      <td>Roosevelt Island</td>\n",
       "      <td>Center Mezzanine To Street</td>\n",
       "      <td></td>\n",
       "    </tr>\n",
       "    <tr>\n",
       "      <th>4</th>\n",
       "      <td>2017-04-01 14:28:50</td>\n",
       "      <td>OUTAGE</td>\n",
       "      <td>An escalator</td>\n",
       "      <td>out of service</td>\n",
       "      <td>Jackson Hts - Roosevelt Av, 74th St - Broadway</td>\n",
       "      <td>Lower Mezzanine To Upper Mezzanine</td>\n",
       "      <td></td>\n",
       "    </tr>\n",
       "  </tbody>\n",
       "</table>\n",
       "</div>"
      ],
      "text/plain": [
       "                 date  status human_eq_type          ending  \\\n",
       "0 2017-04-01 15:18:55   FIXED  An escalator      in service   \n",
       "1 2017-04-01 15:18:49  OUTAGE   An elevator  out of service   \n",
       "2 2017-04-01 14:58:34  OUTAGE   An elevator  out of service   \n",
       "3 2017-04-01 14:28:50  OUTAGE  An escalator  out of service   \n",
       "4 2017-04-01 14:28:50  OUTAGE  An escalator  out of service   \n",
       "\n",
       "                                             name  \\\n",
       "0                                         59th St   \n",
       "1                                                   \n",
       "2                                                   \n",
       "3                                Roosevelt Island   \n",
       "4  Jackson Hts - Roosevelt Av, 74th St - Broadway   \n",
       "\n",
       "                                             serving location  \n",
       "0  Northbound Express Platform To Northbound Loca...           \n",
       "1                          Lower Mezzanine To Street           \n",
       "2                             Mezzanine To Platforms           \n",
       "3                         Center Mezzanine To Street           \n",
       "4                 Lower Mezzanine To Upper Mezzanine           "
      ]
     },
     "execution_count": 31,
     "metadata": {},
     "output_type": "execute_result"
    }
   ],
   "source": [
    "# drop 'desc' & 'text' column (should be all in other columns)\n",
    "df.drop(['desc', 'text'], axis = 1, inplace = True)\n",
    "df.head()"
   ]
  },
  {
   "cell_type": "markdown",
   "metadata": {},
   "source": [
    "## Clean up data"
   ]
  },
  {
   "cell_type": "code",
   "execution_count": 32,
   "metadata": {
    "collapsed": false
   },
   "outputs": [
    {
     "data": {
      "text/html": [
       "<div>\n",
       "<table border=\"1\" class=\"dataframe\">\n",
       "  <thead>\n",
       "    <tr style=\"text-align: right;\">\n",
       "      <th></th>\n",
       "      <th>date</th>\n",
       "      <th>status</th>\n",
       "      <th>human_eq_type</th>\n",
       "      <th>ending</th>\n",
       "      <th>name</th>\n",
       "      <th>serving</th>\n",
       "      <th>location</th>\n",
       "    </tr>\n",
       "  </thead>\n",
       "  <tbody>\n",
       "    <tr>\n",
       "      <th>0</th>\n",
       "      <td>2017-04-01 15:18:55</td>\n",
       "      <td>FIXED</td>\n",
       "      <td>An escalator</td>\n",
       "      <td>in service</td>\n",
       "      <td>59th St</td>\n",
       "      <td>Northbound Express Platform To Northbound Loca...</td>\n",
       "      <td></td>\n",
       "    </tr>\n",
       "    <tr>\n",
       "      <th>1</th>\n",
       "      <td>2017-04-01 15:18:49</td>\n",
       "      <td>OUTAGE</td>\n",
       "      <td>An elevator</td>\n",
       "      <td>out of service</td>\n",
       "      <td></td>\n",
       "      <td>Lower Mezzanine To Street</td>\n",
       "      <td></td>\n",
       "    </tr>\n",
       "    <tr>\n",
       "      <th>2</th>\n",
       "      <td>2017-04-01 14:58:34</td>\n",
       "      <td>OUTAGE</td>\n",
       "      <td>An elevator</td>\n",
       "      <td>out of service</td>\n",
       "      <td></td>\n",
       "      <td>Mezzanine To Platforms</td>\n",
       "      <td></td>\n",
       "    </tr>\n",
       "    <tr>\n",
       "      <th>3</th>\n",
       "      <td>2017-04-01 14:28:50</td>\n",
       "      <td>OUTAGE</td>\n",
       "      <td>An escalator</td>\n",
       "      <td>out of service</td>\n",
       "      <td>Roosevelt Island</td>\n",
       "      <td>Center Mezzanine To Street</td>\n",
       "      <td></td>\n",
       "    </tr>\n",
       "    <tr>\n",
       "      <th>4</th>\n",
       "      <td>2017-04-01 14:28:50</td>\n",
       "      <td>OUTAGE</td>\n",
       "      <td>An escalator</td>\n",
       "      <td>out of service</td>\n",
       "      <td>Jackson Hts - Roosevelt Av, 74th St - Broadway</td>\n",
       "      <td>Lower Mezzanine To Upper Mezzanine</td>\n",
       "      <td></td>\n",
       "    </tr>\n",
       "  </tbody>\n",
       "</table>\n",
       "</div>"
      ],
      "text/plain": [
       "                 date  status human_eq_type          ending  \\\n",
       "0 2017-04-01 15:18:55   FIXED  An escalator      in service   \n",
       "1 2017-04-01 15:18:49  OUTAGE   An elevator  out of service   \n",
       "2 2017-04-01 14:58:34  OUTAGE   An elevator  out of service   \n",
       "3 2017-04-01 14:28:50  OUTAGE  An escalator  out of service   \n",
       "4 2017-04-01 14:28:50  OUTAGE  An escalator  out of service   \n",
       "\n",
       "                                             name  \\\n",
       "0                                         59th St   \n",
       "1                                                   \n",
       "2                                                   \n",
       "3                                Roosevelt Island   \n",
       "4  Jackson Hts - Roosevelt Av, 74th St - Broadway   \n",
       "\n",
       "                                             serving location  \n",
       "0  Northbound Express Platform To Northbound Loca...           \n",
       "1                          Lower Mezzanine To Street           \n",
       "2                             Mezzanine To Platforms           \n",
       "3                         Center Mezzanine To Street           \n",
       "4                 Lower Mezzanine To Upper Mezzanine           "
      ]
     },
     "execution_count": 32,
     "metadata": {},
     "output_type": "execute_result"
    }
   ],
   "source": [
    "df.head()"
   ]
  },
  {
   "cell_type": "code",
   "execution_count": 33,
   "metadata": {
    "collapsed": false
   },
   "outputs": [
    {
     "data": {
      "text/html": [
       "<div>\n",
       "<table border=\"1\" class=\"dataframe\">\n",
       "  <thead>\n",
       "    <tr style=\"text-align: right;\">\n",
       "      <th>ending</th>\n",
       "      <th>back in service</th>\n",
       "      <th>in service</th>\n",
       "      <th>out of service</th>\n",
       "    </tr>\n",
       "    <tr>\n",
       "      <th>status</th>\n",
       "      <th></th>\n",
       "      <th></th>\n",
       "      <th></th>\n",
       "    </tr>\n",
       "  </thead>\n",
       "  <tbody>\n",
       "    <tr>\n",
       "      <th>FIXED</th>\n",
       "      <td>102</td>\n",
       "      <td>1455</td>\n",
       "      <td>0</td>\n",
       "    </tr>\n",
       "    <tr>\n",
       "      <th>OUTAGE</th>\n",
       "      <td>0</td>\n",
       "      <td>0</td>\n",
       "      <td>1531</td>\n",
       "    </tr>\n",
       "  </tbody>\n",
       "</table>\n",
       "</div>"
      ],
      "text/plain": [
       "ending  back in service  in service  out of service\n",
       "status                                             \n",
       "FIXED               102        1455               0\n",
       "OUTAGE                0           0            1531"
      ]
     },
     "execution_count": 33,
     "metadata": {},
     "output_type": "execute_result"
    }
   ],
   "source": [
    "# do 'status' and 'ending' always match?\n",
    "pd.crosstab(df['status'], df['ending'])"
   ]
  },
  {
   "cell_type": "code",
   "execution_count": 34,
   "metadata": {
    "collapsed": false
   },
   "outputs": [],
   "source": [
    "# these are basically same. drop ending.\n",
    "df.drop('ending', axis = 1, inplace = True)"
   ]
  },
  {
   "cell_type": "code",
   "execution_count": 35,
   "metadata": {
    "collapsed": false
   },
   "outputs": [
    {
     "data": {
      "text/plain": [
       "(104,)"
      ]
     },
     "execution_count": 35,
     "metadata": {},
     "output_type": "execute_result"
    }
   ],
   "source": [
    "# How many unique station names? \n",
    "df['name'].value_counts().shape"
   ]
  },
  {
   "cell_type": "code",
   "execution_count": 36,
   "metadata": {
    "collapsed": false,
    "scrolled": true
   },
   "outputs": [
    {
     "data": {
      "text/plain": [
       "                                                  373\n",
       "Grand Central - 42nd St                           140\n",
       "Herald Sq - 34th St                               135\n",
       "125th St                                           86\n",
       "Jay St - Metrotech                                 78\n",
       "161st St - Yankee Stadium                          74\n",
       "Bowling Green                                      72\n",
       "Roosevelt Island                                   71\n",
       "Jamaica Ctr - Parsons / Archer                     68\n",
       "Lexington Ave - 63rd St                            63\n",
       "181st St                                           61\n",
       "Times Sq - 42nd St                                 54\n",
       "Flushing - Main St                                 52\n",
       "59th St                                            49\n",
       "Gun Hill Rd                                        47\n",
       "Lexington Ave - 53rd St                            47\n",
       "21st St - Queensbridge                             47\n",
       "Myrtle - Wyckoff Ave                               46\n",
       "Atlantic Ave                                       45\n",
       "W 4th St - Washington Sq                           43\n",
       "5th Ave - 53rd St                                  41\n",
       "Borough Hall                                       39\n",
       "Fulton St, Cortlandt St                            39\n",
       "Court Sq                                           39\n",
       "168th St                                           38\n",
       "High St                                            37\n",
       "Smith - 9th Sts                                    37\n",
       "Fulton St&amp; Cortlandt St                        36\n",
       "14th St - 8 Av                                     33\n",
       "Jackson Hts - Roosevelt Av, 74th St - Broadway     32\n",
       "                                                 ... \n",
       "233rd St                                           12\n",
       "Jamaica - Van Wyck                                 12\n",
       "Canal St                                           11\n",
       "Fordham Rd                                         11\n",
       "Euclid Ave                                         11\n",
       "Crown Hts - Utica Ave                              10\n",
       "191st St                                           10\n",
       "175th St                                            9\n",
       "Church Ave                                          9\n",
       "Forest Hills - 71st Av                              9\n",
       "Franklin Ave                                        9\n",
       "President St                                        8\n",
       "Intervale Ave                                       6\n",
       "East Broadway                                       6\n",
       "135th St                                            6\n",
       "E 180th St                                          6\n",
       "Kings Hwy                                           5\n",
       "Brooklyn College - Flatbush Ave                     5\n",
       "Howard Beach - JFK Airport                          4\n",
       "51st St                                             4\n",
       "66th St - Lincoln Ctr                               4\n",
       "Norwood - 205th St                                  4\n",
       "Dyckman St                                          4\n",
       "Marcy Ave                                           3\n",
       "Bowery                                              2\n",
       "145th St                                            2\n",
       "Prospect Park                                       2\n",
       "Inwood - 207th St                                   2\n",
       "Wall St                                             2\n",
       "Rockaway Park - Beach 116 St                        1\n",
       "Name: name, dtype: int64"
      ]
     },
     "execution_count": 36,
     "metadata": {},
     "output_type": "execute_result"
    }
   ],
   "source": [
    "df['name'].value_counts()"
   ]
  },
  {
   "cell_type": "markdown",
   "metadata": {},
   "source": [
    "## Drop if no name (nothing much we could do about this)"
   ]
  },
  {
   "cell_type": "code",
   "execution_count": 37,
   "metadata": {
    "collapsed": false
   },
   "outputs": [
    {
     "data": {
      "text/plain": [
       "3088"
      ]
     },
     "execution_count": 37,
     "metadata": {},
     "output_type": "execute_result"
    }
   ],
   "source": [
    "# number of records before dropping \n",
    "df.shape[0]"
   ]
  },
  {
   "cell_type": "code",
   "execution_count": 38,
   "metadata": {
    "collapsed": true
   },
   "outputs": [],
   "source": [
    "df = df[df['name'] != '']"
   ]
  },
  {
   "cell_type": "code",
   "execution_count": 39,
   "metadata": {
    "collapsed": false
   },
   "outputs": [
    {
     "data": {
      "text/plain": [
       "2715"
      ]
     },
     "execution_count": 39,
     "metadata": {},
     "output_type": "execute_result"
    }
   ],
   "source": [
    "# number of records after dropping\n",
    "df.shape[0]"
   ]
  },
  {
   "cell_type": "markdown",
   "metadata": {},
   "source": [
    "## Pair up Outage and Fixed"
   ]
  },
  {
   "cell_type": "code",
   "execution_count": 40,
   "metadata": {
    "collapsed": false
   },
   "outputs": [],
   "source": [
    "df = df.sort_values(['name', 'human_eq_type', 'location', 'serving', 'date'])"
   ]
  },
  {
   "cell_type": "code",
   "execution_count": 41,
   "metadata": {
    "collapsed": false
   },
   "outputs": [
    {
     "data": {
      "text/html": [
       "<div>\n",
       "<table border=\"1\" class=\"dataframe\">\n",
       "  <thead>\n",
       "    <tr style=\"text-align: right;\">\n",
       "      <th></th>\n",
       "      <th>name</th>\n",
       "      <th>human_eq_type</th>\n",
       "      <th>location</th>\n",
       "      <th>serving</th>\n",
       "      <th>status</th>\n",
       "      <th>date</th>\n",
       "    </tr>\n",
       "  </thead>\n",
       "  <tbody>\n",
       "    <tr>\n",
       "      <th>3160</th>\n",
       "      <td>125th St</td>\n",
       "      <td>An elevator</td>\n",
       "      <td></td>\n",
       "      <td>Mezzanine And Downtown</td>\n",
       "      <td>FIXED</td>\n",
       "      <td>2017-03-14 18:28:41</td>\n",
       "    </tr>\n",
       "    <tr>\n",
       "      <th>2999</th>\n",
       "      <td>125th St</td>\n",
       "      <td>An elevator</td>\n",
       "      <td></td>\n",
       "      <td>Mezzanine And Downtown</td>\n",
       "      <td>OUTAGE</td>\n",
       "      <td>2017-03-15 12:18:12</td>\n",
       "    </tr>\n",
       "    <tr>\n",
       "      <th>2993</th>\n",
       "      <td>125th St</td>\n",
       "      <td>An elevator</td>\n",
       "      <td></td>\n",
       "      <td>Mezzanine And Downtown</td>\n",
       "      <td>FIXED</td>\n",
       "      <td>2017-03-15 13:08:33</td>\n",
       "    </tr>\n",
       "    <tr>\n",
       "      <th>678</th>\n",
       "      <td>125th St</td>\n",
       "      <td>An elevator</td>\n",
       "      <td></td>\n",
       "      <td>Mezzanine And Downtown</td>\n",
       "      <td>OUTAGE</td>\n",
       "      <td>2017-03-29 03:38:37</td>\n",
       "    </tr>\n",
       "    <tr>\n",
       "      <th>629</th>\n",
       "      <td>125th St</td>\n",
       "      <td>An elevator</td>\n",
       "      <td></td>\n",
       "      <td>Mezzanine And Downtown</td>\n",
       "      <td>FIXED</td>\n",
       "      <td>2017-03-29 09:09:04</td>\n",
       "    </tr>\n",
       "    <tr>\n",
       "      <th>354</th>\n",
       "      <td>125th St</td>\n",
       "      <td>An elevator</td>\n",
       "      <td></td>\n",
       "      <td>Mezzanine And Downtown</td>\n",
       "      <td>OUTAGE</td>\n",
       "      <td>2017-03-30 18:28:44</td>\n",
       "    </tr>\n",
       "    <tr>\n",
       "      <th>308</th>\n",
       "      <td>125th St</td>\n",
       "      <td>An elevator</td>\n",
       "      <td></td>\n",
       "      <td>Mezzanine And Downtown</td>\n",
       "      <td>FIXED</td>\n",
       "      <td>2017-03-30 21:58:46</td>\n",
       "    </tr>\n",
       "    <tr>\n",
       "      <th>1960</th>\n",
       "      <td>125th St</td>\n",
       "      <td>An elevator</td>\n",
       "      <td></td>\n",
       "      <td>Mezzanine And Uptown</td>\n",
       "      <td>OUTAGE</td>\n",
       "      <td>2017-03-21 18:09:13</td>\n",
       "    </tr>\n",
       "    <tr>\n",
       "      <th>1910</th>\n",
       "      <td>125th St</td>\n",
       "      <td>An elevator</td>\n",
       "      <td></td>\n",
       "      <td>Mezzanine And Uptown</td>\n",
       "      <td>FIXED</td>\n",
       "      <td>2017-03-22 00:58:46</td>\n",
       "    </tr>\n",
       "    <tr>\n",
       "      <th>482</th>\n",
       "      <td>125th St</td>\n",
       "      <td>An elevator</td>\n",
       "      <td></td>\n",
       "      <td>Mezzanine And Uptown</td>\n",
       "      <td>OUTAGE</td>\n",
       "      <td>2017-03-30 04:18:39</td>\n",
       "    </tr>\n",
       "  </tbody>\n",
       "</table>\n",
       "</div>"
      ],
      "text/plain": [
       "          name human_eq_type location                 serving  status  \\\n",
       "3160  125th St   An elevator           Mezzanine And Downtown   FIXED   \n",
       "2999  125th St   An elevator           Mezzanine And Downtown  OUTAGE   \n",
       "2993  125th St   An elevator           Mezzanine And Downtown   FIXED   \n",
       "678   125th St   An elevator           Mezzanine And Downtown  OUTAGE   \n",
       "629   125th St   An elevator           Mezzanine And Downtown   FIXED   \n",
       "354   125th St   An elevator           Mezzanine And Downtown  OUTAGE   \n",
       "308   125th St   An elevator           Mezzanine And Downtown   FIXED   \n",
       "1960  125th St   An elevator             Mezzanine And Uptown  OUTAGE   \n",
       "1910  125th St   An elevator             Mezzanine And Uptown   FIXED   \n",
       "482   125th St   An elevator             Mezzanine And Uptown  OUTAGE   \n",
       "\n",
       "                    date  \n",
       "3160 2017-03-14 18:28:41  \n",
       "2999 2017-03-15 12:18:12  \n",
       "2993 2017-03-15 13:08:33  \n",
       "678  2017-03-29 03:38:37  \n",
       "629  2017-03-29 09:09:04  \n",
       "354  2017-03-30 18:28:44  \n",
       "308  2017-03-30 21:58:46  \n",
       "1960 2017-03-21 18:09:13  \n",
       "1910 2017-03-22 00:58:46  \n",
       "482  2017-03-30 04:18:39  "
      ]
     },
     "execution_count": 41,
     "metadata": {},
     "output_type": "execute_result"
    }
   ],
   "source": [
    "df = df[['name', 'human_eq_type', 'location', 'serving', 'status', 'date']]\n",
    "df.head(10)"
   ]
  },
  {
   "cell_type": "code",
   "execution_count": 42,
   "metadata": {
    "collapsed": false
   },
   "outputs": [],
   "source": [
    "# write a condition to see if they are same equipment as the record after\n",
    "grp_cond = ((df.name == df.name.shift(-1)) & (df.human_eq_type == df.human_eq_type.shift(-1)) \n",
    "    & (df.location == df.location.shift(-1)) & (df.serving == df.serving.shift(-1)))"
   ]
  },
  {
   "cell_type": "code",
   "execution_count": 43,
   "metadata": {
    "collapsed": false
   },
   "outputs": [],
   "source": [
    "# mark if the the record is the same equipment as before\n",
    "df['same_equip'] = False\n",
    "df.loc[grp_cond, 'same_equip'] = True"
   ]
  },
  {
   "cell_type": "code",
   "execution_count": 44,
   "metadata": {
    "collapsed": true
   },
   "outputs": [],
   "source": [
    "# create leads for 'date' and 'status'\n",
    "df['date_lead'] = df['date'].shift(-1)\n",
    "df['status_lead'] = df['status'].shift(-1)"
   ]
  },
  {
   "cell_type": "code",
   "execution_count": 45,
   "metadata": {
    "collapsed": false
   },
   "outputs": [],
   "source": [
    "df['status2'] = ''\n",
    "df['date2'] = ''"
   ]
  },
  {
   "cell_type": "code",
   "execution_count": 46,
   "metadata": {
    "collapsed": true
   },
   "outputs": [],
   "source": [
    "def get_second_status(row):\n",
    "    if row['same_equip'] == True: \n",
    "        row['status2'] = row['status_lead']\n",
    "        row['date2'] = row['date_lead']\n",
    "    return row"
   ]
  },
  {
   "cell_type": "code",
   "execution_count": 47,
   "metadata": {
    "collapsed": false
   },
   "outputs": [
    {
     "data": {
      "text/html": [
       "<div>\n",
       "<table border=\"1\" class=\"dataframe\">\n",
       "  <thead>\n",
       "    <tr style=\"text-align: right;\">\n",
       "      <th></th>\n",
       "      <th>name</th>\n",
       "      <th>human_eq_type</th>\n",
       "      <th>location</th>\n",
       "      <th>serving</th>\n",
       "      <th>status</th>\n",
       "      <th>date</th>\n",
       "      <th>same_equip</th>\n",
       "      <th>date_lead</th>\n",
       "      <th>status_lead</th>\n",
       "      <th>status2</th>\n",
       "      <th>date2</th>\n",
       "    </tr>\n",
       "  </thead>\n",
       "  <tbody>\n",
       "    <tr>\n",
       "      <th>3160</th>\n",
       "      <td>125th St</td>\n",
       "      <td>An elevator</td>\n",
       "      <td></td>\n",
       "      <td>Mezzanine And Downtown</td>\n",
       "      <td>FIXED</td>\n",
       "      <td>2017-03-14 18:28:41</td>\n",
       "      <td>True</td>\n",
       "      <td>2017-03-15 12:18:12</td>\n",
       "      <td>OUTAGE</td>\n",
       "      <td>OUTAGE</td>\n",
       "      <td>2017-03-15 12:18:12</td>\n",
       "    </tr>\n",
       "    <tr>\n",
       "      <th>2999</th>\n",
       "      <td>125th St</td>\n",
       "      <td>An elevator</td>\n",
       "      <td></td>\n",
       "      <td>Mezzanine And Downtown</td>\n",
       "      <td>OUTAGE</td>\n",
       "      <td>2017-03-15 12:18:12</td>\n",
       "      <td>True</td>\n",
       "      <td>2017-03-15 13:08:33</td>\n",
       "      <td>FIXED</td>\n",
       "      <td>FIXED</td>\n",
       "      <td>2017-03-15 13:08:33</td>\n",
       "    </tr>\n",
       "    <tr>\n",
       "      <th>2993</th>\n",
       "      <td>125th St</td>\n",
       "      <td>An elevator</td>\n",
       "      <td></td>\n",
       "      <td>Mezzanine And Downtown</td>\n",
       "      <td>FIXED</td>\n",
       "      <td>2017-03-15 13:08:33</td>\n",
       "      <td>True</td>\n",
       "      <td>2017-03-29 03:38:37</td>\n",
       "      <td>OUTAGE</td>\n",
       "      <td>OUTAGE</td>\n",
       "      <td>2017-03-29 03:38:37</td>\n",
       "    </tr>\n",
       "    <tr>\n",
       "      <th>678</th>\n",
       "      <td>125th St</td>\n",
       "      <td>An elevator</td>\n",
       "      <td></td>\n",
       "      <td>Mezzanine And Downtown</td>\n",
       "      <td>OUTAGE</td>\n",
       "      <td>2017-03-29 03:38:37</td>\n",
       "      <td>True</td>\n",
       "      <td>2017-03-29 09:09:04</td>\n",
       "      <td>FIXED</td>\n",
       "      <td>FIXED</td>\n",
       "      <td>2017-03-29 09:09:04</td>\n",
       "    </tr>\n",
       "    <tr>\n",
       "      <th>629</th>\n",
       "      <td>125th St</td>\n",
       "      <td>An elevator</td>\n",
       "      <td></td>\n",
       "      <td>Mezzanine And Downtown</td>\n",
       "      <td>FIXED</td>\n",
       "      <td>2017-03-29 09:09:04</td>\n",
       "      <td>True</td>\n",
       "      <td>2017-03-30 18:28:44</td>\n",
       "      <td>OUTAGE</td>\n",
       "      <td>OUTAGE</td>\n",
       "      <td>2017-03-30 18:28:44</td>\n",
       "    </tr>\n",
       "  </tbody>\n",
       "</table>\n",
       "</div>"
      ],
      "text/plain": [
       "          name human_eq_type location                 serving  status  \\\n",
       "3160  125th St   An elevator           Mezzanine And Downtown   FIXED   \n",
       "2999  125th St   An elevator           Mezzanine And Downtown  OUTAGE   \n",
       "2993  125th St   An elevator           Mezzanine And Downtown   FIXED   \n",
       "678   125th St   An elevator           Mezzanine And Downtown  OUTAGE   \n",
       "629   125th St   An elevator           Mezzanine And Downtown   FIXED   \n",
       "\n",
       "                    date same_equip           date_lead status_lead status2  \\\n",
       "3160 2017-03-14 18:28:41       True 2017-03-15 12:18:12      OUTAGE  OUTAGE   \n",
       "2999 2017-03-15 12:18:12       True 2017-03-15 13:08:33       FIXED   FIXED   \n",
       "2993 2017-03-15 13:08:33       True 2017-03-29 03:38:37      OUTAGE  OUTAGE   \n",
       "678  2017-03-29 03:38:37       True 2017-03-29 09:09:04       FIXED   FIXED   \n",
       "629  2017-03-29 09:09:04       True 2017-03-30 18:28:44      OUTAGE  OUTAGE   \n",
       "\n",
       "                    date2  \n",
       "3160  2017-03-15 12:18:12  \n",
       "2999  2017-03-15 13:08:33  \n",
       "2993  2017-03-29 03:38:37  \n",
       "678   2017-03-29 09:09:04  \n",
       "629   2017-03-30 18:28:44  "
      ]
     },
     "execution_count": 47,
     "metadata": {},
     "output_type": "execute_result"
    }
   ],
   "source": [
    "df = df.apply(get_second_status, axis = 1)\n",
    "df.head()"
   ]
  },
  {
   "cell_type": "code",
   "execution_count": 48,
   "metadata": {
    "collapsed": false
   },
   "outputs": [
    {
     "data": {
      "text/html": [
       "<div>\n",
       "<table border=\"1\" class=\"dataframe\">\n",
       "  <thead>\n",
       "    <tr style=\"text-align: right;\">\n",
       "      <th></th>\n",
       "      <th>name</th>\n",
       "      <th>human_eq_type</th>\n",
       "      <th>location</th>\n",
       "      <th>serving</th>\n",
       "      <th>status</th>\n",
       "      <th>date</th>\n",
       "      <th>status2</th>\n",
       "      <th>date2</th>\n",
       "    </tr>\n",
       "  </thead>\n",
       "  <tbody>\n",
       "    <tr>\n",
       "      <th>3160</th>\n",
       "      <td>125th St</td>\n",
       "      <td>An elevator</td>\n",
       "      <td></td>\n",
       "      <td>Mezzanine And Downtown</td>\n",
       "      <td>FIXED</td>\n",
       "      <td>2017-03-14 18:28:41</td>\n",
       "      <td>OUTAGE</td>\n",
       "      <td>2017-03-15 12:18:12</td>\n",
       "    </tr>\n",
       "    <tr>\n",
       "      <th>2999</th>\n",
       "      <td>125th St</td>\n",
       "      <td>An elevator</td>\n",
       "      <td></td>\n",
       "      <td>Mezzanine And Downtown</td>\n",
       "      <td>OUTAGE</td>\n",
       "      <td>2017-03-15 12:18:12</td>\n",
       "      <td>FIXED</td>\n",
       "      <td>2017-03-15 13:08:33</td>\n",
       "    </tr>\n",
       "    <tr>\n",
       "      <th>2993</th>\n",
       "      <td>125th St</td>\n",
       "      <td>An elevator</td>\n",
       "      <td></td>\n",
       "      <td>Mezzanine And Downtown</td>\n",
       "      <td>FIXED</td>\n",
       "      <td>2017-03-15 13:08:33</td>\n",
       "      <td>OUTAGE</td>\n",
       "      <td>2017-03-29 03:38:37</td>\n",
       "    </tr>\n",
       "    <tr>\n",
       "      <th>678</th>\n",
       "      <td>125th St</td>\n",
       "      <td>An elevator</td>\n",
       "      <td></td>\n",
       "      <td>Mezzanine And Downtown</td>\n",
       "      <td>OUTAGE</td>\n",
       "      <td>2017-03-29 03:38:37</td>\n",
       "      <td>FIXED</td>\n",
       "      <td>2017-03-29 09:09:04</td>\n",
       "    </tr>\n",
       "    <tr>\n",
       "      <th>629</th>\n",
       "      <td>125th St</td>\n",
       "      <td>An elevator</td>\n",
       "      <td></td>\n",
       "      <td>Mezzanine And Downtown</td>\n",
       "      <td>FIXED</td>\n",
       "      <td>2017-03-29 09:09:04</td>\n",
       "      <td>OUTAGE</td>\n",
       "      <td>2017-03-30 18:28:44</td>\n",
       "    </tr>\n",
       "  </tbody>\n",
       "</table>\n",
       "</div>"
      ],
      "text/plain": [
       "          name human_eq_type location                 serving  status  \\\n",
       "3160  125th St   An elevator           Mezzanine And Downtown   FIXED   \n",
       "2999  125th St   An elevator           Mezzanine And Downtown  OUTAGE   \n",
       "2993  125th St   An elevator           Mezzanine And Downtown   FIXED   \n",
       "678   125th St   An elevator           Mezzanine And Downtown  OUTAGE   \n",
       "629   125th St   An elevator           Mezzanine And Downtown   FIXED   \n",
       "\n",
       "                    date status2                date2  \n",
       "3160 2017-03-14 18:28:41  OUTAGE  2017-03-15 12:18:12  \n",
       "2999 2017-03-15 12:18:12   FIXED  2017-03-15 13:08:33  \n",
       "2993 2017-03-15 13:08:33  OUTAGE  2017-03-29 03:38:37  \n",
       "678  2017-03-29 03:38:37   FIXED  2017-03-29 09:09:04  \n",
       "629  2017-03-29 09:09:04  OUTAGE  2017-03-30 18:28:44  "
      ]
     },
     "execution_count": 48,
     "metadata": {},
     "output_type": "execute_result"
    }
   ],
   "source": [
    "# drop lead variables\n",
    "df.drop(['date_lead', 'status_lead', 'same_equip'], axis = 1, inplace = True)\n",
    "df.head()"
   ]
  },
  {
   "cell_type": "code",
   "execution_count": 49,
   "metadata": {
    "collapsed": false
   },
   "outputs": [
    {
     "data": {
      "text/html": [
       "<div>\n",
       "<table border=\"1\" class=\"dataframe\">\n",
       "  <thead>\n",
       "    <tr style=\"text-align: right;\">\n",
       "      <th></th>\n",
       "      <th>name</th>\n",
       "      <th>human_eq_type</th>\n",
       "      <th>location</th>\n",
       "      <th>serving</th>\n",
       "      <th>status</th>\n",
       "      <th>date</th>\n",
       "      <th>status2</th>\n",
       "      <th>date2</th>\n",
       "      <th>status2_lag</th>\n",
       "    </tr>\n",
       "  </thead>\n",
       "  <tbody>\n",
       "    <tr>\n",
       "      <th>3160</th>\n",
       "      <td>125th St</td>\n",
       "      <td>An elevator</td>\n",
       "      <td></td>\n",
       "      <td>Mezzanine And Downtown</td>\n",
       "      <td>FIXED</td>\n",
       "      <td>2017-03-14 18:28:41</td>\n",
       "      <td>OUTAGE</td>\n",
       "      <td>2017-03-15 12:18:12</td>\n",
       "      <td>NaN</td>\n",
       "    </tr>\n",
       "    <tr>\n",
       "      <th>2999</th>\n",
       "      <td>125th St</td>\n",
       "      <td>An elevator</td>\n",
       "      <td></td>\n",
       "      <td>Mezzanine And Downtown</td>\n",
       "      <td>OUTAGE</td>\n",
       "      <td>2017-03-15 12:18:12</td>\n",
       "      <td>FIXED</td>\n",
       "      <td>2017-03-15 13:08:33</td>\n",
       "      <td>OUTAGE</td>\n",
       "    </tr>\n",
       "    <tr>\n",
       "      <th>2993</th>\n",
       "      <td>125th St</td>\n",
       "      <td>An elevator</td>\n",
       "      <td></td>\n",
       "      <td>Mezzanine And Downtown</td>\n",
       "      <td>FIXED</td>\n",
       "      <td>2017-03-15 13:08:33</td>\n",
       "      <td>OUTAGE</td>\n",
       "      <td>2017-03-29 03:38:37</td>\n",
       "      <td>FIXED</td>\n",
       "    </tr>\n",
       "    <tr>\n",
       "      <th>678</th>\n",
       "      <td>125th St</td>\n",
       "      <td>An elevator</td>\n",
       "      <td></td>\n",
       "      <td>Mezzanine And Downtown</td>\n",
       "      <td>OUTAGE</td>\n",
       "      <td>2017-03-29 03:38:37</td>\n",
       "      <td>FIXED</td>\n",
       "      <td>2017-03-29 09:09:04</td>\n",
       "      <td>OUTAGE</td>\n",
       "    </tr>\n",
       "    <tr>\n",
       "      <th>629</th>\n",
       "      <td>125th St</td>\n",
       "      <td>An elevator</td>\n",
       "      <td></td>\n",
       "      <td>Mezzanine And Downtown</td>\n",
       "      <td>FIXED</td>\n",
       "      <td>2017-03-29 09:09:04</td>\n",
       "      <td>OUTAGE</td>\n",
       "      <td>2017-03-30 18:28:44</td>\n",
       "      <td>FIXED</td>\n",
       "    </tr>\n",
       "    <tr>\n",
       "      <th>354</th>\n",
       "      <td>125th St</td>\n",
       "      <td>An elevator</td>\n",
       "      <td></td>\n",
       "      <td>Mezzanine And Downtown</td>\n",
       "      <td>OUTAGE</td>\n",
       "      <td>2017-03-30 18:28:44</td>\n",
       "      <td>FIXED</td>\n",
       "      <td>2017-03-30 21:58:46</td>\n",
       "      <td>OUTAGE</td>\n",
       "    </tr>\n",
       "    <tr>\n",
       "      <th>308</th>\n",
       "      <td>125th St</td>\n",
       "      <td>An elevator</td>\n",
       "      <td></td>\n",
       "      <td>Mezzanine And Downtown</td>\n",
       "      <td>FIXED</td>\n",
       "      <td>2017-03-30 21:58:46</td>\n",
       "      <td></td>\n",
       "      <td></td>\n",
       "      <td>FIXED</td>\n",
       "    </tr>\n",
       "    <tr>\n",
       "      <th>1960</th>\n",
       "      <td>125th St</td>\n",
       "      <td>An elevator</td>\n",
       "      <td></td>\n",
       "      <td>Mezzanine And Uptown</td>\n",
       "      <td>OUTAGE</td>\n",
       "      <td>2017-03-21 18:09:13</td>\n",
       "      <td>FIXED</td>\n",
       "      <td>2017-03-22 00:58:46</td>\n",
       "      <td></td>\n",
       "    </tr>\n",
       "    <tr>\n",
       "      <th>1910</th>\n",
       "      <td>125th St</td>\n",
       "      <td>An elevator</td>\n",
       "      <td></td>\n",
       "      <td>Mezzanine And Uptown</td>\n",
       "      <td>FIXED</td>\n",
       "      <td>2017-03-22 00:58:46</td>\n",
       "      <td>OUTAGE</td>\n",
       "      <td>2017-03-30 04:18:39</td>\n",
       "      <td>FIXED</td>\n",
       "    </tr>\n",
       "    <tr>\n",
       "      <th>482</th>\n",
       "      <td>125th St</td>\n",
       "      <td>An elevator</td>\n",
       "      <td></td>\n",
       "      <td>Mezzanine And Uptown</td>\n",
       "      <td>OUTAGE</td>\n",
       "      <td>2017-03-30 04:18:39</td>\n",
       "      <td>FIXED</td>\n",
       "      <td>2017-03-30 09:38:27</td>\n",
       "      <td>OUTAGE</td>\n",
       "    </tr>\n",
       "  </tbody>\n",
       "</table>\n",
       "</div>"
      ],
      "text/plain": [
       "          name human_eq_type location                 serving  status  \\\n",
       "3160  125th St   An elevator           Mezzanine And Downtown   FIXED   \n",
       "2999  125th St   An elevator           Mezzanine And Downtown  OUTAGE   \n",
       "2993  125th St   An elevator           Mezzanine And Downtown   FIXED   \n",
       "678   125th St   An elevator           Mezzanine And Downtown  OUTAGE   \n",
       "629   125th St   An elevator           Mezzanine And Downtown   FIXED   \n",
       "354   125th St   An elevator           Mezzanine And Downtown  OUTAGE   \n",
       "308   125th St   An elevator           Mezzanine And Downtown   FIXED   \n",
       "1960  125th St   An elevator             Mezzanine And Uptown  OUTAGE   \n",
       "1910  125th St   An elevator             Mezzanine And Uptown   FIXED   \n",
       "482   125th St   An elevator             Mezzanine And Uptown  OUTAGE   \n",
       "\n",
       "                    date status2                date2 status2_lag  \n",
       "3160 2017-03-14 18:28:41  OUTAGE  2017-03-15 12:18:12         NaN  \n",
       "2999 2017-03-15 12:18:12   FIXED  2017-03-15 13:08:33      OUTAGE  \n",
       "2993 2017-03-15 13:08:33  OUTAGE  2017-03-29 03:38:37       FIXED  \n",
       "678  2017-03-29 03:38:37   FIXED  2017-03-29 09:09:04      OUTAGE  \n",
       "629  2017-03-29 09:09:04  OUTAGE  2017-03-30 18:28:44       FIXED  \n",
       "354  2017-03-30 18:28:44   FIXED  2017-03-30 21:58:46      OUTAGE  \n",
       "308  2017-03-30 21:58:46                                    FIXED  \n",
       "1960 2017-03-21 18:09:13   FIXED  2017-03-22 00:58:46              \n",
       "1910 2017-03-22 00:58:46  OUTAGE  2017-03-30 04:18:39       FIXED  \n",
       "482  2017-03-30 04:18:39   FIXED  2017-03-30 09:38:27      OUTAGE  "
      ]
     },
     "execution_count": 49,
     "metadata": {},
     "output_type": "execute_result"
    }
   ],
   "source": [
    "df['status2_lag'] = df['status2'].shift()\n",
    "df.head(10)"
   ]
  },
  {
   "cell_type": "code",
   "execution_count": 50,
   "metadata": {
    "collapsed": false
   },
   "outputs": [
    {
     "data": {
      "text/html": [
       "<div>\n",
       "<table border=\"1\" class=\"dataframe\">\n",
       "  <thead>\n",
       "    <tr style=\"text-align: right;\">\n",
       "      <th></th>\n",
       "      <th>name</th>\n",
       "      <th>human_eq_type</th>\n",
       "      <th>location</th>\n",
       "      <th>serving</th>\n",
       "      <th>status</th>\n",
       "      <th>date</th>\n",
       "      <th>status2</th>\n",
       "      <th>date2</th>\n",
       "    </tr>\n",
       "  </thead>\n",
       "  <tbody>\n",
       "    <tr>\n",
       "      <th>3160</th>\n",
       "      <td>125th St</td>\n",
       "      <td>An elevator</td>\n",
       "      <td></td>\n",
       "      <td>Mezzanine And Downtown</td>\n",
       "      <td>FIXED</td>\n",
       "      <td>2017-03-14 18:28:41</td>\n",
       "      <td>OUTAGE</td>\n",
       "      <td>2017-03-15 12:18:12</td>\n",
       "    </tr>\n",
       "    <tr>\n",
       "      <th>2999</th>\n",
       "      <td>125th St</td>\n",
       "      <td>An elevator</td>\n",
       "      <td></td>\n",
       "      <td>Mezzanine And Downtown</td>\n",
       "      <td>OUTAGE</td>\n",
       "      <td>2017-03-15 12:18:12</td>\n",
       "      <td>FIXED</td>\n",
       "      <td>2017-03-15 13:08:33</td>\n",
       "    </tr>\n",
       "    <tr>\n",
       "      <th>678</th>\n",
       "      <td>125th St</td>\n",
       "      <td>An elevator</td>\n",
       "      <td></td>\n",
       "      <td>Mezzanine And Downtown</td>\n",
       "      <td>OUTAGE</td>\n",
       "      <td>2017-03-29 03:38:37</td>\n",
       "      <td>FIXED</td>\n",
       "      <td>2017-03-29 09:09:04</td>\n",
       "    </tr>\n",
       "    <tr>\n",
       "      <th>354</th>\n",
       "      <td>125th St</td>\n",
       "      <td>An elevator</td>\n",
       "      <td></td>\n",
       "      <td>Mezzanine And Downtown</td>\n",
       "      <td>OUTAGE</td>\n",
       "      <td>2017-03-30 18:28:44</td>\n",
       "      <td>FIXED</td>\n",
       "      <td>2017-03-30 21:58:46</td>\n",
       "    </tr>\n",
       "    <tr>\n",
       "      <th>1960</th>\n",
       "      <td>125th St</td>\n",
       "      <td>An elevator</td>\n",
       "      <td></td>\n",
       "      <td>Mezzanine And Uptown</td>\n",
       "      <td>OUTAGE</td>\n",
       "      <td>2017-03-21 18:09:13</td>\n",
       "      <td>FIXED</td>\n",
       "      <td>2017-03-22 00:58:46</td>\n",
       "    </tr>\n",
       "    <tr>\n",
       "      <th>482</th>\n",
       "      <td>125th St</td>\n",
       "      <td>An elevator</td>\n",
       "      <td></td>\n",
       "      <td>Mezzanine And Uptown</td>\n",
       "      <td>OUTAGE</td>\n",
       "      <td>2017-03-30 04:18:39</td>\n",
       "      <td>FIXED</td>\n",
       "      <td>2017-03-30 09:38:27</td>\n",
       "    </tr>\n",
       "    <tr>\n",
       "      <th>2083</th>\n",
       "      <td>125th St</td>\n",
       "      <td>An elevator</td>\n",
       "      <td></td>\n",
       "      <td>Mezzanine To Uptown And Downtown Platforms</td>\n",
       "      <td>OUTAGE</td>\n",
       "      <td>2017-03-21 02:18:33</td>\n",
       "      <td>FIXED</td>\n",
       "      <td>2017-03-21 06:08:45</td>\n",
       "    </tr>\n",
       "    <tr>\n",
       "      <th>1954</th>\n",
       "      <td>125th St</td>\n",
       "      <td>An elevator</td>\n",
       "      <td></td>\n",
       "      <td>Mezzanine To Uptown And Downtown Platforms</td>\n",
       "      <td>OUTAGE</td>\n",
       "      <td>2017-03-21 18:48:34</td>\n",
       "      <td>FIXED</td>\n",
       "      <td>2017-03-21 21:18:43</td>\n",
       "    </tr>\n",
       "    <tr>\n",
       "      <th>642</th>\n",
       "      <td>125th St</td>\n",
       "      <td>An elevator</td>\n",
       "      <td></td>\n",
       "      <td>Mezzanine To Uptown And Downtown Platforms</td>\n",
       "      <td>OUTAGE</td>\n",
       "      <td>2017-03-29 08:28:53</td>\n",
       "      <td>FIXED</td>\n",
       "      <td>2017-03-29 14:09:03</td>\n",
       "    </tr>\n",
       "    <tr>\n",
       "      <th>3192</th>\n",
       "      <td>125th St</td>\n",
       "      <td>An elevator</td>\n",
       "      <td></td>\n",
       "      <td>Street To Mezzanine And Downtown Platform</td>\n",
       "      <td>FIXED</td>\n",
       "      <td>2017-03-14 16:09:00</td>\n",
       "      <td>OUTAGE</td>\n",
       "      <td>2017-03-15 05:38:21</td>\n",
       "    </tr>\n",
       "  </tbody>\n",
       "</table>\n",
       "</div>"
      ],
      "text/plain": [
       "          name human_eq_type location  \\\n",
       "3160  125th St   An elevator            \n",
       "2999  125th St   An elevator            \n",
       "678   125th St   An elevator            \n",
       "354   125th St   An elevator            \n",
       "1960  125th St   An elevator            \n",
       "482   125th St   An elevator            \n",
       "2083  125th St   An elevator            \n",
       "1954  125th St   An elevator            \n",
       "642   125th St   An elevator            \n",
       "3192  125th St   An elevator            \n",
       "\n",
       "                                         serving  status                date  \\\n",
       "3160                      Mezzanine And Downtown   FIXED 2017-03-14 18:28:41   \n",
       "2999                      Mezzanine And Downtown  OUTAGE 2017-03-15 12:18:12   \n",
       "678                       Mezzanine And Downtown  OUTAGE 2017-03-29 03:38:37   \n",
       "354                       Mezzanine And Downtown  OUTAGE 2017-03-30 18:28:44   \n",
       "1960                        Mezzanine And Uptown  OUTAGE 2017-03-21 18:09:13   \n",
       "482                         Mezzanine And Uptown  OUTAGE 2017-03-30 04:18:39   \n",
       "2083  Mezzanine To Uptown And Downtown Platforms  OUTAGE 2017-03-21 02:18:33   \n",
       "1954  Mezzanine To Uptown And Downtown Platforms  OUTAGE 2017-03-21 18:48:34   \n",
       "642   Mezzanine To Uptown And Downtown Platforms  OUTAGE 2017-03-29 08:28:53   \n",
       "3192   Street To Mezzanine And Downtown Platform   FIXED 2017-03-14 16:09:00   \n",
       "\n",
       "     status2                date2  \n",
       "3160  OUTAGE  2017-03-15 12:18:12  \n",
       "2999   FIXED  2017-03-15 13:08:33  \n",
       "678    FIXED  2017-03-29 09:09:04  \n",
       "354    FIXED  2017-03-30 21:58:46  \n",
       "1960   FIXED  2017-03-22 00:58:46  \n",
       "482    FIXED  2017-03-30 09:38:27  \n",
       "2083   FIXED  2017-03-21 06:08:45  \n",
       "1954   FIXED  2017-03-21 21:18:43  \n",
       "642    FIXED  2017-03-29 14:09:03  \n",
       "3192  OUTAGE  2017-03-15 05:38:21  "
      ]
     },
     "execution_count": 50,
     "metadata": {},
     "output_type": "execute_result"
    }
   ],
   "source": [
    "df = df[(df['status'] != 'FIXED') | (df['status'] != df['status2_lag'])]\n",
    "df.drop('status2_lag', axis = 1, inplace = True)\n",
    "df.head(10)"
   ]
  },
  {
   "cell_type": "code",
   "execution_count": 51,
   "metadata": {
    "collapsed": true
   },
   "outputs": [],
   "source": [
    "# write a function to clean out status2 and date2 if they are included in the next record\n",
    "def clean_status2(row): \n",
    "    if row['date_lead'] == row['date2']: \n",
    "        row['status2'] = ''\n",
    "        row['date2'] = ''\n",
    "    return row"
   ]
  },
  {
   "cell_type": "code",
   "execution_count": 52,
   "metadata": {
    "collapsed": false
   },
   "outputs": [
    {
     "data": {
      "text/html": [
       "<div>\n",
       "<table border=\"1\" class=\"dataframe\">\n",
       "  <thead>\n",
       "    <tr style=\"text-align: right;\">\n",
       "      <th></th>\n",
       "      <th>name</th>\n",
       "      <th>human_eq_type</th>\n",
       "      <th>location</th>\n",
       "      <th>serving</th>\n",
       "      <th>status</th>\n",
       "      <th>date</th>\n",
       "      <th>status2</th>\n",
       "      <th>date2</th>\n",
       "    </tr>\n",
       "  </thead>\n",
       "  <tbody>\n",
       "    <tr>\n",
       "      <th>3160</th>\n",
       "      <td>125th St</td>\n",
       "      <td>An elevator</td>\n",
       "      <td></td>\n",
       "      <td>Mezzanine And Downtown</td>\n",
       "      <td>FIXED</td>\n",
       "      <td>2017-03-14 18:28:41</td>\n",
       "      <td></td>\n",
       "      <td></td>\n",
       "    </tr>\n",
       "    <tr>\n",
       "      <th>2999</th>\n",
       "      <td>125th St</td>\n",
       "      <td>An elevator</td>\n",
       "      <td></td>\n",
       "      <td>Mezzanine And Downtown</td>\n",
       "      <td>OUTAGE</td>\n",
       "      <td>2017-03-15 12:18:12</td>\n",
       "      <td>FIXED</td>\n",
       "      <td>2017-03-15 13:08:33</td>\n",
       "    </tr>\n",
       "    <tr>\n",
       "      <th>678</th>\n",
       "      <td>125th St</td>\n",
       "      <td>An elevator</td>\n",
       "      <td></td>\n",
       "      <td>Mezzanine And Downtown</td>\n",
       "      <td>OUTAGE</td>\n",
       "      <td>2017-03-29 03:38:37</td>\n",
       "      <td>FIXED</td>\n",
       "      <td>2017-03-29 09:09:04</td>\n",
       "    </tr>\n",
       "    <tr>\n",
       "      <th>354</th>\n",
       "      <td>125th St</td>\n",
       "      <td>An elevator</td>\n",
       "      <td></td>\n",
       "      <td>Mezzanine And Downtown</td>\n",
       "      <td>OUTAGE</td>\n",
       "      <td>2017-03-30 18:28:44</td>\n",
       "      <td>FIXED</td>\n",
       "      <td>2017-03-30 21:58:46</td>\n",
       "    </tr>\n",
       "    <tr>\n",
       "      <th>1960</th>\n",
       "      <td>125th St</td>\n",
       "      <td>An elevator</td>\n",
       "      <td></td>\n",
       "      <td>Mezzanine And Uptown</td>\n",
       "      <td>OUTAGE</td>\n",
       "      <td>2017-03-21 18:09:13</td>\n",
       "      <td>FIXED</td>\n",
       "      <td>2017-03-22 00:58:46</td>\n",
       "    </tr>\n",
       "  </tbody>\n",
       "</table>\n",
       "</div>"
      ],
      "text/plain": [
       "          name human_eq_type location                 serving  status  \\\n",
       "3160  125th St   An elevator           Mezzanine And Downtown   FIXED   \n",
       "2999  125th St   An elevator           Mezzanine And Downtown  OUTAGE   \n",
       "678   125th St   An elevator           Mezzanine And Downtown  OUTAGE   \n",
       "354   125th St   An elevator           Mezzanine And Downtown  OUTAGE   \n",
       "1960  125th St   An elevator             Mezzanine And Uptown  OUTAGE   \n",
       "\n",
       "                    date status2                date2  \n",
       "3160 2017-03-14 18:28:41                               \n",
       "2999 2017-03-15 12:18:12   FIXED  2017-03-15 13:08:33  \n",
       "678  2017-03-29 03:38:37   FIXED  2017-03-29 09:09:04  \n",
       "354  2017-03-30 18:28:44   FIXED  2017-03-30 21:58:46  \n",
       "1960 2017-03-21 18:09:13   FIXED  2017-03-22 00:58:46  "
      ]
     },
     "execution_count": 52,
     "metadata": {},
     "output_type": "execute_result"
    }
   ],
   "source": [
    "# clean out status2 and date2 if they are included in the next record\n",
    "df['date_lead'] = df['date'].shift(-1)\n",
    "df = df.apply(clean_status2, axis = 1)\n",
    "df.drop('date_lead', axis = 1, inplace = True)\n",
    "df.head()"
   ]
  },
  {
   "cell_type": "code",
   "execution_count": 53,
   "metadata": {
    "collapsed": false
   },
   "outputs": [
    {
     "data": {
      "text/plain": [
       "name                     object\n",
       "human_eq_type            object\n",
       "location                 object\n",
       "serving                  object\n",
       "status                   object\n",
       "date             datetime64[ns]\n",
       "status2                  object\n",
       "date2                    object\n",
       "dtype: object"
      ]
     },
     "execution_count": 53,
     "metadata": {},
     "output_type": "execute_result"
    }
   ],
   "source": [
    "df.dtypes"
   ]
  },
  {
   "cell_type": "code",
   "execution_count": 54,
   "metadata": {
    "collapsed": false
   },
   "outputs": [],
   "source": [
    "df['date2'] = pd.to_datetime(df['date2'])"
   ]
  },
  {
   "cell_type": "code",
   "execution_count": 55,
   "metadata": {
    "collapsed": false
   },
   "outputs": [
    {
     "data": {
      "text/html": [
       "<div>\n",
       "<table border=\"1\" class=\"dataframe\">\n",
       "  <thead>\n",
       "    <tr style=\"text-align: right;\">\n",
       "      <th></th>\n",
       "      <th>date</th>\n",
       "      <th>date2</th>\n",
       "      <th>time_spent</th>\n",
       "    </tr>\n",
       "  </thead>\n",
       "  <tbody>\n",
       "    <tr>\n",
       "      <th>3160</th>\n",
       "      <td>2017-03-14 18:28:41</td>\n",
       "      <td>NaT</td>\n",
       "      <td>NaT</td>\n",
       "    </tr>\n",
       "    <tr>\n",
       "      <th>2999</th>\n",
       "      <td>2017-03-15 12:18:12</td>\n",
       "      <td>2017-03-15 13:08:33</td>\n",
       "      <td>00:50:21</td>\n",
       "    </tr>\n",
       "    <tr>\n",
       "      <th>678</th>\n",
       "      <td>2017-03-29 03:38:37</td>\n",
       "      <td>2017-03-29 09:09:04</td>\n",
       "      <td>05:30:27</td>\n",
       "    </tr>\n",
       "    <tr>\n",
       "      <th>354</th>\n",
       "      <td>2017-03-30 18:28:44</td>\n",
       "      <td>2017-03-30 21:58:46</td>\n",
       "      <td>03:30:02</td>\n",
       "    </tr>\n",
       "    <tr>\n",
       "      <th>1960</th>\n",
       "      <td>2017-03-21 18:09:13</td>\n",
       "      <td>2017-03-22 00:58:46</td>\n",
       "      <td>06:49:33</td>\n",
       "    </tr>\n",
       "  </tbody>\n",
       "</table>\n",
       "</div>"
      ],
      "text/plain": [
       "                    date               date2  time_spent\n",
       "3160 2017-03-14 18:28:41                 NaT         NaT\n",
       "2999 2017-03-15 12:18:12 2017-03-15 13:08:33    00:50:21\n",
       "678  2017-03-29 03:38:37 2017-03-29 09:09:04    05:30:27\n",
       "354  2017-03-30 18:28:44 2017-03-30 21:58:46    03:30:02\n",
       "1960 2017-03-21 18:09:13 2017-03-22 00:58:46    06:49:33"
      ]
     },
     "execution_count": 55,
     "metadata": {},
     "output_type": "execute_result"
    }
   ],
   "source": [
    "df['time_spent'] = df['date2'] - df['date']\n",
    "df[['date', 'date2', 'time_spent']].head()"
   ]
  },
  {
   "cell_type": "code",
   "execution_count": 56,
   "metadata": {
    "collapsed": false
   },
   "outputs": [
    {
     "data": {
      "text/html": [
       "<div>\n",
       "<table border=\"1\" class=\"dataframe\">\n",
       "  <thead>\n",
       "    <tr style=\"text-align: right;\">\n",
       "      <th></th>\n",
       "      <th>name</th>\n",
       "      <th>human_eq_type</th>\n",
       "      <th>location</th>\n",
       "      <th>serving</th>\n",
       "      <th>status</th>\n",
       "      <th>date</th>\n",
       "      <th>status2</th>\n",
       "      <th>date2</th>\n",
       "      <th>time_spent</th>\n",
       "    </tr>\n",
       "  </thead>\n",
       "  <tbody>\n",
       "    <tr>\n",
       "      <th>0</th>\n",
       "      <td>125th St</td>\n",
       "      <td>An elevator</td>\n",
       "      <td></td>\n",
       "      <td>Mezzanine And Downtown</td>\n",
       "      <td>FIXED</td>\n",
       "      <td>2017-03-14 18:28:41</td>\n",
       "      <td></td>\n",
       "      <td>NaT</td>\n",
       "      <td>NaT</td>\n",
       "    </tr>\n",
       "    <tr>\n",
       "      <th>1</th>\n",
       "      <td>125th St</td>\n",
       "      <td>An elevator</td>\n",
       "      <td></td>\n",
       "      <td>Mezzanine And Downtown</td>\n",
       "      <td>OUTAGE</td>\n",
       "      <td>2017-03-15 12:18:12</td>\n",
       "      <td>FIXED</td>\n",
       "      <td>2017-03-15 13:08:33</td>\n",
       "      <td>00:50:21</td>\n",
       "    </tr>\n",
       "    <tr>\n",
       "      <th>2</th>\n",
       "      <td>125th St</td>\n",
       "      <td>An elevator</td>\n",
       "      <td></td>\n",
       "      <td>Mezzanine And Downtown</td>\n",
       "      <td>OUTAGE</td>\n",
       "      <td>2017-03-29 03:38:37</td>\n",
       "      <td>FIXED</td>\n",
       "      <td>2017-03-29 09:09:04</td>\n",
       "      <td>05:30:27</td>\n",
       "    </tr>\n",
       "    <tr>\n",
       "      <th>3</th>\n",
       "      <td>125th St</td>\n",
       "      <td>An elevator</td>\n",
       "      <td></td>\n",
       "      <td>Mezzanine And Downtown</td>\n",
       "      <td>OUTAGE</td>\n",
       "      <td>2017-03-30 18:28:44</td>\n",
       "      <td>FIXED</td>\n",
       "      <td>2017-03-30 21:58:46</td>\n",
       "      <td>03:30:02</td>\n",
       "    </tr>\n",
       "    <tr>\n",
       "      <th>4</th>\n",
       "      <td>125th St</td>\n",
       "      <td>An elevator</td>\n",
       "      <td></td>\n",
       "      <td>Mezzanine And Uptown</td>\n",
       "      <td>OUTAGE</td>\n",
       "      <td>2017-03-21 18:09:13</td>\n",
       "      <td>FIXED</td>\n",
       "      <td>2017-03-22 00:58:46</td>\n",
       "      <td>06:49:33</td>\n",
       "    </tr>\n",
       "  </tbody>\n",
       "</table>\n",
       "</div>"
      ],
      "text/plain": [
       "       name human_eq_type location                 serving  status  \\\n",
       "0  125th St   An elevator           Mezzanine And Downtown   FIXED   \n",
       "1  125th St   An elevator           Mezzanine And Downtown  OUTAGE   \n",
       "2  125th St   An elevator           Mezzanine And Downtown  OUTAGE   \n",
       "3  125th St   An elevator           Mezzanine And Downtown  OUTAGE   \n",
       "4  125th St   An elevator             Mezzanine And Uptown  OUTAGE   \n",
       "\n",
       "                 date status2               date2  time_spent  \n",
       "0 2017-03-14 18:28:41                         NaT         NaT  \n",
       "1 2017-03-15 12:18:12   FIXED 2017-03-15 13:08:33    00:50:21  \n",
       "2 2017-03-29 03:38:37   FIXED 2017-03-29 09:09:04    05:30:27  \n",
       "3 2017-03-30 18:28:44   FIXED 2017-03-30 21:58:46    03:30:02  \n",
       "4 2017-03-21 18:09:13   FIXED 2017-03-22 00:58:46    06:49:33  "
      ]
     },
     "execution_count": 56,
     "metadata": {},
     "output_type": "execute_result"
    }
   ],
   "source": [
    "# get reset index\n",
    "df.reset_index(drop = True, inplace = True)\n",
    "df.head()"
   ]
  },
  {
   "cell_type": "code",
   "execution_count": 57,
   "metadata": {
    "collapsed": true
   },
   "outputs": [],
   "source": [
    "df.to_csv('CleanedNYCAccessibleTwitterData.csv', index = False)"
   ]
  }
 ],
 "metadata": {
  "kernelspec": {
   "display_name": "Python 3",
   "language": "python",
   "name": "python3"
  },
  "language_info": {
   "codemirror_mode": {
    "name": "ipython",
    "version": 3
   },
   "file_extension": ".py",
   "mimetype": "text/x-python",
   "name": "python",
   "nbconvert_exporter": "python",
   "pygments_lexer": "ipython3",
   "version": "3.4.5"
  }
 },
 "nbformat": 4,
 "nbformat_minor": 2
}
