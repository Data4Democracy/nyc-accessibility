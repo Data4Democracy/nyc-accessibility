{
 "cells": [
  {
   "cell_type": "code",
   "execution_count": 113,
   "metadata": {
    "collapsed": true,
    "deletable": true,
    "editable": true
   },
   "outputs": [],
   "source": [
    "import scrapy\n",
    "import requests\n",
    "import time\n",
    "import shapely\n",
    "import json\n",
    "from shapely.geometry import asShape\n",
    "from collections import defaultdict"
   ]
  },
  {
   "cell_type": "markdown",
   "metadata": {},
   "source": [
    "## Dataset 1 - MTA Geo data\n",
    "\n",
    "The MTA provides GeoJSON of all the stations, where they are on a map, and what lines they service.\n",
    "\n",
    "Dataset quirks:\n",
    "* Multiple stations have the same name (e.g. 103rd st)\n",
    "* Does not directly contain elevator / escalator data\n",
    "\n",
    "`feature['properties']['objectid']` is a unique identifier, and\n",
    "`feature['geometry']` is a valid GeoJSON point."
   ]
  },
  {
   "cell_type": "code",
   "execution_count": 33,
   "metadata": {
    "collapsed": false
   },
   "outputs": [],
   "source": [
    "station_geo=requests.get('https://data.cityofnewyork.us/api/geospatial/arq3-7z49?method=export&format=GeoJSON').json()"
   ]
  },
  {
   "cell_type": "code",
   "execution_count": 34,
   "metadata": {
    "collapsed": false
   },
   "outputs": [
    {
     "data": {
      "text/plain": [
       "{'geometry': {'coordinates': [-73.96837899960818, 40.799446000334825],\n",
       "  'type': 'Point'},\n",
       " 'properties': {'line': '1',\n",
       "  'name': '103rd St',\n",
       "  'notes': '1-all times',\n",
       "  'objectid': '159',\n",
       "  'url': 'http://web.mta.info/nyct/service/'},\n",
       " 'type': 'Feature'}"
      ]
     },
     "execution_count": 34,
     "metadata": {},
     "output_type": "execute_result"
    }
   ],
   "source": [
    "mta_stations_sorted_by_name = sorted(station_geo['features'],key=lambda r:r['properties']['name'])\n",
    "mta_stations_sorted_by_name[0]"
   ]
  },
  {
   "cell_type": "markdown",
   "metadata": {},
   "source": [
    "## Dataset 2 - Station data from NYCAccessible. \n",
    "\n",
    "A non-NYC.gov developer has been regularly scraping elevator outage data \n",
    "from http://advisory.mtanyct.info/EEoutage/ to produce JSON of current outages.\n",
    "\n",
    "He has two useful datasets: \n",
    "First, `http://www.nycaccessible.com/api/v1/stations/` - all stations, matched to the number\n",
    "of escalators and elevators they have and current outages;\n",
    "Second, `http://www.nycaccessible.com/api/v1/stations/<stn>.json` - for an individual\n",
    "station, the details of the machines (elevator or escalator) it has, and their outage status."
   ]
  },
  {
   "cell_type": "code",
   "execution_count": 37,
   "metadata": {
    "collapsed": false
   },
   "outputs": [
    {
     "data": {
      "text/plain": [
       "{'accessible_note': None,\n",
       " 'elevator_count_words': None,\n",
       " 'escalator_count_words': None,\n",
       " 'has_machines': False,\n",
       " 'id': 459,\n",
       " 'is_accessible': False,\n",
       " 'lines': ['6'],\n",
       " 'name': '103rd St',\n",
       " 'outages': None}"
      ]
     },
     "execution_count": 37,
     "metadata": {},
     "output_type": "execute_result"
    }
   ],
   "source": [
    "nyca_stations = requests.get(\"http://www.nycaccessible.com/api/v1/stations/\").json()\n",
    "nyca_stations[0]"
   ]
  },
  {
   "cell_type": "code",
   "execution_count": 44,
   "metadata": {
    "collapsed": false,
    "deletable": true,
    "editable": true
   },
   "outputs": [],
   "source": [
    "def get_nyca_station_detail(station_id):\n",
    "    time.sleep(0.2) # Hack to avoid hitting API limits; should do exponential backoff here but too lazy\n",
    "    detail = requests.get(\n",
    "        \"http://www.nycaccessible.com/api/v1/stations/{}.json\".format(station_id)).json()\n",
    "    return detail\n",
    "all_nyca_station_details = {stn['id']:get_nyca_station_detail(stn['id']) for stn in nyca_stations}"
   ]
  },
  {
   "cell_type": "code",
   "execution_count": 46,
   "metadata": {
    "collapsed": false,
    "deletable": true,
    "editable": true
   },
   "outputs": [
    {
     "data": {
      "text/plain": [
       "dict_keys(['id', 'name', 'lines', 'is_accessible', 'has_machines', 'elevator_count_words', 'escalator_count_words', 'outages', 'accessible_note', 'updated_at', 'machines', 'bus_info'])"
      ]
     },
     "execution_count": 46,
     "metadata": {},
     "output_type": "execute_result"
    }
   ],
   "source": [
    "all_nyca_station_details[1].keys()"
   ]
  },
  {
   "cell_type": "code",
   "execution_count": 48,
   "metadata": {
    "collapsed": false,
    "deletable": true,
    "editable": true
   },
   "outputs": [
    {
     "data": {
      "text/plain": [
       "{'human_eq_type': 'Elevator',\n",
       " 'image': 'EL_operating.png',\n",
       " 'lines': ['A', 'B', 'C', 'D', 'E', 'F', 'M'],\n",
       " 'location': 'NE corner of West 3rd Street and Sixth Avenue',\n",
       " 'out_since': False,\n",
       " 'return_date_display': False,\n",
       " 'serving': 'Street To Mezzanine'}"
      ]
     },
     "execution_count": 48,
     "metadata": {},
     "output_type": "execute_result"
    }
   ],
   "source": [
    "all_nyca_station_details[1]['machines'][1]"
   ]
  },
  {
   "cell_type": "markdown",
   "metadata": {},
   "source": [
    "## Dataset 3 - NYC neighborhood data\n",
    "\n",
    "Since we'd like to highlight when certain neighborhoods are underserved by accessibility, we need a source\n",
    "of neighborhood data. Here's one that seeems to be reasonably comprehensive:\n",
    "\n",
    "http://services5.arcgis.com/GfwWNkhOj9bNBqoJ/arcgis/rest/services/nynta/FeatureServer/0/query?where=1=1&outFields=*&outSR=4326&f=geojson\n",
    "\n",
    "(Linked from nyc.gov https://www1.nyc.gov/site/planning/data-maps/open-data/dwn-nynta.page )\n",
    "\n",
    "`feature['properties']['NTACode']` is a unique identifier, and\n",
    "`feature['geometry']` is a valid GeoJSON polygon."
   ]
  },
  {
   "cell_type": "code",
   "execution_count": 49,
   "metadata": {
    "collapsed": true
   },
   "outputs": [],
   "source": [
    "neighborhood_data=requests.get('http://services5.arcgis.com/GfwWNkhOj9bNBqoJ/arcgis/rest/services/nynta/FeatureServer/0/query?where=1=1&outFields=*&outSR=4326&f=geojson').json()"
   ]
  },
  {
   "cell_type": "code",
   "execution_count": 56,
   "metadata": {
    "collapsed": false,
    "deletable": true,
    "editable": true
   },
   "outputs": [
    {
     "data": {
      "text/plain": [
       "{'BoroCode': 3,\n",
       " 'BoroName': 'Brooklyn',\n",
       " 'CountyFIPS': '047',\n",
       " 'NTACode': 'BK88',\n",
       " 'NTAName': 'Borough Park',\n",
       " 'OBJECTID': 1,\n",
       " 'Shape__Area': 0.000534040202917259,\n",
       " 'Shape__Length': 0.12354783848794}"
      ]
     },
     "execution_count": 56,
     "metadata": {},
     "output_type": "execute_result"
    }
   ],
   "source": [
    "neighborhood_data['features'][0]['properties']"
   ]
  },
  {
   "cell_type": "markdown",
   "metadata": {},
   "source": [
    "## OK, let's get to work\n",
    "\n",
    "Starting question: How many subway stops are in each neighborhood?\n",
    "There's probably a cheaper way to calculate this than `O(n**2)` but I'm under time pressure\n",
    "so let's do that.\n",
    "\n",
    "A neighborhood is represented by `neighborhood_data['features'][n]['geometry']`, a Polygon.\n",
    "A subway stop is represented by `mta_stations_sorted_by_name[n]['geometry']`, a Point."
   ]
  },
  {
   "cell_type": "code",
   "execution_count": 80,
   "metadata": {
    "collapsed": false
   },
   "outputs": [],
   "source": [
    "neighborhood_by_ntacode = {\n",
    "    n['properties']['NTACode']:n \n",
    "    for n in neighborhood_data['features']}\n",
    "neighborhood_polygons_by_ntacode={\n",
    "    n['properties']['NTACode']:asShape(n['geometry']) \n",
    "    for n in neighborhood_data['features']\n",
    "}"
   ]
  },
  {
   "cell_type": "code",
   "execution_count": 81,
   "metadata": {
    "collapsed": false
   },
   "outputs": [],
   "source": [
    "station_by_objectid = {\n",
    "    s['properties']['objectid']:s \n",
    "    for s in mta_stations_sorted_by_name\n",
    "}\n",
    "station_points_by_objectid = {\n",
    "    s['properties']['objectid']:asShape(s['geometry'])\n",
    "    for s in mta_stations_sorted_by_name\n",
    "}\n"
   ]
  },
  {
   "cell_type": "code",
   "execution_count": null,
   "metadata": {
    "collapsed": false
   },
   "outputs": [],
   "source": [
    "i=0\n",
    "total=len(neighborhood_by_ntacode.keys())\n",
    "def stations_in_neighborhood(ntacode):\n",
    "    global i\n",
    "    npoly = neighborhood_polygons_by_ntacode[ntacode]\n",
    "    nname = neighborhood_by_ntacode[ntacode]['properties']['NTAName']\n",
    "    print(\"{i}/{total}: {nname}\".format(i=i,total=total,nname=nname))\n",
    "    i=i+1\n",
    "    return (ntacode,nname,[\n",
    "        station_id # objectid\n",
    "        for station_id,station_point in station_points_by_objectid.items()\n",
    "        if npoly.contains(station_point)\n",
    "    ])\n",
    "\n",
    "neighborhood_to_stations = [\n",
    "    stations_in_neighborhood(n_id)\n",
    "    for n_id,n_detail in neighborhood_by_ntacode.items()\n",
    "]\n",
    "\n",
    "len(neighborhood_to_stations)\n",
    "# This takes about 5 minutes to run. Wait...."
   ]
  },
  {
   "cell_type": "code",
   "execution_count": 105,
   "metadata": {
    "collapsed": false
   },
   "outputs": [
    {
     "data": {
      "text/plain": [
       "473"
      ]
     },
     "execution_count": 105,
     "metadata": {},
     "output_type": "execute_result"
    }
   ],
   "source": [
    "# invert this to verify - do stations appear in multiple neighborhoods?\n",
    "stations_to_neighborhoods=defaultdict(lambda:[])\n",
    "for n_id,n_name,stations in neighborhood_to_stations:\n",
    "    for s in stations:\n",
    "        stations_to_neighborhoods[s].append(n_id)\n",
    "len(stations_to_neighborhoods)"
   ]
  },
  {
   "cell_type": "code",
   "execution_count": 116,
   "metadata": {
    "collapsed": false
   },
   "outputs": [],
   "source": [
    "# ... No they don't, so the last thing I need is to go back to the original neighborhood\n",
    "# data and populate it with a count_of_subway_stations property for graphing\n",
    "neighborhood_to_count = {\n",
    "    n_id:len(stations)\n",
    "    for n_id,n_name,stations in neighborhood_to_stations\n",
    "}\n",
    "# Enrich the original neighborhood_data geojson with count_of_subway_stations:\n",
    "for n in neighborhood_data['features']:\n",
    "    n_id=n['properties']['NTACode']\n",
    "    n['properties']['count_of_subway_stops'] = neighborhood_to_count[n_id]\n"
   ]
  },
  {
   "cell_type": "code",
   "execution_count": 119,
   "metadata": {
    "collapsed": false
   },
   "outputs": [
    {
     "data": {
      "text/plain": [
       "{'BoroCode': 3,\n",
       " 'BoroName': 'Brooklyn',\n",
       " 'CountyFIPS': '047',\n",
       " 'NTACode': 'BK88',\n",
       " 'NTAName': 'Borough Park',\n",
       " 'OBJECTID': 1,\n",
       " 'Shape__Area': 0.000534040202917259,\n",
       " 'Shape__Length': 0.12354783848794,\n",
       " 'count_of_subway_stops': 4}"
      ]
     },
     "execution_count": 119,
     "metadata": {},
     "output_type": "execute_result"
    }
   ],
   "source": [
    "neighborhood_data['features'][0]['properties']"
   ]
  },
  {
   "cell_type": "markdown",
   "metadata": {
    "collapsed": true,
    "deletable": true,
    "editable": true
   },
   "source": [
    "## Break time! Let's write our key data structures at this point to json, so others can use them."
   ]
  },
  {
   "cell_type": "code",
   "execution_count": 120,
   "metadata": {
    "collapsed": false
   },
   "outputs": [],
   "source": [
    "with open('neighborhood_to_stations.json','w') as outfile:\n",
    "    json.dump(neighborhood_to_stations,outfile)\n",
    "with open('stations_to_neighborhoods.json','w') as outfile:\n",
    "    json.dump(stations_to_neighborhoods,outfile)\n",
    "with open('mta_stations_sorted_by_name.json','w') as outfile:\n",
    "    json.dump(mta_stations_sorted_by_name,outfile)\n",
    "with open('nyca_stations.json','w') as outfile:\n",
    "    json.dump(nyca_stations,outfile)\n",
    "with open('all_nyca_station_details.json','w') as outfile:\n",
    "    json.dump(all_nyca_station_details,outfile)\n",
    "with open('neighborhood_data.json','w') as outfile:\n",
    "    json.dump(neighborhood_data,outfile)"
   ]
  },
  {
   "cell_type": "code",
   "execution_count": null,
   "metadata": {
    "collapsed": true
   },
   "outputs": [],
   "source": []
  }
 ],
 "metadata": {
  "kernelspec": {
   "display_name": "Python 3",
   "language": "python",
   "name": "python3"
  },
  "language_info": {
   "codemirror_mode": {
    "name": "ipython",
    "version": 3
   },
   "file_extension": ".py",
   "mimetype": "text/x-python",
   "name": "python",
   "nbconvert_exporter": "python",
   "pygments_lexer": "ipython3",
   "version": "3.6.0"
  }
 },
 "nbformat": 4,
 "nbformat_minor": 2
}
