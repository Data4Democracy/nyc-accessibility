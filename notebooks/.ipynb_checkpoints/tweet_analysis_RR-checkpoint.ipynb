{
 "cells": [
  {
   "cell_type": "code",
   "execution_count": 268,
   "metadata": {
    "collapsed": false
   },
   "outputs": [],
   "source": [
    "import pandas as pd\n",
    "import numpy as np\n",
    "from datetime import datetime\n",
    "import matplotlib.pyplot as plt"
   ]
  },
  {
   "cell_type": "code",
   "execution_count": 103,
   "metadata": {
    "collapsed": false
   },
   "outputs": [],
   "source": [
    "tweets = pd.read_csv('/Users/rachael.rho/Desktop/personal/data4democracy/nyc-accessibility/data/nycoutages_tweets.csv')\n",
    "stations = pd.read_csv('/Users/rachael.rho/Desktop/personal/data4democracy/nyc-accessibility/data/stations.csv')"
   ]
  },
  {
   "cell_type": "code",
   "execution_count": 108,
   "metadata": {
    "collapsed": false
   },
   "outputs": [],
   "source": [
    "tweets.columns = ['tweet_id','date_time','text']"
   ]
  },
  {
   "cell_type": "code",
   "execution_count": 284,
   "metadata": {
    "collapsed": false,
    "scrolled": true
   },
   "outputs": [
    {
     "data": {
      "text/html": [
       "<div>\n",
       "<style>\n",
       "    .dataframe thead tr:only-child th {\n",
       "        text-align: right;\n",
       "    }\n",
       "\n",
       "    .dataframe thead th {\n",
       "        text-align: left;\n",
       "    }\n",
       "\n",
       "    .dataframe tbody tr th {\n",
       "        vertical-align: top;\n",
       "    }\n",
       "</style>\n",
       "<table border=\"1\" class=\"dataframe\">\n",
       "  <thead>\n",
       "    <tr style=\"text-align: right;\">\n",
       "      <th></th>\n",
       "      <th>text</th>\n",
       "      <th>station</th>\n",
       "      <th>borough</th>\n",
       "      <th>trainno</th>\n",
       "      <th>equipmentno</th>\n",
       "      <th>equipmenttype</th>\n",
       "      <th>serving</th>\n",
       "      <th>ADA</th>\n",
       "    </tr>\n",
       "  </thead>\n",
       "  <tbody>\n",
       "    <tr>\n",
       "      <th>567</th>\n",
       "      <td>NaN</td>\n",
       "      <td>West 8 St - NY Aquarium</td>\n",
       "      <td>BKN</td>\n",
       "      <td>F/Q</td>\n",
       "      <td>ES335</td>\n",
       "      <td>ES</td>\n",
       "      <td>MEZZANINE TO NORTHBOUND UL PLATFORM</td>\n",
       "      <td>N</td>\n",
       "    </tr>\n",
       "    <tr>\n",
       "      <th>568</th>\n",
       "      <td>NaN</td>\n",
       "      <td>West Farms Sq - E Tremont Av</td>\n",
       "      <td>BX</td>\n",
       "      <td>2/5</td>\n",
       "      <td>ES106</td>\n",
       "      <td>ES</td>\n",
       "      <td>STREET TO MEZZANINE</td>\n",
       "      <td>N</td>\n",
       "    </tr>\n",
       "    <tr>\n",
       "      <th>569</th>\n",
       "      <td>NaN</td>\n",
       "      <td>Whitehall St - South Ferry</td>\n",
       "      <td>MN</td>\n",
       "      <td>R/W</td>\n",
       "      <td>ES351</td>\n",
       "      <td>ES</td>\n",
       "      <td>LOWER MEZZANINE TO UPPER MEZZANINE</td>\n",
       "      <td>N</td>\n",
       "    </tr>\n",
       "    <tr>\n",
       "      <th>570</th>\n",
       "      <td>NaN</td>\n",
       "      <td>Whitehall St - South Ferry</td>\n",
       "      <td>MN</td>\n",
       "      <td>R/W</td>\n",
       "      <td>ES312</td>\n",
       "      <td>ES</td>\n",
       "      <td>LOWER MEZZANINE TO UPPER MEZZANINE</td>\n",
       "      <td>N</td>\n",
       "    </tr>\n",
       "    <tr>\n",
       "      <th>571</th>\n",
       "      <td>NaN</td>\n",
       "      <td>Whitehall St - South Ferry</td>\n",
       "      <td>MN</td>\n",
       "      <td>R/W</td>\n",
       "      <td>ES311</td>\n",
       "      <td>ES</td>\n",
       "      <td>LOWER MEZZANINE TO UPPER MEZZANINE</td>\n",
       "      <td>N</td>\n",
       "    </tr>\n",
       "  </tbody>\n",
       "</table>\n",
       "</div>"
      ],
      "text/plain": [
       "     text                       station borough trainno equipmentno  \\\n",
       "567   NaN       West 8 St - NY Aquarium     BKN     F/Q       ES335   \n",
       "568   NaN  West Farms Sq - E Tremont Av      BX     2/5       ES106   \n",
       "569   NaN    Whitehall St - South Ferry      MN     R/W       ES351   \n",
       "570   NaN    Whitehall St - South Ferry      MN     R/W       ES312   \n",
       "571   NaN    Whitehall St - South Ferry      MN     R/W       ES311   \n",
       "\n",
       "    equipmenttype                              serving ADA  \n",
       "567            ES  MEZZANINE TO NORTHBOUND UL PLATFORM   N  \n",
       "568            ES                  STREET TO MEZZANINE   N  \n",
       "569            ES   LOWER MEZZANINE TO UPPER MEZZANINE   N  \n",
       "570            ES   LOWER MEZZANINE TO UPPER MEZZANINE   N  \n",
       "571            ES   LOWER MEZZANINE TO UPPER MEZZANINE   N  "
      ]
     },
     "execution_count": 284,
     "metadata": {},
     "output_type": "execute_result"
    }
   ],
   "source": [
    "stations.tail(5)"
   ]
  },
  {
   "cell_type": "code",
   "execution_count": 283,
   "metadata": {
    "collapsed": false,
    "scrolled": true
   },
   "outputs": [
    {
     "data": {
      "text/html": [
       "<div>\n",
       "<style>\n",
       "    .dataframe thead tr:only-child th {\n",
       "        text-align: right;\n",
       "    }\n",
       "\n",
       "    .dataframe thead th {\n",
       "        text-align: left;\n",
       "    }\n",
       "\n",
       "    .dataframe tbody tr th {\n",
       "        vertical-align: top;\n",
       "    }\n",
       "</style>\n",
       "<table border=\"1\" class=\"dataframe\">\n",
       "  <thead>\n",
       "    <tr style=\"text-align: right;\">\n",
       "      <th></th>\n",
       "      <th>tweet_id</th>\n",
       "      <th>date_time</th>\n",
       "      <th>text</th>\n",
       "      <th>date</th>\n",
       "      <th>station</th>\n",
       "      <th>equipment</th>\n",
       "      <th>area</th>\n",
       "      <th>outage</th>\n",
       "    </tr>\n",
       "  </thead>\n",
       "  <tbody>\n",
       "    <tr>\n",
       "      <th>3195</th>\n",
       "      <td>8.417100e+17</td>\n",
       "      <td>3/14/17 17:58</td>\n",
       "      <td>FIXED: An elevator @ Kew Gardens - Union Tpke ...</td>\n",
       "      <td>2017-03-14</td>\n",
       "      <td>None</td>\n",
       "      <td>elevator</td>\n",
       "      <td>mezzanine to platform</td>\n",
       "      <td>False</td>\n",
       "    </tr>\n",
       "    <tr>\n",
       "      <th>3196</th>\n",
       "      <td>8.417100e+17</td>\n",
       "      <td>3/14/17 17:58</td>\n",
       "      <td>FIXED: An elevator @ 21st St - Queensbridge (N...</td>\n",
       "      <td>2017-03-14</td>\n",
       "      <td>None</td>\n",
       "      <td>elevator</td>\n",
       "      <td>street to mezzanine</td>\n",
       "      <td>False</td>\n",
       "    </tr>\n",
       "    <tr>\n",
       "      <th>3197</th>\n",
       "      <td>8.417100e+17</td>\n",
       "      <td>3/14/17 17:58</td>\n",
       "      <td>OUTAGE: An escalator servicing Street To Mezza...</td>\n",
       "      <td>2017-03-14</td>\n",
       "      <td>None</td>\n",
       "      <td>escalator</td>\n",
       "      <td>street to mezzanine</td>\n",
       "      <td>True</td>\n",
       "    </tr>\n",
       "    <tr>\n",
       "      <th>3198</th>\n",
       "      <td>8.417080e+17</td>\n",
       "      <td>3/14/17 17:48</td>\n",
       "      <td>FIXED: An elevator @ W 4th St - Washington Sq ...</td>\n",
       "      <td>2017-03-14</td>\n",
       "      <td>None</td>\n",
       "      <td>elevator</td>\n",
       "      <td>street to mezzanine</td>\n",
       "      <td>False</td>\n",
       "    </tr>\n",
       "    <tr>\n",
       "      <th>3199</th>\n",
       "      <td>8.417050e+17</td>\n",
       "      <td>3/14/17 17:38</td>\n",
       "      <td>FIXED: An elevator @ Bay Pky servicing Mezzani...</td>\n",
       "      <td>2017-03-14</td>\n",
       "      <td>None</td>\n",
       "      <td>elevator</td>\n",
       "      <td>mezzanine to downtown</td>\n",
       "      <td>False</td>\n",
       "    </tr>\n",
       "  </tbody>\n",
       "</table>\n",
       "</div>"
      ],
      "text/plain": [
       "          tweet_id      date_time  \\\n",
       "3195  8.417100e+17  3/14/17 17:58   \n",
       "3196  8.417100e+17  3/14/17 17:58   \n",
       "3197  8.417100e+17  3/14/17 17:58   \n",
       "3198  8.417080e+17  3/14/17 17:48   \n",
       "3199  8.417050e+17  3/14/17 17:38   \n",
       "\n",
       "                                                   text        date station  \\\n",
       "3195  FIXED: An elevator @ Kew Gardens - Union Tpke ...  2017-03-14    None   \n",
       "3196  FIXED: An elevator @ 21st St - Queensbridge (N...  2017-03-14    None   \n",
       "3197  OUTAGE: An escalator servicing Street To Mezza...  2017-03-14    None   \n",
       "3198  FIXED: An elevator @ W 4th St - Washington Sq ...  2017-03-14    None   \n",
       "3199  FIXED: An elevator @ Bay Pky servicing Mezzani...  2017-03-14    None   \n",
       "\n",
       "      equipment                   area  outage  \n",
       "3195   elevator  mezzanine to platform   False  \n",
       "3196   elevator    street to mezzanine   False  \n",
       "3197  escalator    street to mezzanine    True  \n",
       "3198   elevator    street to mezzanine   False  \n",
       "3199   elevator  mezzanine to downtown   False  "
      ]
     },
     "execution_count": 283,
     "metadata": {},
     "output_type": "execute_result"
    }
   ],
   "source": [
    "tweets.tail(5)"
   ]
  },
  {
   "cell_type": "markdown",
   "metadata": {},
   "source": [
    "## Extract outage/fix, station, equipment and area from tweets"
   ]
  },
  {
   "cell_type": "code",
   "execution_count": 136,
   "metadata": {
    "collapsed": false
   },
   "outputs": [],
   "source": [
    "def station(string,word_list):\n",
    "    #words = []\n",
    "    for word in word_list:\n",
    "        if word in string:\n",
    "            return word\n",
    "            #words.append(word)\n",
    "        else:\n",
    "            pass\n",
    "    #return words\n",
    "            "
   ]
  },
  {
   "cell_type": "code",
   "execution_count": 130,
   "metadata": {
    "collapsed": false
   },
   "outputs": [],
   "source": [
    "equipment = ['escalator','elevator']\n",
    "area = ['street to mezzanine','mezzanine to downtown', 'mezzanine to uptown',\n",
    "        'mezzanine to platform','platform to street','mezzanine to street'\n",
    "        'street to downtown']"
   ]
  },
  {
   "cell_type": "code",
   "execution_count": 137,
   "metadata": {
    "collapsed": false
   },
   "outputs": [],
   "source": [
    "tweets['date'] = tweets['date_time'].apply(lambda x: datetime.strptime(x, '%m/%d/%y %H:%M').date())\n",
    "tweets['outage'] = tweets['text'].apply(lambda x: True if 'outage' in str(x).lower() else False)\n",
    "tweets['station'] = tweets['text'].apply(lambda x: station(str(x),list(stations.station.unique()[1:])))\n",
    "tweets['equipment'] = tweets['text'].apply(lambda x: station(str(x).lower(),equipment))\n",
    "tweets['area'] = tweets['text'].apply(lambda x: station(str(x).lower(),area))"
   ]
  },
  {
   "cell_type": "markdown",
   "metadata": {},
   "source": [
    "## Look at individual tweets and null values to discern what other elements to add to station and area list"
   ]
  },
  {
   "cell_type": "code",
   "execution_count": 205,
   "metadata": {
    "collapsed": false
   },
   "outputs": [
    {
     "data": {
      "text/plain": [
       "'FIXED: An elevator @ 21st St - Queensbridge (NW corner of 21st Street and 41st Avenue) servicing Street To Mezzanine is in service'"
      ]
     },
     "execution_count": 205,
     "metadata": {},
     "output_type": "execute_result"
    }
   ],
   "source": [
    "tweets.text[tweets.station.isnull()].loc[3196]"
   ]
  },
  {
   "cell_type": "code",
   "execution_count": 151,
   "metadata": {
    "collapsed": false
   },
   "outputs": [
    {
     "data": {
      "text/plain": [
       "tweet_id        0\n",
       "date_time       0\n",
       "text            0\n",
       "date            0\n",
       "station      2128\n",
       "equipment       0\n",
       "area         2242\n",
       "outage          0\n",
       "dtype: int64"
      ]
     },
     "execution_count": 151,
     "metadata": {},
     "output_type": "execute_result"
    }
   ],
   "source": [
    "tweets.isnull().sum() #value_counts(dropna=False)"
   ]
  },
  {
   "cell_type": "markdown",
   "metadata": {},
   "source": [
    "## Summarize tweet information"
   ]
  },
  {
   "cell_type": "code",
   "execution_count": 187,
   "metadata": {
    "collapsed": false
   },
   "outputs": [
    {
     "data": {
      "text/plain": [
       "outage\n",
       "False    0.518437\n",
       "True     0.481563\n",
       "Name: tweet_id, dtype: float64"
      ]
     },
     "execution_count": 187,
     "metadata": {},
     "output_type": "execute_result"
    }
   ],
   "source": [
    "tweets.groupby(['outage'])['tweet_id'].count()/len(tweets) "
   ]
  },
  {
   "cell_type": "code",
   "execution_count": 157,
   "metadata": {
    "collapsed": false
   },
   "outputs": [
    {
     "data": {
      "text/html": [
       "<div>\n",
       "<style>\n",
       "    .dataframe thead tr:only-child th {\n",
       "        text-align: right;\n",
       "    }\n",
       "\n",
       "    .dataframe thead th {\n",
       "        text-align: left;\n",
       "    }\n",
       "\n",
       "    .dataframe tbody tr th {\n",
       "        vertical-align: top;\n",
       "    }\n",
       "</style>\n",
       "<table border=\"1\" class=\"dataframe\">\n",
       "  <thead>\n",
       "    <tr style=\"text-align: right;\">\n",
       "      <th></th>\n",
       "      <th></th>\n",
       "      <th>text</th>\n",
       "    </tr>\n",
       "    <tr>\n",
       "      <th>outage</th>\n",
       "      <th>equipment</th>\n",
       "      <th></th>\n",
       "    </tr>\n",
       "  </thead>\n",
       "  <tbody>\n",
       "    <tr>\n",
       "      <th rowspan=\"2\" valign=\"top\">False</th>\n",
       "      <th>elevator</th>\n",
       "      <td>47.016275</td>\n",
       "    </tr>\n",
       "    <tr>\n",
       "      <th>escalator</th>\n",
       "      <td>52.983725</td>\n",
       "    </tr>\n",
       "    <tr>\n",
       "      <th rowspan=\"2\" valign=\"top\">True</th>\n",
       "      <th>elevator</th>\n",
       "      <td>42.310188</td>\n",
       "    </tr>\n",
       "    <tr>\n",
       "      <th>escalator</th>\n",
       "      <td>57.689812</td>\n",
       "    </tr>\n",
       "  </tbody>\n",
       "</table>\n",
       "</div>"
      ],
      "text/plain": [
       "                       text\n",
       "outage equipment           \n",
       "False  elevator   47.016275\n",
       "       escalator  52.983725\n",
       "True   elevator   42.310188\n",
       "       escalator  57.689812"
      ]
     },
     "execution_count": 157,
     "metadata": {},
     "output_type": "execute_result"
    }
   ],
   "source": [
    "tweets.groupby(['outage','equipment']).agg({'text': 'count'}).groupby(level=0).apply(lambda x: 100 * x / float(x.sum())) "
   ]
  },
  {
   "cell_type": "code",
   "execution_count": 279,
   "metadata": {
    "collapsed": false
   },
   "outputs": [
    {
     "data": {
      "text/html": [
       "<div>\n",
       "<style>\n",
       "    .dataframe thead tr:only-child th {\n",
       "        text-align: right;\n",
       "    }\n",
       "\n",
       "    .dataframe thead th {\n",
       "        text-align: left;\n",
       "    }\n",
       "\n",
       "    .dataframe tbody tr th {\n",
       "        vertical-align: top;\n",
       "    }\n",
       "</style>\n",
       "<table border=\"1\" class=\"dataframe\">\n",
       "  <thead>\n",
       "    <tr style=\"text-align: right;\">\n",
       "      <th></th>\n",
       "      <th>tweet_id</th>\n",
       "      <th>date_time</th>\n",
       "      <th>text</th>\n",
       "      <th>date</th>\n",
       "      <th>station</th>\n",
       "      <th>equipment</th>\n",
       "      <th>area</th>\n",
       "      <th>outage</th>\n",
       "    </tr>\n",
       "  </thead>\n",
       "  <tbody>\n",
       "    <tr>\n",
       "      <th>0</th>\n",
       "      <td>8.482560e+17</td>\n",
       "      <td>4/1/17 19:28</td>\n",
       "      <td>FIXED: An escalator @ 7th Ave servicing Southb...</td>\n",
       "      <td>2017-04-01</td>\n",
       "      <td>None</td>\n",
       "      <td>escalator</td>\n",
       "      <td>None</td>\n",
       "      <td>False</td>\n",
       "    </tr>\n",
       "    <tr>\n",
       "      <th>1</th>\n",
       "      <td>8.482560e+17</td>\n",
       "      <td>4/1/17 19:28</td>\n",
       "      <td>OUTAGE: An escalator servicing Lower Mezzanine...</td>\n",
       "      <td>2017-04-01</td>\n",
       "      <td>None</td>\n",
       "      <td>escalator</td>\n",
       "      <td>None</td>\n",
       "      <td>True</td>\n",
       "    </tr>\n",
       "    <tr>\n",
       "      <th>2</th>\n",
       "      <td>8.482480e+17</td>\n",
       "      <td>4/1/17 18:58</td>\n",
       "      <td>OUTAGE: An elevator servicing Mezzanine To Dow...</td>\n",
       "      <td>2017-04-01</td>\n",
       "      <td>Church Av</td>\n",
       "      <td>elevator</td>\n",
       "      <td>mezzanine to downtown</td>\n",
       "      <td>True</td>\n",
       "    </tr>\n",
       "    <tr>\n",
       "      <th>3</th>\n",
       "      <td>8.482430e+17</td>\n",
       "      <td>4/1/17 18:38</td>\n",
       "      <td>FIXED: An elevator @ Forest Hills - 71st Av (S...</td>\n",
       "      <td>2017-04-01</td>\n",
       "      <td>None</td>\n",
       "      <td>elevator</td>\n",
       "      <td>None</td>\n",
       "      <td>False</td>\n",
       "    </tr>\n",
       "    <tr>\n",
       "      <th>4</th>\n",
       "      <td>8.482430e+17</td>\n",
       "      <td>4/1/17 18:38</td>\n",
       "      <td>OUTAGE: An escalator servicing Mezzanine To St...</td>\n",
       "      <td>2017-04-01</td>\n",
       "      <td>Pelham Bay Park</td>\n",
       "      <td>escalator</td>\n",
       "      <td>None</td>\n",
       "      <td>True</td>\n",
       "    </tr>\n",
       "  </tbody>\n",
       "</table>\n",
       "</div>"
      ],
      "text/plain": [
       "       tweet_id     date_time  \\\n",
       "0  8.482560e+17  4/1/17 19:28   \n",
       "1  8.482560e+17  4/1/17 19:28   \n",
       "2  8.482480e+17  4/1/17 18:58   \n",
       "3  8.482430e+17  4/1/17 18:38   \n",
       "4  8.482430e+17  4/1/17 18:38   \n",
       "\n",
       "                                                text        date  \\\n",
       "0  FIXED: An escalator @ 7th Ave servicing Southb...  2017-04-01   \n",
       "1  OUTAGE: An escalator servicing Lower Mezzanine...  2017-04-01   \n",
       "2  OUTAGE: An elevator servicing Mezzanine To Dow...  2017-04-01   \n",
       "3  FIXED: An elevator @ Forest Hills - 71st Av (S...  2017-04-01   \n",
       "4  OUTAGE: An escalator servicing Mezzanine To St...  2017-04-01   \n",
       "\n",
       "           station  equipment                   area  outage  \n",
       "0             None  escalator                   None   False  \n",
       "1             None  escalator                   None    True  \n",
       "2        Church Av   elevator  mezzanine to downtown    True  \n",
       "3             None   elevator                   None   False  \n",
       "4  Pelham Bay Park  escalator                   None    True  "
      ]
     },
     "execution_count": 279,
     "metadata": {},
     "output_type": "execute_result"
    }
   ],
   "source": [
    "tweets.head()"
   ]
  },
  {
   "cell_type": "code",
   "execution_count": 281,
   "metadata": {
    "collapsed": false
   },
   "outputs": [
    {
     "data": {
      "text/html": [
       "<div>\n",
       "<style>\n",
       "    .dataframe thead tr:only-child th {\n",
       "        text-align: right;\n",
       "    }\n",
       "\n",
       "    .dataframe thead th {\n",
       "        text-align: left;\n",
       "    }\n",
       "\n",
       "    .dataframe tbody tr th {\n",
       "        vertical-align: top;\n",
       "    }\n",
       "</style>\n",
       "<table border=\"1\" class=\"dataframe\">\n",
       "  <thead>\n",
       "    <tr style=\"text-align: right;\">\n",
       "      <th></th>\n",
       "      <th>station</th>\n",
       "      <th>outage</th>\n",
       "      <th>tweet_id</th>\n",
       "    </tr>\n",
       "  </thead>\n",
       "  <tbody>\n",
       "    <tr>\n",
       "      <th>0</th>\n",
       "      <td>West Farms Sq - E Tremont Av</td>\n",
       "      <td>True</td>\n",
       "      <td>11</td>\n",
       "    </tr>\n",
       "    <tr>\n",
       "      <th>1</th>\n",
       "      <td>West Farms Sq - E Tremont Av</td>\n",
       "      <td>False</td>\n",
       "      <td>12</td>\n",
       "    </tr>\n",
       "    <tr>\n",
       "      <th>2</th>\n",
       "      <td>Wall St</td>\n",
       "      <td>True</td>\n",
       "      <td>2</td>\n",
       "    </tr>\n",
       "    <tr>\n",
       "      <th>3</th>\n",
       "      <td>Wall St</td>\n",
       "      <td>False</td>\n",
       "      <td>2</td>\n",
       "    </tr>\n",
       "    <tr>\n",
       "      <th>4</th>\n",
       "      <td>Utica Av</td>\n",
       "      <td>True</td>\n",
       "      <td>7</td>\n",
       "    </tr>\n",
       "  </tbody>\n",
       "</table>\n",
       "</div>"
      ],
      "text/plain": [
       "                        station  outage  tweet_id\n",
       "0  West Farms Sq - E Tremont Av    True        11\n",
       "1  West Farms Sq - E Tremont Av   False        12\n",
       "2                       Wall St    True         2\n",
       "3                       Wall St   False         2\n",
       "4                      Utica Av    True         7"
      ]
     },
     "execution_count": 281,
     "metadata": {},
     "output_type": "execute_result"
    }
   ],
   "source": [
    "tweets_bystation =  tweets.groupby(['station','outage'])['tweet_id'].count().sort_index(ascending = False).reset_index()\n",
    "tweets_bystation.head()"
   ]
  },
  {
   "cell_type": "code",
   "execution_count": 273,
   "metadata": {
    "collapsed": false
   },
   "outputs": [],
   "source": [
    "tweets_bystation_out_top = tweets_bystation[tweets_bystation.outage == True].sort_values(['tweet_id'], ascending = [0])\n",
    "tweets_bystation_fix_top = tweets_bystation[tweets_bystation.outage == False].sort_values(['tweet_id'], ascending = [0])"
   ]
  },
  {
   "cell_type": "code",
   "execution_count": 274,
   "metadata": {
    "collapsed": false
   },
   "outputs": [
    {
     "data": {
      "image/png": "[encoded data removed]",
      "text/plain": [
       "<matplotlib.figure.Figure at 0x11636c710>"
      ]
     },
     "metadata": {},
     "output_type": "display_data"
    }
   ],
   "source": [
    "objects = list(tweets_bystation_out_top.station)[0:10]\n",
    "y_pos = np.arange(len(objects))\n",
    "performance = list(tweets_bystation_out_top.tweet_id)[0:10]\n",
    " \n",
    "plt.bar(y_pos, performance, align='center', alpha=0.5)\n",
    "plt.xticks(y_pos, objects)\n",
    "plt.xticks(rotation=90)\n",
    "\n",
    "plt.ylabel('Outages')\n",
    "plt.title('Outages by Station from March 14 - April 1 2017')\n",
    " \n",
    "plt.show()"
   ]
  },
  {
   "cell_type": "code",
   "execution_count": 275,
   "metadata": {
    "collapsed": false
   },
   "outputs": [
    {
     "data": {
      "image/png": "[encoded data removed]",
      "text/plain": [
       "<matplotlib.figure.Figure at 0x1160e0790>"
      ]
     },
     "metadata": {},
     "output_type": "display_data"
    }
   ],
   "source": [
    "objects = list(tweets_bystation_fix_top.station)[0:10]\n",
    "y_pos = np.arange(len(objects))\n",
    "performance = list(tweets_bystation_fix_top.tweet_id)[0:10]\n",
    " \n",
    "plt.bar(y_pos, performance, align='center', alpha=0.5)\n",
    "plt.xticks(y_pos, objects)\n",
    "plt.xticks(rotation=90)\n",
    "\n",
    "plt.ylabel('Fixes')\n",
    "plt.title('Fixes by Station from March 14 - April 1 2017')\n",
    " \n",
    "plt.show()"
   ]
  },
  {
   "cell_type": "code",
   "execution_count": null,
   "metadata": {
    "collapsed": true
   },
   "outputs": [],
   "source": []
  }
 ],
 "metadata": {
  "anaconda-cloud": {},
  "kernelspec": {
   "display_name": "Python [default]",
   "language": "python",
   "name": "python2"
  },
  "language_info": {
   "codemirror_mode": {
    "name": "ipython",
    "version": 2
   },
   "file_extension": ".py",
   "mimetype": "text/x-python",
   "name": "python",
   "nbconvert_exporter": "python",
   "pygments_lexer": "ipython2",
   "version": "2.7.12"
  }
 },
 "nbformat": 4,
 "nbformat_minor": 2
}
