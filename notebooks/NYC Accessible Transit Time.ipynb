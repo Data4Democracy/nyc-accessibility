{
 "cells": [
  {
   "cell_type": "markdown",
   "metadata": {},
   "source": [
    "# NYC Accessible Transit Time\n",
    "\n",
    "This analysis seeks to demonstrate how much longer it takes to use the NYC subway system for a person with limited mobility.\n",
    "\n",
    "Scope: Analyze the additional time and walking distance that peopel with mobility impairments experience when using the NYC subway system\n",
    "\n",
    "Author: Nick Rosener"
   ]
  },
  {
   "cell_type": "code",
   "execution_count": 130,
   "metadata": {
    "collapsed": true
   },
   "outputs": [],
   "source": [
    "# Imports the GOOGLE_DIRECTIONS_API_KEY\n",
    "from config import *\n",
    "\n",
    "# Imports packages\n",
    "import requests\n",
    "import json\n",
    "import pandas as pd\n",
    "import numpy as np"
   ]
  },
  {
   "cell_type": "code",
   "execution_count": 213,
   "metadata": {
    "collapsed": true
   },
   "outputs": [],
   "source": [
    "origin = '530 Midwood St, Brooklyn'\n",
    "\n",
    "origin_string = origin.replace(\",\",\"\").replace(\" \", \"+\")\n",
    "\n",
    "destination = 'pine street and broadway, Manhattan'\n",
    "\n",
    "destination_string = destination.replace(\",\",\"\").replace(\" \", \"+\")\n",
    "\n",
    "base_url = 'https://maps.googleapis.com/maps/api/directions/json?'\n",
    "\n",
    "request = 'origin=' + origin_string + \\\n",
    "            '&destination=' + destination_string + \\\n",
    "            '&key=' + GOOGLE_DIRECTIONS_API_KEY + \\\n",
    "            '&mode=transit'\n",
    "            \n",
    "request_url = base_url + request\n",
    "\n"
   ]
  },
  {
   "cell_type": "code",
   "execution_count": 214,
   "metadata": {
    "collapsed": true
   },
   "outputs": [],
   "source": [
    "directions = json.loads(requests.get(request_url).text)"
   ]
  },
  {
   "cell_type": "code",
   "execution_count": 215,
   "metadata": {},
   "outputs": [
    {
     "data": {
      "text/plain": [
       "u'33 mins'"
      ]
     },
     "execution_count": 215,
     "metadata": {},
     "output_type": "execute_result"
    }
   ],
   "source": [
    "# Duration with no accessibility\n",
    "directions['routes'][0][\"legs\"][0][\"duration\"][\"text\"]"
   ]
  },
  {
   "cell_type": "markdown",
   "metadata": {},
   "source": [
    "It takes 33 minutes to get to midtown"
   ]
  },
  {
   "cell_type": "code",
   "execution_count": 216,
   "metadata": {},
   "outputs": [],
   "source": [
    "steps = directions[\"routes\"][0][\"legs\"][0][\"steps\"]"
   ]
  },
  {
   "cell_type": "code",
   "execution_count": 217,
   "metadata": {},
   "outputs": [
    {
     "data": {
      "text/plain": [
       "u'13 mins'"
      ]
     },
     "execution_count": 217,
     "metadata": {},
     "output_type": "execute_result"
    }
   ],
   "source": [
    "# Amount of that that is walking to the origin stop\n",
    "steps[0][\"duration\"][\"text\"]"
   ]
  },
  {
   "cell_type": "code",
   "execution_count": 225,
   "metadata": {},
   "outputs": [
    {
     "data": {
      "text/plain": [
       "u'0.6 mi'"
      ]
     },
     "execution_count": 225,
     "metadata": {},
     "output_type": "execute_result"
    }
   ],
   "source": [
    "# Amount of that that is walking to the origin stop\n",
    "steps[0][\"distance\"][\"text\"]"
   ]
  },
  {
   "cell_type": "markdown",
   "metadata": {},
   "source": [
    "Of that, 14 mins and .6 mi is spent walking to the train"
   ]
  },
  {
   "cell_type": "code",
   "execution_count": 224,
   "metadata": {},
   "outputs": [
    {
     "data": {
      "text/plain": [
       "u'1 min'"
      ]
     },
     "execution_count": 224,
     "metadata": {},
     "output_type": "execute_result"
    }
   ],
   "source": [
    "# Amount of that that is walking to the destination stop\n",
    "steps[2][\"duration\"][\"text\"]"
   ]
  },
  {
   "cell_type": "code",
   "execution_count": 226,
   "metadata": {},
   "outputs": [
    {
     "data": {
      "text/plain": [
       "u'361 ft'"
      ]
     },
     "execution_count": 226,
     "metadata": {},
     "output_type": "execute_result"
    }
   ],
   "source": [
    "# Amount of that that is walking to the destination stop\n",
    "steps[2][\"distance\"][\"text\"]"
   ]
  },
  {
   "cell_type": "markdown",
   "metadata": {},
   "source": [
    "1 min and 350 ft spent walking from the train"
   ]
  },
  {
   "cell_type": "code",
   "execution_count": 227,
   "metadata": {},
   "outputs": [
    {
     "data": {
      "text/plain": [
       "{u'distance': {u'text': u'0.6 mi', u'value': 981},\n",
       " u'duration': {u'text': u'13 mins', u'value': 786},\n",
       " u'end_location': {u'lat': 40.6632888, u'lng': -73.95104239999999},\n",
       " u'html_instructions': u'Walk to Sterling St',\n",
       " u'polyline': {u'points': u'sodwFp_ibM^fM@fA@N@p@Bl@?NBn@DzBDtAmCJo@DeBF}CNyCLVfJHrDO@MdA'},\n",
       " u'start_location': {u'lat': 40.6605782, u'lng': -73.94313489999999},\n",
       " u'steps': [{u'distance': {u'text': u'0.2 mi', u'value': 386},\n",
       "   u'duration': {u'text': u'5 mins', u'value': 289},\n",
       "   u'end_location': {u'lat': 40.6602904, u'lng': -73.94769699999999},\n",
       "   u'html_instructions': u'Head <b>west</b> on <b>Midwood St</b> toward <b>Brooklyn Ave</b>',\n",
       "   u'polyline': {u'points': u'sodwFp_ibM^fM@fA@N@p@Bl@?NBn@DzBDtA'},\n",
       "   u'start_location': {u'lat': 40.6605782, u'lng': -73.94313489999999},\n",
       "   u'travel_mode': u'WALKING'},\n",
       "  {u'distance': {u'text': u'0.2 mi', u'value': 337},\n",
       "   u'duration': {u'text': u'4 mins', u'value': 259},\n",
       "   u'end_location': {u'lat': 40.6633103, u'lng': -73.9479842},\n",
       "   u'html_instructions': u'Turn <b>right</b> onto <b>New York Ave</b>',\n",
       "   u'maneuver': u'turn-right',\n",
       "   u'polyline': {u'points': u'ymdwFb|ibMmCJo@DeBF}CNyCL'},\n",
       "   u'start_location': {u'lat': 40.6602904, u'lng': -73.94769699999999},\n",
       "   u'travel_mode': u'WALKING'},\n",
       "  {u'distance': {u'text': u'0.1 mi', u'value': 228},\n",
       "   u'duration': {u'text': u'3 mins', u'value': 183},\n",
       "   u'end_location': {u'lat': 40.6632217, u'lng': -73.95068859999999},\n",
       "   u'html_instructions': u'Turn <b>left</b> onto <b>Sterling St</b><div style=\"font-size:0.9em\">Destination will be on the right</div>',\n",
       "   u'maneuver': u'turn-left',\n",
       "   u'polyline': {u'points': u'u`ewFz}ibMVfJHrDO@'},\n",
       "   u'start_location': {u'lat': 40.6633103, u'lng': -73.9479842},\n",
       "   u'travel_mode': u'WALKING'},\n",
       "  {u'distance': {u'text': u'98 ft', u'value': 30},\n",
       "   u'duration': {u'text': u'1 min', u'value': 55},\n",
       "   u'end_location': {u'lat': 40.6632888, u'lng': -73.95104239999999},\n",
       "   u'polyline': {u'points': u'c`ewFxnjbMMdA'},\n",
       "   u'start_location': {u'lat': 40.6632217, u'lng': -73.95068859999999},\n",
       "   u'travel_mode': u'WALKING'}],\n",
       " u'travel_mode': u'WALKING'}"
      ]
     },
     "execution_count": 227,
     "metadata": {},
     "output_type": "execute_result"
    }
   ],
   "source": [
    "steps[0]"
   ]
  },
  {
   "cell_type": "code",
   "execution_count": 219,
   "metadata": {},
   "outputs": [],
   "source": [
    "# Finds the step with transit\n",
    "\n",
    "for step in steps:\n",
    "    if step[\"travel_mode\"] == \"TRANSIT\":\n",
    "        transit_step = step"
   ]
  },
  {
   "cell_type": "code",
   "execution_count": 220,
   "metadata": {},
   "outputs": [],
   "source": [
    "departure_stop = transit_step['transit_details']['departure_stop']['name']\n",
    "arrival_stop = transit_step[\"transit_details\"]['arrival_stop']['name']"
   ]
  },
  {
   "cell_type": "code",
   "execution_count": 222,
   "metadata": {},
   "outputs": [
    {
     "data": {
      "text/plain": [
       "u'Sterling St'"
      ]
     },
     "execution_count": 222,
     "metadata": {},
     "output_type": "execute_result"
    }
   ],
   "source": [
    "departure_stop"
   ]
  },
  {
   "cell_type": "code",
   "execution_count": 221,
   "metadata": {},
   "outputs": [
    {
     "data": {
      "text/plain": [
       "u'Wall St'"
      ]
     },
     "execution_count": 221,
     "metadata": {},
     "output_type": "execute_result"
    }
   ],
   "source": [
    "arrival_stop"
   ]
  },
  {
   "cell_type": "code",
   "execution_count": 104,
   "metadata": {},
   "outputs": [],
   "source": [
    "accessibility_by_station = pd.read_csv(\"/Users/nickrosener/Development/nyc-accessibility/data/ADA_by_station_and_line.csv\")"
   ]
  },
  {
   "cell_type": "code",
   "execution_count": 119,
   "metadata": {},
   "outputs": [
    {
     "data": {
      "text/html": [
       "<div>\n",
       "<style>\n",
       "    .dataframe thead tr:only-child th {\n",
       "        text-align: right;\n",
       "    }\n",
       "\n",
       "    .dataframe thead th {\n",
       "        text-align: left;\n",
       "    }\n",
       "\n",
       "    .dataframe tbody tr th {\n",
       "        vertical-align: top;\n",
       "    }\n",
       "</style>\n",
       "<table border=\"1\" class=\"dataframe\">\n",
       "  <thead>\n",
       "    <tr style=\"text-align: right;\">\n",
       "      <th></th>\n",
       "      <th>station</th>\n",
       "      <th>borough</th>\n",
       "      <th>equipmenttype</th>\n",
       "      <th>serving</th>\n",
       "      <th>ADA</th>\n",
       "      <th>line</th>\n",
       "    </tr>\n",
       "  </thead>\n",
       "  <tbody>\n",
       "    <tr>\n",
       "      <th>0</th>\n",
       "      <td>125 St</td>\n",
       "      <td>MN</td>\n",
       "      <td>EL</td>\n",
       "      <td>MEZZANINE AND DOWNTOWN</td>\n",
       "      <td>Y</td>\n",
       "      <td>A</td>\n",
       "    </tr>\n",
       "    <tr>\n",
       "      <th>1</th>\n",
       "      <td>125 St</td>\n",
       "      <td>MN</td>\n",
       "      <td>EL</td>\n",
       "      <td>MEZZANINE AND UPTOWN</td>\n",
       "      <td>Y</td>\n",
       "      <td>A</td>\n",
       "    </tr>\n",
       "    <tr>\n",
       "      <th>2</th>\n",
       "      <td>125 St</td>\n",
       "      <td>MN</td>\n",
       "      <td>EL</td>\n",
       "      <td>MEZZANINE TO UPTOWN AND DOWNTOWN PLATFORMS</td>\n",
       "      <td>Y</td>\n",
       "      <td>4</td>\n",
       "    </tr>\n",
       "    <tr>\n",
       "      <th>3</th>\n",
       "      <td>125 St</td>\n",
       "      <td>MN</td>\n",
       "      <td>ES</td>\n",
       "      <td>STREET TO MEZZANINE</td>\n",
       "      <td>N</td>\n",
       "      <td>1</td>\n",
       "    </tr>\n",
       "    <tr>\n",
       "      <th>4</th>\n",
       "      <td>125 St</td>\n",
       "      <td>MN</td>\n",
       "      <td>ES</td>\n",
       "      <td>STREET TO MEZZANINE</td>\n",
       "      <td>N</td>\n",
       "      <td>1</td>\n",
       "    </tr>\n",
       "    <tr>\n",
       "      <th>5</th>\n",
       "      <td>125 St</td>\n",
       "      <td>MN</td>\n",
       "      <td>EL</td>\n",
       "      <td>STREET TO MEZZANINE</td>\n",
       "      <td>Y</td>\n",
       "      <td>4</td>\n",
       "    </tr>\n",
       "    <tr>\n",
       "      <th>6</th>\n",
       "      <td>125 St</td>\n",
       "      <td>MN</td>\n",
       "      <td>EL</td>\n",
       "      <td>STREET TO MEZZANINE</td>\n",
       "      <td>Y</td>\n",
       "      <td>A</td>\n",
       "    </tr>\n",
       "    <tr>\n",
       "      <th>7</th>\n",
       "      <td>125 St</td>\n",
       "      <td>MN</td>\n",
       "      <td>ES</td>\n",
       "      <td>STREET TO MEZZANINE</td>\n",
       "      <td>N</td>\n",
       "      <td>1</td>\n",
       "    </tr>\n",
       "    <tr>\n",
       "      <th>8</th>\n",
       "      <td>135 St</td>\n",
       "      <td>MN</td>\n",
       "      <td>EL</td>\n",
       "      <td>STREET TO MEZZANINE &amp; UPTOWN PLATFORM</td>\n",
       "      <td>Y</td>\n",
       "      <td>2</td>\n",
       "    </tr>\n",
       "    <tr>\n",
       "      <th>9</th>\n",
       "      <td>135 St</td>\n",
       "      <td>MN</td>\n",
       "      <td>EL</td>\n",
       "      <td>STREET TO MEZZANINE AND DOWNTOWN PLATFORM</td>\n",
       "      <td>Y</td>\n",
       "      <td>2</td>\n",
       "    </tr>\n",
       "    <tr>\n",
       "      <th>10</th>\n",
       "      <td>14 St</td>\n",
       "      <td>MN</td>\n",
       "      <td>EL</td>\n",
       "      <td>MEZZANINE TO DOWNTOWN A,C&amp;E PLATFORM</td>\n",
       "      <td>Y</td>\n",
       "      <td>A</td>\n",
       "    </tr>\n",
       "    <tr>\n",
       "      <th>11</th>\n",
       "      <td>14 St</td>\n",
       "      <td>MN</td>\n",
       "      <td>EL</td>\n",
       "      <td>MEZZANINE TO L PLATFORM</td>\n",
       "      <td>Y</td>\n",
       "      <td>L</td>\n",
       "    </tr>\n",
       "    <tr>\n",
       "      <th>12</th>\n",
       "      <td>14 St</td>\n",
       "      <td>MN</td>\n",
       "      <td>EL</td>\n",
       "      <td>MEZZANINE TO UPTOWN A,C&amp;E PLATFORM</td>\n",
       "      <td>Y</td>\n",
       "      <td>A</td>\n",
       "    </tr>\n",
       "    <tr>\n",
       "      <th>13</th>\n",
       "      <td>14 St</td>\n",
       "      <td>MN</td>\n",
       "      <td>EL</td>\n",
       "      <td>STREET TO MEZZANINE</td>\n",
       "      <td>Y</td>\n",
       "      <td>A</td>\n",
       "    </tr>\n",
       "    <tr>\n",
       "      <th>14</th>\n",
       "      <td>14 St - Union Sq</td>\n",
       "      <td>MN</td>\n",
       "      <td>EL</td>\n",
       "      <td>MEZZANINE TO DOWNTOWN PLATFORM(N&amp;R)</td>\n",
       "      <td>Y</td>\n",
       "      <td>L</td>\n",
       "    </tr>\n",
       "    <tr>\n",
       "      <th>15</th>\n",
       "      <td>14 St - Union Sq</td>\n",
       "      <td>MN</td>\n",
       "      <td>EL</td>\n",
       "      <td>MEZZANINE TO UPTOWN PLATFORM N,Q,R</td>\n",
       "      <td>Y</td>\n",
       "      <td>L</td>\n",
       "    </tr>\n",
       "    <tr>\n",
       "      <th>16</th>\n",
       "      <td>14 St - Union Sq</td>\n",
       "      <td>MN</td>\n",
       "      <td>EL</td>\n",
       "      <td>STREET TO MEZZANINE</td>\n",
       "      <td>Y</td>\n",
       "      <td>L</td>\n",
       "    </tr>\n",
       "    <tr>\n",
       "      <th>17</th>\n",
       "      <td>14 St - Union Sq</td>\n",
       "      <td>MN</td>\n",
       "      <td>ES</td>\n",
       "      <td>STREET TO MEZZANINE ALL TRAINS</td>\n",
       "      <td>N</td>\n",
       "      <td>L</td>\n",
       "    </tr>\n",
       "    <tr>\n",
       "      <th>18</th>\n",
       "      <td>14 St - Union Sq</td>\n",
       "      <td>MN</td>\n",
       "      <td>ES</td>\n",
       "      <td>STREET TO MEZZANINE ALL TRAINS</td>\n",
       "      <td>N</td>\n",
       "      <td>L</td>\n",
       "    </tr>\n",
       "    <tr>\n",
       "      <th>19</th>\n",
       "      <td>145 St</td>\n",
       "      <td>MN</td>\n",
       "      <td>ES</td>\n",
       "      <td>NORTHBOUND LL PLATFORM TO UPPER MEZZANINE</td>\n",
       "      <td>N</td>\n",
       "      <td>A</td>\n",
       "    </tr>\n",
       "    <tr>\n",
       "      <th>20</th>\n",
       "      <td>145 St</td>\n",
       "      <td>MN</td>\n",
       "      <td>ES</td>\n",
       "      <td>NORTHBOUND LL PLATFORM TO UPPER MEZZANINE</td>\n",
       "      <td>N</td>\n",
       "      <td>A</td>\n",
       "    </tr>\n",
       "    <tr>\n",
       "      <th>21</th>\n",
       "      <td>149 St - 3 Av</td>\n",
       "      <td>BX</td>\n",
       "      <td>EL</td>\n",
       "      <td>STREET TO DOWNTOWN PLATFORM</td>\n",
       "      <td>Y</td>\n",
       "      <td>2</td>\n",
       "    </tr>\n",
       "    <tr>\n",
       "      <th>22</th>\n",
       "      <td>149 St - 3 Av</td>\n",
       "      <td>BX</td>\n",
       "      <td>EL</td>\n",
       "      <td>STREET TO UPTOWN PLATFORM</td>\n",
       "      <td>Y</td>\n",
       "      <td>2</td>\n",
       "    </tr>\n",
       "    <tr>\n",
       "      <th>23</th>\n",
       "      <td>161 St - Yankee Stadium</td>\n",
       "      <td>BX</td>\n",
       "      <td>ES</td>\n",
       "      <td>LOWER MEZZANINE TO UPPER MEZZANINE</td>\n",
       "      <td>N</td>\n",
       "      <td>4</td>\n",
       "    </tr>\n",
       "    <tr>\n",
       "      <th>24</th>\n",
       "      <td>161 St - Yankee Stadium</td>\n",
       "      <td>BX</td>\n",
       "      <td>ES</td>\n",
       "      <td>LOWER MEZZANINE TO UPPER MEZZANINE</td>\n",
       "      <td>N</td>\n",
       "      <td>4</td>\n",
       "    </tr>\n",
       "    <tr>\n",
       "      <th>25</th>\n",
       "      <td>161 St - Yankee Stadium</td>\n",
       "      <td>BX</td>\n",
       "      <td>EL</td>\n",
       "      <td>MEZZANINE TO DOWNTOWN B, D</td>\n",
       "      <td>Y</td>\n",
       "      <td>4</td>\n",
       "    </tr>\n",
       "    <tr>\n",
       "      <th>26</th>\n",
       "      <td>161 St - Yankee Stadium</td>\n",
       "      <td>BX</td>\n",
       "      <td>EL</td>\n",
       "      <td>MEZZANINE TO UPTOWN B, D</td>\n",
       "      <td>Y</td>\n",
       "      <td>4</td>\n",
       "    </tr>\n",
       "    <tr>\n",
       "      <th>27</th>\n",
       "      <td>161 St - Yankee Stadium</td>\n",
       "      <td>BX</td>\n",
       "      <td>EL</td>\n",
       "      <td>MEZZANINES TO  UPTOWN 4 PLATFORM</td>\n",
       "      <td>Y</td>\n",
       "      <td>4</td>\n",
       "    </tr>\n",
       "    <tr>\n",
       "      <th>28</th>\n",
       "      <td>161 St - Yankee Stadium</td>\n",
       "      <td>BX</td>\n",
       "      <td>EL</td>\n",
       "      <td>MEZZANINES TO DOWNTOWN 4 PLATFORM</td>\n",
       "      <td>Y</td>\n",
       "      <td>4</td>\n",
       "    </tr>\n",
       "    <tr>\n",
       "      <th>29</th>\n",
       "      <td>161 St - Yankee Stadium</td>\n",
       "      <td>BX</td>\n",
       "      <td>EL</td>\n",
       "      <td>STREET TO MEZZANINE</td>\n",
       "      <td>Y</td>\n",
       "      <td>4</td>\n",
       "    </tr>\n",
       "    <tr>\n",
       "      <th>...</th>\n",
       "      <td>...</td>\n",
       "      <td>...</td>\n",
       "      <td>...</td>\n",
       "      <td>...</td>\n",
       "      <td>...</td>\n",
       "      <td>...</td>\n",
       "    </tr>\n",
       "    <tr>\n",
       "      <th>2220</th>\n",
       "      <td>Sutphin Blvd - Archer Av - JFK Airport</td>\n",
       "      <td>QNS</td>\n",
       "      <td>EL</td>\n",
       "      <td>STREET TO TA MEZZANINE AND LIRR OVERPASS</td>\n",
       "      <td>Y</td>\n",
       "      <td>EL449X</td>\n",
       "    </tr>\n",
       "    <tr>\n",
       "      <th>2221</th>\n",
       "      <td>Sutphin Blvd - Archer Av - JFK Airport</td>\n",
       "      <td>QNS</td>\n",
       "      <td>EL</td>\n",
       "      <td>STREET TO TA MEZZANINE AND LIRR OVERPASS</td>\n",
       "      <td>Y</td>\n",
       "      <td>EL448X</td>\n",
       "    </tr>\n",
       "    <tr>\n",
       "      <th>2222</th>\n",
       "      <td>Sutphin Blvd - Archer Av - JFK Airport</td>\n",
       "      <td>QNS</td>\n",
       "      <td>EL</td>\n",
       "      <td>YARD TO STORAGE ROOM</td>\n",
       "      <td>N</td>\n",
       "      <td>EL454</td>\n",
       "    </tr>\n",
       "    <tr>\n",
       "      <th>2223</th>\n",
       "      <td>Times Sq - 42 St</td>\n",
       "      <td>MN</td>\n",
       "      <td>ES</td>\n",
       "      <td>CENTER ISLAND PLATFORM TO MEZZANINE (41 ST / 7...</td>\n",
       "      <td>N</td>\n",
       "      <td>ES217</td>\n",
       "    </tr>\n",
       "    <tr>\n",
       "      <th>2224</th>\n",
       "      <td>Times Sq - 42 St</td>\n",
       "      <td>MN</td>\n",
       "      <td>ES</td>\n",
       "      <td>CENTER ISLAND PLATFORM TO MEZZANINE (41 ST / 7...</td>\n",
       "      <td>N</td>\n",
       "      <td>ES216</td>\n",
       "    </tr>\n",
       "    <tr>\n",
       "      <th>2225</th>\n",
       "      <td>Times Sq - 42 St</td>\n",
       "      <td>MN</td>\n",
       "      <td>ES</td>\n",
       "      <td>CENTER ISLAND PLATFORM TO MEZZANINE (41 ST / B...</td>\n",
       "      <td>N</td>\n",
       "      <td>ES218</td>\n",
       "    </tr>\n",
       "    <tr>\n",
       "      <th>2226</th>\n",
       "      <td>Times Sq - 42 St</td>\n",
       "      <td>MN</td>\n",
       "      <td>EL</td>\n",
       "      <td>MEZZANINE AND UPTOWN 1,2,3 TRAINS PLATFORM</td>\n",
       "      <td>Y</td>\n",
       "      <td>EL233</td>\n",
       "    </tr>\n",
       "    <tr>\n",
       "      <th>2227</th>\n",
       "      <td>Times Sq - 42 St</td>\n",
       "      <td>MN</td>\n",
       "      <td>EL</td>\n",
       "      <td>MEZZANINE TO DOWNTOWN</td>\n",
       "      <td>Y</td>\n",
       "      <td>EL229</td>\n",
       "    </tr>\n",
       "    <tr>\n",
       "      <th>2228</th>\n",
       "      <td>Times Sq - 42 St</td>\n",
       "      <td>MN</td>\n",
       "      <td>EL</td>\n",
       "      <td>MEZZANINE TO DOWNTOWN PLATFORM &amp; 7 PLATFORM</td>\n",
       "      <td>Y</td>\n",
       "      <td>EL232</td>\n",
       "    </tr>\n",
       "    <tr>\n",
       "      <th>2229</th>\n",
       "      <td>Times Sq - 42 St</td>\n",
       "      <td>MN</td>\n",
       "      <td>EL</td>\n",
       "      <td>MEZZANINE TO UPTOWN</td>\n",
       "      <td>Y</td>\n",
       "      <td>EL230</td>\n",
       "    </tr>\n",
       "    <tr>\n",
       "      <th>2230</th>\n",
       "      <td>Times Sq - 42 St</td>\n",
       "      <td>MN</td>\n",
       "      <td>ES</td>\n",
       "      <td>STREET TO MEZZANINE ALL TRAINS</td>\n",
       "      <td>N</td>\n",
       "      <td>ES267X</td>\n",
       "    </tr>\n",
       "    <tr>\n",
       "      <th>2231</th>\n",
       "      <td>Times Sq - 42 St</td>\n",
       "      <td>MN</td>\n",
       "      <td>ES</td>\n",
       "      <td>STREET TO MEZZANINE ALL TRAINS</td>\n",
       "      <td>N</td>\n",
       "      <td>ES261X</td>\n",
       "    </tr>\n",
       "    <tr>\n",
       "      <th>2232</th>\n",
       "      <td>Times Sq - 42 St</td>\n",
       "      <td>MN</td>\n",
       "      <td>ES</td>\n",
       "      <td>STREET TO MEZZANINE ALL TRAINS</td>\n",
       "      <td>N</td>\n",
       "      <td>ES262X</td>\n",
       "    </tr>\n",
       "    <tr>\n",
       "      <th>2233</th>\n",
       "      <td>Times Sq - 42 St</td>\n",
       "      <td>MN</td>\n",
       "      <td>EL</td>\n",
       "      <td>STREET TO MEZZANINE ALL TRAINS</td>\n",
       "      <td>N</td>\n",
       "      <td>EL231X</td>\n",
       "    </tr>\n",
       "    <tr>\n",
       "      <th>2234</th>\n",
       "      <td>Times Sq - 42 St</td>\n",
       "      <td>MN</td>\n",
       "      <td>ES</td>\n",
       "      <td>STREET TO MEZZANINE ALL TRAINS</td>\n",
       "      <td>N</td>\n",
       "      <td>ES268X</td>\n",
       "    </tr>\n",
       "    <tr>\n",
       "      <th>2235</th>\n",
       "      <td>Utica Av</td>\n",
       "      <td>BKN</td>\n",
       "      <td>EL</td>\n",
       "      <td>NORTHBOUND PLATFORM TO MEZZANINE</td>\n",
       "      <td>Y</td>\n",
       "      <td>EL345</td>\n",
       "    </tr>\n",
       "    <tr>\n",
       "      <th>2236</th>\n",
       "      <td>Utica Av</td>\n",
       "      <td>BKN</td>\n",
       "      <td>EL</td>\n",
       "      <td>SOUTHBOUND PLATFORM TO MEZZANINE</td>\n",
       "      <td>Y</td>\n",
       "      <td>EL346</td>\n",
       "    </tr>\n",
       "    <tr>\n",
       "      <th>2237</th>\n",
       "      <td>Utica Av</td>\n",
       "      <td>BKN</td>\n",
       "      <td>EL</td>\n",
       "      <td>STREET TO MEZZANINE</td>\n",
       "      <td>Y</td>\n",
       "      <td>EL344</td>\n",
       "    </tr>\n",
       "    <tr>\n",
       "      <th>2238</th>\n",
       "      <td>Wall St</td>\n",
       "      <td>MN</td>\n",
       "      <td>ES</td>\n",
       "      <td>60 WALL STREET ATRIUM TO MEZZANINE 2/3 TRAIN P...</td>\n",
       "      <td>N</td>\n",
       "      <td>ES379X</td>\n",
       "    </tr>\n",
       "    <tr>\n",
       "      <th>2239</th>\n",
       "      <td>Wall St</td>\n",
       "      <td>MN</td>\n",
       "      <td>ES</td>\n",
       "      <td>60 WALL STREET ATRIUM TO MEZZANINE 2/3 TRAIN P...</td>\n",
       "      <td>N</td>\n",
       "      <td>ES378X</td>\n",
       "    </tr>\n",
       "    <tr>\n",
       "      <th>2240</th>\n",
       "      <td>West 4 St - Washington Sq</td>\n",
       "      <td>MN</td>\n",
       "      <td>EL</td>\n",
       "      <td>MIDDLE MEZZANINE TO DOWNTOWN PLATFORMS</td>\n",
       "      <td>Y</td>\n",
       "      <td>EL334</td>\n",
       "    </tr>\n",
       "    <tr>\n",
       "      <th>2241</th>\n",
       "      <td>West 4 St - Washington Sq</td>\n",
       "      <td>MN</td>\n",
       "      <td>EL</td>\n",
       "      <td>MIDDLE MEZZANINE TO UPTOWN PLATFORMS</td>\n",
       "      <td>Y</td>\n",
       "      <td>EL335</td>\n",
       "    </tr>\n",
       "    <tr>\n",
       "      <th>2242</th>\n",
       "      <td>West 4 St - Washington Sq</td>\n",
       "      <td>MN</td>\n",
       "      <td>ES</td>\n",
       "      <td>NORTHBOUND LL PLATFORM TO NORTHBOUND UL PLATFORM</td>\n",
       "      <td>N</td>\n",
       "      <td>ES325</td>\n",
       "    </tr>\n",
       "    <tr>\n",
       "      <th>2243</th>\n",
       "      <td>West 4 St - Washington Sq</td>\n",
       "      <td>MN</td>\n",
       "      <td>ES</td>\n",
       "      <td>SOUTHBOUND LL PLATFORM TO SOUTHBOUND UL PLATFORM</td>\n",
       "      <td>N</td>\n",
       "      <td>ES326</td>\n",
       "    </tr>\n",
       "    <tr>\n",
       "      <th>2244</th>\n",
       "      <td>West 4 St - Washington Sq</td>\n",
       "      <td>MN</td>\n",
       "      <td>EL</td>\n",
       "      <td>STREET TO MEZZANINE</td>\n",
       "      <td>Y</td>\n",
       "      <td>EL333</td>\n",
       "    </tr>\n",
       "    <tr>\n",
       "      <th>2245</th>\n",
       "      <td>West 8 St - NY Aquarium</td>\n",
       "      <td>BKN</td>\n",
       "      <td>ES</td>\n",
       "      <td>MEZZANINE TO NORTHBOUND UL PLATFORM</td>\n",
       "      <td>N</td>\n",
       "      <td>ES335</td>\n",
       "    </tr>\n",
       "    <tr>\n",
       "      <th>2246</th>\n",
       "      <td>West Farms Sq - E Tremont Av</td>\n",
       "      <td>BX</td>\n",
       "      <td>ES</td>\n",
       "      <td>STREET TO MEZZANINE</td>\n",
       "      <td>N</td>\n",
       "      <td>ES106</td>\n",
       "    </tr>\n",
       "    <tr>\n",
       "      <th>2247</th>\n",
       "      <td>Whitehall St - South Ferry</td>\n",
       "      <td>MN</td>\n",
       "      <td>ES</td>\n",
       "      <td>LOWER MEZZANINE TO UPPER MEZZANINE</td>\n",
       "      <td>N</td>\n",
       "      <td>ES351</td>\n",
       "    </tr>\n",
       "    <tr>\n",
       "      <th>2248</th>\n",
       "      <td>Whitehall St - South Ferry</td>\n",
       "      <td>MN</td>\n",
       "      <td>ES</td>\n",
       "      <td>LOWER MEZZANINE TO UPPER MEZZANINE</td>\n",
       "      <td>N</td>\n",
       "      <td>ES312</td>\n",
       "    </tr>\n",
       "    <tr>\n",
       "      <th>2249</th>\n",
       "      <td>Whitehall St - South Ferry</td>\n",
       "      <td>MN</td>\n",
       "      <td>ES</td>\n",
       "      <td>LOWER MEZZANINE TO UPPER MEZZANINE</td>\n",
       "      <td>N</td>\n",
       "      <td>ES311</td>\n",
       "    </tr>\n",
       "  </tbody>\n",
       "</table>\n",
       "<p>2250 rows × 6 columns</p>\n",
       "</div>"
      ],
      "text/plain": [
       "                                     station borough equipmenttype  \\\n",
       "0                                     125 St      MN            EL   \n",
       "1                                     125 St      MN            EL   \n",
       "2                                     125 St      MN            EL   \n",
       "3                                     125 St      MN            ES   \n",
       "4                                     125 St      MN            ES   \n",
       "5                                     125 St      MN            EL   \n",
       "6                                     125 St      MN            EL   \n",
       "7                                     125 St      MN            ES   \n",
       "8                                     135 St      MN            EL   \n",
       "9                                     135 St      MN            EL   \n",
       "10                                     14 St      MN            EL   \n",
       "11                                     14 St      MN            EL   \n",
       "12                                     14 St      MN            EL   \n",
       "13                                     14 St      MN            EL   \n",
       "14                          14 St - Union Sq      MN            EL   \n",
       "15                          14 St - Union Sq      MN            EL   \n",
       "16                          14 St - Union Sq      MN            EL   \n",
       "17                          14 St - Union Sq      MN            ES   \n",
       "18                          14 St - Union Sq      MN            ES   \n",
       "19                                    145 St      MN            ES   \n",
       "20                                    145 St      MN            ES   \n",
       "21                             149 St - 3 Av      BX            EL   \n",
       "22                             149 St - 3 Av      BX            EL   \n",
       "23                   161 St - Yankee Stadium      BX            ES   \n",
       "24                   161 St - Yankee Stadium      BX            ES   \n",
       "25                   161 St - Yankee Stadium      BX            EL   \n",
       "26                   161 St - Yankee Stadium      BX            EL   \n",
       "27                   161 St - Yankee Stadium      BX            EL   \n",
       "28                   161 St - Yankee Stadium      BX            EL   \n",
       "29                   161 St - Yankee Stadium      BX            EL   \n",
       "...                                      ...     ...           ...   \n",
       "2220  Sutphin Blvd - Archer Av - JFK Airport     QNS            EL   \n",
       "2221  Sutphin Blvd - Archer Av - JFK Airport     QNS            EL   \n",
       "2222  Sutphin Blvd - Archer Av - JFK Airport     QNS            EL   \n",
       "2223                        Times Sq - 42 St      MN            ES   \n",
       "2224                        Times Sq - 42 St      MN            ES   \n",
       "2225                        Times Sq - 42 St      MN            ES   \n",
       "2226                        Times Sq - 42 St      MN            EL   \n",
       "2227                        Times Sq - 42 St      MN            EL   \n",
       "2228                        Times Sq - 42 St      MN            EL   \n",
       "2229                        Times Sq - 42 St      MN            EL   \n",
       "2230                        Times Sq - 42 St      MN            ES   \n",
       "2231                        Times Sq - 42 St      MN            ES   \n",
       "2232                        Times Sq - 42 St      MN            ES   \n",
       "2233                        Times Sq - 42 St      MN            EL   \n",
       "2234                        Times Sq - 42 St      MN            ES   \n",
       "2235                                Utica Av     BKN            EL   \n",
       "2236                                Utica Av     BKN            EL   \n",
       "2237                                Utica Av     BKN            EL   \n",
       "2238                                 Wall St      MN            ES   \n",
       "2239                                 Wall St      MN            ES   \n",
       "2240               West 4 St - Washington Sq      MN            EL   \n",
       "2241               West 4 St - Washington Sq      MN            EL   \n",
       "2242               West 4 St - Washington Sq      MN            ES   \n",
       "2243               West 4 St - Washington Sq      MN            ES   \n",
       "2244               West 4 St - Washington Sq      MN            EL   \n",
       "2245                 West 8 St - NY Aquarium     BKN            ES   \n",
       "2246            West Farms Sq - E Tremont Av      BX            ES   \n",
       "2247              Whitehall St - South Ferry      MN            ES   \n",
       "2248              Whitehall St - South Ferry      MN            ES   \n",
       "2249              Whitehall St - South Ferry      MN            ES   \n",
       "\n",
       "                                                serving ADA    line  \n",
       "0                                MEZZANINE AND DOWNTOWN   Y       A  \n",
       "1                                  MEZZANINE AND UPTOWN   Y       A  \n",
       "2            MEZZANINE TO UPTOWN AND DOWNTOWN PLATFORMS   Y       4  \n",
       "3                                   STREET TO MEZZANINE   N       1  \n",
       "4                                   STREET TO MEZZANINE   N       1  \n",
       "5                                   STREET TO MEZZANINE   Y       4  \n",
       "6                                   STREET TO MEZZANINE   Y       A  \n",
       "7                                   STREET TO MEZZANINE   N       1  \n",
       "8                 STREET TO MEZZANINE & UPTOWN PLATFORM   Y       2  \n",
       "9             STREET TO MEZZANINE AND DOWNTOWN PLATFORM   Y       2  \n",
       "10                 MEZZANINE TO DOWNTOWN A,C&E PLATFORM   Y       A  \n",
       "11                              MEZZANINE TO L PLATFORM   Y       L  \n",
       "12                   MEZZANINE TO UPTOWN A,C&E PLATFORM   Y       A  \n",
       "13                                  STREET TO MEZZANINE   Y       A  \n",
       "14                  MEZZANINE TO DOWNTOWN PLATFORM(N&R)   Y       L  \n",
       "15                   MEZZANINE TO UPTOWN PLATFORM N,Q,R   Y       L  \n",
       "16                                  STREET TO MEZZANINE   Y       L  \n",
       "17                       STREET TO MEZZANINE ALL TRAINS   N       L  \n",
       "18                       STREET TO MEZZANINE ALL TRAINS   N       L  \n",
       "19            NORTHBOUND LL PLATFORM TO UPPER MEZZANINE   N       A  \n",
       "20            NORTHBOUND LL PLATFORM TO UPPER MEZZANINE   N       A  \n",
       "21                          STREET TO DOWNTOWN PLATFORM   Y       2  \n",
       "22                            STREET TO UPTOWN PLATFORM   Y       2  \n",
       "23                   LOWER MEZZANINE TO UPPER MEZZANINE   N       4  \n",
       "24                   LOWER MEZZANINE TO UPPER MEZZANINE   N       4  \n",
       "25                           MEZZANINE TO DOWNTOWN B, D   Y       4  \n",
       "26                             MEZZANINE TO UPTOWN B, D   Y       4  \n",
       "27                     MEZZANINES TO  UPTOWN 4 PLATFORM   Y       4  \n",
       "28                    MEZZANINES TO DOWNTOWN 4 PLATFORM   Y       4  \n",
       "29                                  STREET TO MEZZANINE   Y       4  \n",
       "...                                                 ...  ..     ...  \n",
       "2220           STREET TO TA MEZZANINE AND LIRR OVERPASS   Y  EL449X  \n",
       "2221           STREET TO TA MEZZANINE AND LIRR OVERPASS   Y  EL448X  \n",
       "2222                               YARD TO STORAGE ROOM   N   EL454  \n",
       "2223  CENTER ISLAND PLATFORM TO MEZZANINE (41 ST / 7...   N   ES217  \n",
       "2224  CENTER ISLAND PLATFORM TO MEZZANINE (41 ST / 7...   N   ES216  \n",
       "2225  CENTER ISLAND PLATFORM TO MEZZANINE (41 ST / B...   N   ES218  \n",
       "2226         MEZZANINE AND UPTOWN 1,2,3 TRAINS PLATFORM   Y   EL233  \n",
       "2227                              MEZZANINE TO DOWNTOWN   Y   EL229  \n",
       "2228        MEZZANINE TO DOWNTOWN PLATFORM & 7 PLATFORM   Y   EL232  \n",
       "2229                                MEZZANINE TO UPTOWN   Y   EL230  \n",
       "2230                     STREET TO MEZZANINE ALL TRAINS   N  ES267X  \n",
       "2231                     STREET TO MEZZANINE ALL TRAINS   N  ES261X  \n",
       "2232                     STREET TO MEZZANINE ALL TRAINS   N  ES262X  \n",
       "2233                     STREET TO MEZZANINE ALL TRAINS   N  EL231X  \n",
       "2234                     STREET TO MEZZANINE ALL TRAINS   N  ES268X  \n",
       "2235                   NORTHBOUND PLATFORM TO MEZZANINE   Y   EL345  \n",
       "2236                   SOUTHBOUND PLATFORM TO MEZZANINE   Y   EL346  \n",
       "2237                                STREET TO MEZZANINE   Y   EL344  \n",
       "2238  60 WALL STREET ATRIUM TO MEZZANINE 2/3 TRAIN P...   N  ES379X  \n",
       "2239  60 WALL STREET ATRIUM TO MEZZANINE 2/3 TRAIN P...   N  ES378X  \n",
       "2240             MIDDLE MEZZANINE TO DOWNTOWN PLATFORMS   Y   EL334  \n",
       "2241               MIDDLE MEZZANINE TO UPTOWN PLATFORMS   Y   EL335  \n",
       "2242   NORTHBOUND LL PLATFORM TO NORTHBOUND UL PLATFORM   N   ES325  \n",
       "2243   SOUTHBOUND LL PLATFORM TO SOUTHBOUND UL PLATFORM   N   ES326  \n",
       "2244                                STREET TO MEZZANINE   Y   EL333  \n",
       "2245                MEZZANINE TO NORTHBOUND UL PLATFORM   N   ES335  \n",
       "2246                                STREET TO MEZZANINE   N   ES106  \n",
       "2247                 LOWER MEZZANINE TO UPPER MEZZANINE   N   ES351  \n",
       "2248                 LOWER MEZZANINE TO UPPER MEZZANINE   N   ES312  \n",
       "2249                 LOWER MEZZANINE TO UPPER MEZZANINE   N   ES311  \n",
       "\n",
       "[2250 rows x 6 columns]"
      ]
     },
     "execution_count": 119,
     "metadata": {},
     "output_type": "execute_result"
    }
   ],
   "source": [
    "accessibility_by_station"
   ]
  },
  {
   "cell_type": "code",
   "execution_count": 223,
   "metadata": {},
   "outputs": [
    {
     "data": {
      "text/html": [
       "<div>\n",
       "<style>\n",
       "    .dataframe thead tr:only-child th {\n",
       "        text-align: right;\n",
       "    }\n",
       "\n",
       "    .dataframe thead th {\n",
       "        text-align: left;\n",
       "    }\n",
       "\n",
       "    .dataframe tbody tr th {\n",
       "        vertical-align: top;\n",
       "    }\n",
       "</style>\n",
       "<table border=\"1\" class=\"dataframe\">\n",
       "  <thead>\n",
       "    <tr style=\"text-align: right;\">\n",
       "      <th></th>\n",
       "      <th>station</th>\n",
       "      <th>borough</th>\n",
       "      <th>equipmenttype</th>\n",
       "      <th>serving</th>\n",
       "      <th>ADA</th>\n",
       "      <th>line</th>\n",
       "    </tr>\n",
       "  </thead>\n",
       "  <tbody>\n",
       "  </tbody>\n",
       "</table>\n",
       "</div>"
      ],
      "text/plain": [
       "Empty DataFrame\n",
       "Columns: [station, borough, equipmenttype, serving, ADA, line]\n",
       "Index: []"
      ]
     },
     "execution_count": 223,
     "metadata": {},
     "output_type": "execute_result"
    }
   ],
   "source": [
    "a = accessibility_by_station['station'] == arrival_stop\n",
    "\n",
    "accessibility_by_station[np.logical_and.reduce((a))]\n",
    "# No, it is not accessible"
   ]
  },
  {
   "cell_type": "markdown",
   "metadata": {},
   "source": [
    "Neither arrival nor departure is accessible How much extra?\n",
    "\n",
    "Nearest accessible station is Crown heights Utica Avenue\n",
    "Nearest accessible station to Wall street is Brooklyn Bridge, City Hall\n"
   ]
  },
  {
   "cell_type": "code",
   "execution_count": 235,
   "metadata": {},
   "outputs": [],
   "source": [
    "new_destination = \"Utica Avenue and Eastern Parkway, Brooklyn\"\n",
    "new_destination_string = new_destination.replace(\",\",\"\").replace(\" \", \"+\")\n",
    "\n",
    "new_request = 'origin=' + origin_string + \\\n",
    "            '&destination=' + new_destination_string + \\\n",
    "            '&key=' + GOOGLE_DIRECTIONS_API_KEY + \\\n",
    "            '&mode=walking'\n",
    "            \n",
    "new_request_url_a = base_url + new_request"
   ]
  },
  {
   "cell_type": "code",
   "execution_count": 236,
   "metadata": {},
   "outputs": [],
   "source": [
    "new_directions_a = json.loads(requests.get(new_request_url_a).text)"
   ]
  },
  {
   "cell_type": "code",
   "execution_count": 237,
   "metadata": {},
   "outputs": [
    {
     "data": {
      "text/plain": [
       "u'23 mins'"
      ]
     },
     "execution_count": 237,
     "metadata": {},
     "output_type": "execute_result"
    }
   ],
   "source": [
    "new_directions_a['routes'][0][\"legs\"][0][\"duration\"][\"text\"]"
   ]
  },
  {
   "cell_type": "code",
   "execution_count": 238,
   "metadata": {},
   "outputs": [
    {
     "data": {
      "text/plain": [
       "u'1.1 mi'"
      ]
     },
     "execution_count": 238,
     "metadata": {},
     "output_type": "execute_result"
    }
   ],
   "source": [
    "new_directions_a['routes'][0][\"legs\"][0][\"distance\"][\"text\"]"
   ]
  },
  {
   "cell_type": "markdown",
   "metadata": {},
   "source": [
    "It takes 23 mins and 1.1 mi to walk to the accesible station vs 13 mins and 0.6 mi\n",
    "\n",
    "10 extra minutes and an extra half mile"
   ]
  },
  {
   "cell_type": "code",
   "execution_count": 208,
   "metadata": {
    "collapsed": true
   },
   "outputs": [],
   "source": [
    "new_origin = \"Chambers street and Centre street, Manhattan\"\n",
    "new_origin_string = new_origin.replace(\",\",\"\").replace(\" \", \"+\")\n",
    "\n",
    "new_request_b = 'origin=' + new_origin_string + \\\n",
    "            '&destination=' + destination_string + \\\n",
    "            '&key=' + GOOGLE_DIRECTIONS_API_KEY + \\\n",
    "            '&mode=walking'\n",
    "            \n",
    "new_request_b_url = base_url + new_request_b"
   ]
  },
  {
   "cell_type": "code",
   "execution_count": 210,
   "metadata": {},
   "outputs": [],
   "source": [
    "new_directions_b = json.loads(requests.get(new_request_b_url).text)"
   ]
  },
  {
   "cell_type": "code",
   "execution_count": 240,
   "metadata": {},
   "outputs": [
    {
     "data": {
      "text/plain": [
       "u'13 mins'"
      ]
     },
     "execution_count": 240,
     "metadata": {},
     "output_type": "execute_result"
    }
   ],
   "source": [
    "new_directions_b['routes'][0][\"legs\"][0][\"duration\"][\"text\"]"
   ]
  },
  {
   "cell_type": "code",
   "execution_count": 239,
   "metadata": {},
   "outputs": [
    {
     "data": {
      "text/plain": [
       "u'0.6 mi'"
      ]
     },
     "execution_count": 239,
     "metadata": {},
     "output_type": "execute_result"
    }
   ],
   "source": [
    "new_directions_b['routes'][0][\"legs\"][0][\"distance\"][\"text\"]"
   ]
  },
  {
   "cell_type": "markdown",
   "metadata": {},
   "source": [
    "On the other end, an extra 13 mins and 0.6 miles for accessible stations vs 1 min and 0 mi with non-accessible"
   ]
  },
  {
   "cell_type": "markdown",
   "metadata": {},
   "source": [
    "Total: 23 mins and 1.1 extra miles to reach an accessible station (each way)\n",
    "\n",
    "The takeaway: people who already have accessibility issues getting to the subway end up having to walk further to reach an accessible station. This ends up making something that is already difficult even more difficult.\n",
    "\n",
    "It's also difficult to find accessible routes without difficult planning."
   ]
  },
  {
   "cell_type": "code",
   "execution_count": null,
   "metadata": {
    "collapsed": true
   },
   "outputs": [],
   "source": []
  }
 ],
 "metadata": {
  "kernelspec": {
   "display_name": "Python 2",
   "language": "python",
   "name": "python2"
  },
  "language_info": {
   "codemirror_mode": {
    "name": "ipython",
    "version": 2
   },
   "file_extension": ".py",
   "mimetype": "text/x-python",
   "name": "python",
   "nbconvert_exporter": "python",
   "pygments_lexer": "ipython2",
   "version": "2.7.13"
  }
 },
 "nbformat": 4,
 "nbformat_minor": 2
}
