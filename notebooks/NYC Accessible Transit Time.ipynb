{
 "cells": [
  {
   "cell_type": "markdown",
   "metadata": {},
   "source": [
    "# NYC Accessible Transit Time\n",
    "\n",
    "This analysis seeks to demonstrate how much longer it takes to use the NYC subway system for a person with limited mobility.\n",
    "\n",
    "Scope: Analyze the additional time and walking distance that peopel with mobility impairments experience when using the NYC subway system\n",
    "\n",
    "Author: Nick Rosener"
   ]
  },
  {
   "cell_type": "code",
   "execution_count": 30,
   "metadata": {
    "collapsed": true
   },
   "outputs": [],
   "source": [
    "# Imports the GOOGLE_DIRECTIONS_API_KEY\n",
    "from config import *\n",
    "\n",
    "# Imports packages\n",
    "import requests\n",
    "import json\n",
    "import pandas as pd"
   ]
  },
  {
   "cell_type": "code",
   "execution_count": 15,
   "metadata": {
    "collapsed": true
   },
   "outputs": [],
   "source": [
    "origin = 'Crown Heights, Brooklyn'\n",
    "\n",
    "origin_string = origin.replace(\",\",\"\").replace(\" \", \"+\")\n",
    "\n",
    "destination = 'Midtown, Manhattan'\n",
    "\n",
    "destination_string = destination.replace(\",\",\"\").replace(\" \", \"+\")\n",
    "\n",
    "base_url = 'https://maps.googleapis.com/maps/api/directions/json?'\n",
    "\n",
    "request = 'origin=' + origin_string + \\\n",
    "            '&destination=' + destination_string + \\\n",
    "            '&key=' + GOOGLE_DIRECTIONS_API_KEY + \\\n",
    "            '&mode=transit'\n",
    "            \n",
    "request_url = base_url + request\n",
    "\n"
   ]
  },
  {
   "cell_type": "code",
   "execution_count": 39,
   "metadata": {
    "collapsed": true
   },
   "outputs": [],
   "source": [
    "directions = json.loads(requests.get(request_url).text)"
   ]
  },
  {
   "cell_type": "code",
   "execution_count": 79,
   "metadata": {},
   "outputs": [],
   "source": [
    "steps = directions[\"routes\"][0][\"legs\"][0][\"steps\"]"
   ]
  },
  {
   "cell_type": "code",
   "execution_count": 80,
   "metadata": {},
   "outputs": [
    {
     "data": {
      "text/plain": [
       "{u'distance': {u'text': u'0.2 mi', u'value': 359},\n",
       " u'duration': {u'text': u'5 mins', u'value': 286},\n",
       " u'end_location': {u'lat': 40.6692896, u'lng': -73.94244309999999},\n",
       " u'html_instructions': u'Walk to Kingston Av',\n",
       " u'polyline': {u'points': u'k_fwF|iibMDgBPsI?M@K@WkAGsCKKAAf@A?AD'},\n",
       " u'start_location': {u'lat': 40.66822310000001, u'lng': -73.94478769999999},\n",
       " u'steps': [{u'distance': {u'text': u'0.1 mi', u'value': 208},\n",
       "   u'duration': {u'text': u'3 mins', u'value': 151},\n",
       "   u'end_location': {u'lat': 40.6680768, u'lng': -73.9423238},\n",
       "   u'html_instructions': u'Head <b>east</b> toward <b>Kingston Ave</b>',\n",
       "   u'polyline': {u'points': u'k_fwF|iibMDgBPsI?M@K@W'},\n",
       "   u'start_location': {u'lat': 40.66822310000001, u'lng': -73.94478769999999},\n",
       "   u'travel_mode': u'WALKING'},\n",
       "  {u'distance': {u'text': u'433 ft', u'value': 132},\n",
       "   u'duration': {u'text': u'2 mins', u'value': 95},\n",
       "   u'end_location': {u'lat': 40.6692605, u'lng': -73.9422136},\n",
       "   u'html_instructions': u'Turn <b>left</b> onto <b>Kingston Ave</b>',\n",
       "   u'maneuver': u'turn-left',\n",
       "   u'polyline': {u'points': u'o~ewFnzhbMkAGsCKKA'},\n",
       "   u'start_location': {u'lat': 40.6680768, u'lng': -73.9423238},\n",
       "   u'travel_mode': u'WALKING'},\n",
       "  {u'distance': {u'text': u'56 ft', u'value': 17},\n",
       "   u'duration': {u'text': u'1 min', u'value': 12},\n",
       "   u'end_location': {u'lat': 40.6692835, u'lng': -73.9424136},\n",
       "   u'html_instructions': u'Turn <b>left</b>',\n",
       "   u'maneuver': u'turn-left',\n",
       "   u'polyline': {u'points': u'{efwFxyhbMAf@A?'},\n",
       "   u'start_location': {u'lat': 40.6692605, u'lng': -73.9422136},\n",
       "   u'travel_mode': u'WALKING'},\n",
       "  {u'distance': {u'text': u'7 ft', u'value': 2},\n",
       "   u'duration': {u'text': u'1 min', u'value': 28},\n",
       "   u'end_location': {u'lat': 40.6692896, u'lng': -73.94244309999999},\n",
       "   u'polyline': {u'points': u'_ffwF`{hbMAD'},\n",
       "   u'start_location': {u'lat': 40.6692835, u'lng': -73.9424136},\n",
       "   u'travel_mode': u'WALKING'}],\n",
       " u'travel_mode': u'WALKING'}"
      ]
     },
     "execution_count": 80,
     "metadata": {},
     "output_type": "execute_result"
    }
   ],
   "source": [
    "steps[0]"
   ]
  },
  {
   "cell_type": "code",
   "execution_count": 83,
   "metadata": {},
   "outputs": [],
   "source": [
    "# Finds the step with transit\n",
    "\n",
    "for step in steps:\n",
    "    if step[\"travel_mode\"] == \"TRANSIT\":\n",
    "        transit_step = step"
   ]
  },
  {
   "cell_type": "code",
   "execution_count": 91,
   "metadata": {},
   "outputs": [],
   "source": [
    "departure_stop = transit_step['transit_details']['departure_stop']['name']\n",
    "arrival_stop = transit_step[\"transit_details\"]['arrival_stop']['name']"
   ]
  },
  {
   "cell_type": "code",
   "execution_count": 92,
   "metadata": {},
   "outputs": [
    {
     "data": {
      "text/plain": [
       "u'Grand Central - 42 St'"
      ]
     },
     "execution_count": 92,
     "metadata": {},
     "output_type": "execute_result"
    }
   ],
   "source": [
    "arrival_stop"
   ]
  },
  {
   "cell_type": "code",
   "execution_count": 93,
   "metadata": {},
   "outputs": [
    {
     "data": {
      "text/plain": [
       "u'Kingston Av'"
      ]
     },
     "execution_count": 93,
     "metadata": {},
     "output_type": "execute_result"
    }
   ],
   "source": [
    "departure_stop"
   ]
  },
  {
   "cell_type": "code",
   "execution_count": null,
   "metadata": {
    "collapsed": true
   },
   "outputs": [],
   "source": []
  }
 ],
 "metadata": {
  "kernelspec": {
   "display_name": "Python 2",
   "language": "python",
   "name": "python2"
  },
  "language_info": {
   "codemirror_mode": {
    "name": "ipython",
    "version": 2
   },
   "file_extension": ".py",
   "mimetype": "text/x-python",
   "name": "python",
   "nbconvert_exporter": "python",
   "pygments_lexer": "ipython2",
   "version": "2.7.13"
  }
 },
 "nbformat": 4,
 "nbformat_minor": 2
}
