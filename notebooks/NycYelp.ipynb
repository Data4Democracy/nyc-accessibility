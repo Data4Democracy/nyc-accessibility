{
 "cells": [
  {
   "cell_type": "markdown",
   "metadata": {},
   "source": [
    "# Yelp Search\n",
    "## Using keywords -  \"Handicap Accessible Restaurant\" and attributes as \"wheelchair Accessible\"\n",
    "\n",
    "We are going to Search Yelp to get the reviews with Wheel chair using Yelp Fusion API\n",
    "https://www.yelp.com/developers\n",
    "https://www.yelp.com/developers/documentation/v3\n",
    "\n",
    "**Note :**\n",
    "- Step 1: Followed the steps to create a developer account.\n",
    "- Step 2: Created a sample app in Yelp (https://www.yelp.com/developers/v3/manage_app) & used the Client ID and secret for this."
   ]
  },
  {
   "cell_type": "code",
   "execution_count": 85,
   "metadata": {
    "collapsed": true
   },
   "outputs": [],
   "source": [
    "# Get token (This function is from Yelp sample file)\n",
    "# https://github.com/Yelp/yelp-fusion/blob/master/fusion/python/sample.py\n",
    "\n",
    "# Import Packages\n",
    "# for the Function\n",
    "from urllib.parse import quote    \n",
    "from urllib.parse import urlencode\n",
    "\n",
    "# for JSON\n",
    "import json\n",
    "\n",
    "# for GET request\n",
    "import requests\n",
    "\n",
    "\n",
    "# API constants, you shouldn't have to change these.\n",
    "API_HOST = 'https://api.yelp.com'\n",
    "SEARCH_PATH = '/v3/businesses/search'\n",
    "BUSINESS_PATH = '/v3/businesses/'  # Business ID will come after slash.\n",
    "TOKEN_PATH = '/oauth2/token'\n",
    "GRANT_TYPE = 'client_credentials'\n",
    "\n",
    "#OAuth credential from Yelp. You can find them on https://www.yelp.com/developers/v3/manage_app\n",
    "CLIENT_ID = \"VDb16x_w-ZCUGlil685Eew\"\n",
    "CLIENT_SECRET = \"cUBR9ZJOcupTDfP0rQBMsTDg7x4a0ieS4DsNXxotu63aZgkMMVMFoKUhyfbbMOB9\"\n",
    "\n",
    "#Function to get the bearer Token\n",
    "def obtain_bearer_token(host, path):\n",
    "    \"\"\"Given a bearer token, send a GET request to the API.\n",
    "    Args:\n",
    "        host (str): The domain host of the API.\n",
    "        path (str): The path of the API after the domain.\n",
    "        url_params (dict): An optional set of query parameters in the request.\n",
    "    Returns:\n",
    "        str: OAuth bearer token, obtained using client_id and client_secret.\n",
    "    Raises:\n",
    "        HTTPError: An error occurs from the HTTP request.\n",
    "    \"\"\"\n",
    "    url = '{0}{1}'.format(host, quote(path.encode('utf8')))\n",
    "    assert CLIENT_ID, \"Please supply your client_id.\"\n",
    "    assert CLIENT_SECRET, \"Please supply your client_secret.\"\n",
    "    data = urlencode({\n",
    "        'client_id': CLIENT_ID,\n",
    "        'client_secret': CLIENT_SECRET,\n",
    "        'grant_type': GRANT_TYPE,\n",
    "    })\n",
    "    headers = {\n",
    "        'content-type': 'application/x-www-form-urlencoded',\n",
    "    }\n",
    "    response = requests.request('POST', url, data=data, headers=headers)\n",
    "    bearer_token = response.json()['access_token']\n",
    "    return bearer_token"
   ]
  },
  {
   "cell_type": "code",
   "execution_count": 86,
   "metadata": {
    "collapsed": false
   },
   "outputs": [],
   "source": [
    "#Get bearer token using the client ID\n",
    "bearer_token = obtain_bearer_token(API_HOST, TOKEN_PATH)"
   ]
  },
  {
   "cell_type": "code",
   "execution_count": 87,
   "metadata": {
    "collapsed": false
   },
   "outputs": [],
   "source": [
    "# for testing purpose\n",
    "# print(bearer_token)"
   ]
  },
  {
   "cell_type": "markdown",
   "metadata": {},
   "source": [
    "## Read this note from Yelp Fusion for results limitation\n",
    "https://www.yelp.com/developers/documentation/v3/business_search\n",
    "\n",
    "Note\n",
    "Using the offset and limit parameters, you can get up to 1000 businesses from this endpoint if there are more than 1000 results. If you request a page out of this 1000 business limit, this endpoint will return an error.\n"
   ]
  },
  {
   "cell_type": "code",
   "execution_count": 138,
   "metadata": {
    "collapsed": false
   },
   "outputs": [],
   "source": [
    "# parameters to search the API\n",
    "# default limit is 20 & max limit is 50\n",
    "searchTerm = {'term' : ['Handicap Accessible Restaurant'], 'attributes' : 'Wheelchair Accessible', \n",
    "              'location': 'New York, NY', 'sort_by': 'best_match', 'limit':5}\n",
    "\n",
    "# Authorization param\n",
    "# Using 'Bearer' with token for the Yelp OAuth \n",
    "authHeader = {'Authorization': 'Bearer %s' %bearer_token}"
   ]
  },
  {
   "cell_type": "code",
   "execution_count": 139,
   "metadata": {
    "collapsed": false,
    "scrolled": true
   },
   "outputs": [],
   "source": [
    "# Call the response for GET Yelp /businesses/search API for the search term\n",
    "resp = requests.get('https://api.yelp.com/v3/businesses/search', headers=authHeader, params=searchTerm)\n",
    "\n",
    "'''\n",
    "# Testing for correct request\n",
    "print(resp.url)\n",
    "\n",
    "# Checking to see the response & type\n",
    "resp.status_code\n",
    "resp.headers\n",
    "\n",
    "# Decode the JSON response into a dictionary and use the data\n",
    "print(resp.headers['content-type'])\n",
    "print(resp.text)\n",
    "'''\n",
    "\n",
    "# Error handling\n",
    "\n",
    "# Check for HTTP codes other than 200\n",
    "if resp.status_code != 200:\n",
    "    print('Status:', resp.status_code, 'Problem with the request. Exiting.')\n",
    "    exit() #Exit if the status is not 200"
   ]
  },
  {
   "cell_type": "code",
   "execution_count": 140,
   "metadata": {
    "collapsed": true
   },
   "outputs": [],
   "source": [
    "# Can use either resp.text or resp.json to get the values and load them\n",
    "# get text\n",
    "# resp.text\n",
    "# Convert the JSON string into a dictionary\n",
    "# json_data = json.loads(resp.text)\n",
    "\n",
    "# get JSON\n",
    "# resp.json()\n",
    "\n",
    "# if we need to dump the JSON data\n",
    "#json_encoded = json.dumps(json_data)"
   ]
  },
  {
   "cell_type": "code",
   "execution_count": 141,
   "metadata": {
    "collapsed": false,
    "scrolled": true
   },
   "outputs": [],
   "source": [
    "# Convert the JSON string into a dictionary\n",
    "json_data = resp.json()"
   ]
  },
  {
   "cell_type": "code",
   "execution_count": 142,
   "metadata": {
    "collapsed": false
   },
   "outputs": [
    {
     "name": "stdout",
     "output_type": "stream",
     "text": [
      "veselka-new-york\n"
     ]
    }
   ],
   "source": [
    "# print for testing\n",
    "# Just the first business\n",
    "#print(json_data[\"businesses\"][0])\n",
    "\n",
    "# Just the first business's ID\n",
    "print(json_data[\"businesses\"][0][\"id\"])"
   ]
  },
  {
   "cell_type": "code",
   "execution_count": 145,
   "metadata": {
    "collapsed": false
   },
   "outputs": [],
   "source": [
    "# Store the business in a list\n",
    "api_ret_business = []\n",
    "\n",
    "# Building list with the business IDs (or we can just loop through and call the review API)\n",
    "\n",
    "for business in json_data[\"businesses\"]:\n",
    "    api_ret_business.append(business['id'])"
   ]
  },
  {
   "cell_type": "code",
   "execution_count": 146,
   "metadata": {
    "collapsed": false
   },
   "outputs": [
    {
     "data": {
      "text/plain": [
       "['veselka-new-york',\n",
       " 'massawa-new-york',\n",
       " 'ukrainian-east-village-new-york',\n",
       " 'le-pain-quotidien-brooklyn-7',\n",
       " 'pappardella-new-york']"
      ]
     },
     "execution_count": 146,
     "metadata": {},
     "output_type": "execute_result"
    }
   ],
   "source": [
    "# Display all the business Ids\n",
    "api_ret_business"
   ]
  }
 ],
 "metadata": {
  "kernelspec": {
   "display_name": "Python 3",
   "language": "python",
   "name": "python3"
  },
  "language_info": {
   "codemirror_mode": {
    "name": "ipython",
    "version": 3
   },
   "file_extension": ".py",
   "mimetype": "text/x-python",
   "name": "python",
   "nbconvert_exporter": "python",
   "pygments_lexer": "ipython3",
   "version": "3.6.0"
  }
 },
 "nbformat": 4,
 "nbformat_minor": 2
}
