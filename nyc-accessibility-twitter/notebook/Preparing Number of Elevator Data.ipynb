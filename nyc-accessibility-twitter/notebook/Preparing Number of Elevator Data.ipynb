{
 "cells": [
  {
   "cell_type": "code",
   "execution_count": 1,
   "metadata": {
    "collapsed": true
   },
   "outputs": [],
   "source": [
    "import pandas as pd\n",
    "import json\n",
    "from pandas.io.json import json_normalize"
   ]
  },
  {
   "cell_type": "code",
   "execution_count": 2,
   "metadata": {
    "collapsed": true
   },
   "outputs": [],
   "source": [
    "json_path = 'Data/nyca_station_details_plus_mappings/all_nyca_station_details.json'"
   ]
  },
  {
   "cell_type": "code",
   "execution_count": 3,
   "metadata": {
    "collapsed": true
   },
   "outputs": [],
   "source": [
    "json_df = pd.read_json(json_path).T"
   ]
  },
  {
   "cell_type": "code",
   "execution_count": 4,
   "metadata": {
    "collapsed": false
   },
   "outputs": [
    {
     "data": {
      "text/html": [
       "<div>\n",
       "<table border=\"1\" class=\"dataframe\">\n",
       "  <thead>\n",
       "    <tr style=\"text-align: right;\">\n",
       "      <th></th>\n",
       "      <th>accessible_note</th>\n",
       "      <th>bus_info</th>\n",
       "      <th>elevator_count_words</th>\n",
       "      <th>escalator_count_words</th>\n",
       "      <th>has_machines</th>\n",
       "      <th>id</th>\n",
       "      <th>is_accessible</th>\n",
       "      <th>lines</th>\n",
       "      <th>machines</th>\n",
       "      <th>name</th>\n",
       "      <th>outages</th>\n",
       "      <th>updated_at</th>\n",
       "    </tr>\n",
       "  </thead>\n",
       "  <tbody>\n",
       "    <tr>\n",
       "      <th>1</th>\n",
       "      <td>None</td>\n",
       "      <td>M5 (northbound)</td>\n",
       "      <td>3 Elevators</td>\n",
       "      <td>2 Escalators</td>\n",
       "      <td>True</td>\n",
       "      <td>1</td>\n",
       "      <td>True</td>\n",
       "      <td>[B, D, F, M, A, C, E]</td>\n",
       "      <td>[{'location': None, 'image': 'ES_out.png', 'ou...</td>\n",
       "      <td>W 4th St - Washington Sq</td>\n",
       "      <td>1 Outage</td>\n",
       "      <td>Updated 1 minute ago</td>\n",
       "    </tr>\n",
       "    <tr>\n",
       "      <th>10</th>\n",
       "      <td>None</td>\n",
       "      <td>Bus connections:Bx5, Bx6, Bx19</td>\n",
       "      <td>3 Elevators</td>\n",
       "      <td>None</td>\n",
       "      <td>True</td>\n",
       "      <td>10</td>\n",
       "      <td>True</td>\n",
       "      <td>[6, 6e]</td>\n",
       "      <td>[{'location': 'Hunts Point Avenue between Bruc...</td>\n",
       "      <td>Hunts Point Ave</td>\n",
       "      <td>None</td>\n",
       "      <td>Updated less than a minute ago</td>\n",
       "    </tr>\n",
       "    <tr>\n",
       "      <th>100</th>\n",
       "      <td>None</td>\n",
       "      <td>None</td>\n",
       "      <td>None</td>\n",
       "      <td>None</td>\n",
       "      <td>False</td>\n",
       "      <td>100</td>\n",
       "      <td>False</td>\n",
       "      <td>[G]</td>\n",
       "      <td>[]</td>\n",
       "      <td>21st St</td>\n",
       "      <td>None</td>\n",
       "      <td>Updated 9 minutes ago</td>\n",
       "    </tr>\n",
       "    <tr>\n",
       "      <th>101</th>\n",
       "      <td>None</td>\n",
       "      <td>None</td>\n",
       "      <td>None</td>\n",
       "      <td>None</td>\n",
       "      <td>False</td>\n",
       "      <td>101</td>\n",
       "      <td>False</td>\n",
       "      <td>[N, Q]</td>\n",
       "      <td>[]</td>\n",
       "      <td>39th Ave</td>\n",
       "      <td>None</td>\n",
       "      <td>Updated 9 minutes ago</td>\n",
       "    </tr>\n",
       "    <tr>\n",
       "      <th>102</th>\n",
       "      <td>None</td>\n",
       "      <td>None</td>\n",
       "      <td>None</td>\n",
       "      <td>None</td>\n",
       "      <td>False</td>\n",
       "      <td>102</td>\n",
       "      <td>False</td>\n",
       "      <td>[N, Q]</td>\n",
       "      <td>[]</td>\n",
       "      <td>36th Ave</td>\n",
       "      <td>None</td>\n",
       "      <td>Updated 9 minutes ago</td>\n",
       "    </tr>\n",
       "  </tbody>\n",
       "</table>\n",
       "</div>"
      ],
      "text/plain": [
       "    accessible_note                        bus_info elevator_count_words  \\\n",
       "1              None                 M5 (northbound)          3 Elevators   \n",
       "10             None  Bus connections:Bx5, Bx6, Bx19          3 Elevators   \n",
       "100            None                            None                 None   \n",
       "101            None                            None                 None   \n",
       "102            None                            None                 None   \n",
       "\n",
       "    escalator_count_words has_machines   id is_accessible  \\\n",
       "1            2 Escalators         True    1          True   \n",
       "10                   None         True   10          True   \n",
       "100                  None        False  100         False   \n",
       "101                  None        False  101         False   \n",
       "102                  None        False  102         False   \n",
       "\n",
       "                     lines                                           machines  \\\n",
       "1    [B, D, F, M, A, C, E]  [{'location': None, 'image': 'ES_out.png', 'ou...   \n",
       "10                 [6, 6e]  [{'location': 'Hunts Point Avenue between Bruc...   \n",
       "100                    [G]                                                 []   \n",
       "101                 [N, Q]                                                 []   \n",
       "102                 [N, Q]                                                 []   \n",
       "\n",
       "                         name   outages                      updated_at  \n",
       "1    W 4th St - Washington Sq  1 Outage            Updated 1 minute ago  \n",
       "10            Hunts Point Ave      None  Updated less than a minute ago  \n",
       "100                   21st St      None           Updated 9 minutes ago  \n",
       "101                  39th Ave      None           Updated 9 minutes ago  \n",
       "102                  36th Ave      None           Updated 9 minutes ago  "
      ]
     },
     "execution_count": 4,
     "metadata": {},
     "output_type": "execute_result"
    }
   ],
   "source": [
    "json_df.head()"
   ]
  },
  {
   "cell_type": "code",
   "execution_count": 5,
   "metadata": {
    "collapsed": true
   },
   "outputs": [],
   "source": [
    "# keep only accessible stations\n",
    "accessible_df = json_df[json_df['is_accessible'] == True].copy()"
   ]
  },
  {
   "cell_type": "code",
   "execution_count": 6,
   "metadata": {
    "collapsed": false
   },
   "outputs": [
    {
     "data": {
      "text/plain": [
       "(86, 12)"
      ]
     },
     "execution_count": 6,
     "metadata": {},
     "output_type": "execute_result"
    }
   ],
   "source": [
    "accessible_df.shape"
   ]
  },
  {
   "cell_type": "code",
   "execution_count": 7,
   "metadata": {
    "collapsed": false
   },
   "outputs": [
    {
     "data": {
      "text/html": [
       "<div>\n",
       "<table border=\"1\" class=\"dataframe\">\n",
       "  <thead>\n",
       "    <tr style=\"text-align: right;\">\n",
       "      <th></th>\n",
       "      <th>accessible_note</th>\n",
       "      <th>bus_info</th>\n",
       "      <th>elevator_count_words</th>\n",
       "      <th>escalator_count_words</th>\n",
       "      <th>has_machines</th>\n",
       "      <th>id</th>\n",
       "      <th>is_accessible</th>\n",
       "      <th>lines</th>\n",
       "      <th>machines</th>\n",
       "      <th>name</th>\n",
       "      <th>outages</th>\n",
       "      <th>updated_at</th>\n",
       "    </tr>\n",
       "  </thead>\n",
       "  <tbody>\n",
       "    <tr>\n",
       "      <th>1</th>\n",
       "      <td>None</td>\n",
       "      <td>M5 (northbound)</td>\n",
       "      <td>3 Elevators</td>\n",
       "      <td>2 Escalators</td>\n",
       "      <td>True</td>\n",
       "      <td>1</td>\n",
       "      <td>True</td>\n",
       "      <td>[B, D, F, M, A, C, E]</td>\n",
       "      <td>[{'location': None, 'image': 'ES_out.png', 'ou...</td>\n",
       "      <td>W 4th St - Washington Sq</td>\n",
       "      <td>1 Outage</td>\n",
       "      <td>Updated 1 minute ago</td>\n",
       "    </tr>\n",
       "    <tr>\n",
       "      <th>10</th>\n",
       "      <td>None</td>\n",
       "      <td>Bus connections:Bx5, Bx6, Bx19</td>\n",
       "      <td>3 Elevators</td>\n",
       "      <td>None</td>\n",
       "      <td>True</td>\n",
       "      <td>10</td>\n",
       "      <td>True</td>\n",
       "      <td>[6, 6e]</td>\n",
       "      <td>[{'location': 'Hunts Point Avenue between Bruc...</td>\n",
       "      <td>Hunts Point Ave</td>\n",
       "      <td>None</td>\n",
       "      <td>Updated less than a minute ago</td>\n",
       "    </tr>\n",
       "    <tr>\n",
       "      <th>105</th>\n",
       "      <td>None</td>\n",
       "      <td>M96, M104, M106</td>\n",
       "      <td>2 Elevators</td>\n",
       "      <td>None</td>\n",
       "      <td>True</td>\n",
       "      <td>105</td>\n",
       "      <td>True</td>\n",
       "      <td>[1, 2, 3]</td>\n",
       "      <td>[{'location': 'Either south side of 96th Stree...</td>\n",
       "      <td>96th St</td>\n",
       "      <td>None</td>\n",
       "      <td>Updated 10 minutes ago</td>\n",
       "    </tr>\n",
       "    <tr>\n",
       "      <th>110</th>\n",
       "      <td>None</td>\n",
       "      <td>M5, M7 (northbound), M11 (northbound), M57, M7...</td>\n",
       "      <td>2 Elevators</td>\n",
       "      <td>None</td>\n",
       "      <td>True</td>\n",
       "      <td>110</td>\n",
       "      <td>True</td>\n",
       "      <td>[1, 2, 3]</td>\n",
       "      <td>[{'location': 'North side of 72nd Street betwe...</td>\n",
       "      <td>72nd St</td>\n",
       "      <td>None</td>\n",
       "      <td>Updated 9 minutes ago</td>\n",
       "    </tr>\n",
       "    <tr>\n",
       "      <th>114</th>\n",
       "      <td>None</td>\n",
       "      <td>Q10 (Q10 goes to JFK Airport), Q37, Q46, Q60, ...</td>\n",
       "      <td>3 Elevators</td>\n",
       "      <td>None</td>\n",
       "      <td>True</td>\n",
       "      <td>114</td>\n",
       "      <td>True</td>\n",
       "      <td>[E, F]</td>\n",
       "      <td>[{'location': 'SE corner of Union Turnpike and...</td>\n",
       "      <td>Kew Gardens - Union Tpke</td>\n",
       "      <td>None</td>\n",
       "      <td>Updated less than a minute ago</td>\n",
       "    </tr>\n",
       "  </tbody>\n",
       "</table>\n",
       "</div>"
      ],
      "text/plain": [
       "    accessible_note                                           bus_info  \\\n",
       "1              None                                    M5 (northbound)   \n",
       "10             None                     Bus connections:Bx5, Bx6, Bx19   \n",
       "105            None                                    M96, M104, M106   \n",
       "110            None  M5, M7 (northbound), M11 (northbound), M57, M7...   \n",
       "114            None  Q10 (Q10 goes to JFK Airport), Q37, Q46, Q60, ...   \n",
       "\n",
       "    elevator_count_words escalator_count_words has_machines   id  \\\n",
       "1            3 Elevators          2 Escalators         True    1   \n",
       "10           3 Elevators                  None         True   10   \n",
       "105          2 Elevators                  None         True  105   \n",
       "110          2 Elevators                  None         True  110   \n",
       "114          3 Elevators                  None         True  114   \n",
       "\n",
       "    is_accessible                  lines  \\\n",
       "1            True  [B, D, F, M, A, C, E]   \n",
       "10           True                [6, 6e]   \n",
       "105          True              [1, 2, 3]   \n",
       "110          True              [1, 2, 3]   \n",
       "114          True                 [E, F]   \n",
       "\n",
       "                                              machines  \\\n",
       "1    [{'location': None, 'image': 'ES_out.png', 'ou...   \n",
       "10   [{'location': 'Hunts Point Avenue between Bruc...   \n",
       "105  [{'location': 'Either south side of 96th Stree...   \n",
       "110  [{'location': 'North side of 72nd Street betwe...   \n",
       "114  [{'location': 'SE corner of Union Turnpike and...   \n",
       "\n",
       "                         name   outages                      updated_at  \n",
       "1    W 4th St - Washington Sq  1 Outage            Updated 1 minute ago  \n",
       "10            Hunts Point Ave      None  Updated less than a minute ago  \n",
       "105                   96th St      None          Updated 10 minutes ago  \n",
       "110                   72nd St      None           Updated 9 minutes ago  \n",
       "114  Kew Gardens - Union Tpke      None  Updated less than a minute ago  "
      ]
     },
     "execution_count": 7,
     "metadata": {},
     "output_type": "execute_result"
    }
   ],
   "source": [
    "accessible_df.head()"
   ]
  },
  {
   "cell_type": "code",
   "execution_count": 8,
   "metadata": {
    "collapsed": false
   },
   "outputs": [],
   "source": [
    "# if None make it as 0 Elevator\n",
    "accessible_df.loc[accessible_df['elevator_count_words'].isnull(), 'elevator_count_words'] = '0 Elevators'"
   ]
  },
  {
   "cell_type": "code",
   "execution_count": 9,
   "metadata": {
    "collapsed": false
   },
   "outputs": [
    {
     "data": {
      "text/html": [
       "<div>\n",
       "<table border=\"1\" class=\"dataframe\">\n",
       "  <thead>\n",
       "    <tr style=\"text-align: right;\">\n",
       "      <th></th>\n",
       "      <th>id</th>\n",
       "      <th>elevator_count_words</th>\n",
       "    </tr>\n",
       "  </thead>\n",
       "  <tbody>\n",
       "    <tr>\n",
       "      <th>1</th>\n",
       "      <td>1</td>\n",
       "      <td>3 Elevators</td>\n",
       "    </tr>\n",
       "    <tr>\n",
       "      <th>10</th>\n",
       "      <td>10</td>\n",
       "      <td>3 Elevators</td>\n",
       "    </tr>\n",
       "    <tr>\n",
       "      <th>105</th>\n",
       "      <td>105</td>\n",
       "      <td>2 Elevators</td>\n",
       "    </tr>\n",
       "    <tr>\n",
       "      <th>110</th>\n",
       "      <td>110</td>\n",
       "      <td>2 Elevators</td>\n",
       "    </tr>\n",
       "    <tr>\n",
       "      <th>114</th>\n",
       "      <td>114</td>\n",
       "      <td>3 Elevators</td>\n",
       "    </tr>\n",
       "  </tbody>\n",
       "</table>\n",
       "</div>"
      ],
      "text/plain": [
       "      id elevator_count_words\n",
       "1      1          3 Elevators\n",
       "10    10          3 Elevators\n",
       "105  105          2 Elevators\n",
       "110  110          2 Elevators\n",
       "114  114          3 Elevators"
      ]
     },
     "execution_count": 9,
     "metadata": {},
     "output_type": "execute_result"
    }
   ],
   "source": [
    "# Take just elevator # and id\n",
    "accessible_df = accessible_df[['id', 'elevator_count_words']]\n",
    "accessible_df.head()"
   ]
  },
  {
   "cell_type": "code",
   "execution_count": 10,
   "metadata": {
    "collapsed": false
   },
   "outputs": [
    {
     "data": {
      "text/plain": [
       "3 Elevators     29\n",
       "2 Elevators     27\n",
       "5 Elevators      7\n",
       "4 Elevators      6\n",
       "0 Elevators      6\n",
       "1 Elevator       6\n",
       "19 Elevators     2\n",
       "7 Elevators      2\n",
       "10 Elevators     1\n",
       "Name: elevator_count_words, dtype: int64"
      ]
     },
     "execution_count": 10,
     "metadata": {},
     "output_type": "execute_result"
    }
   ],
   "source": [
    "accessible_df['elevator_count_words'].value_counts(dropna = False)"
   ]
  },
  {
   "cell_type": "code",
   "execution_count": 11,
   "metadata": {
    "collapsed": false
   },
   "outputs": [
    {
     "data": {
      "text/html": [
       "<div>\n",
       "<table border=\"1\" class=\"dataframe\">\n",
       "  <thead>\n",
       "    <tr style=\"text-align: right;\">\n",
       "      <th></th>\n",
       "      <th>id</th>\n",
       "      <th>elevator_count_words</th>\n",
       "      <th>num_elevator</th>\n",
       "    </tr>\n",
       "  </thead>\n",
       "  <tbody>\n",
       "    <tr>\n",
       "      <th>1</th>\n",
       "      <td>1</td>\n",
       "      <td>3 Elevators</td>\n",
       "      <td>3</td>\n",
       "    </tr>\n",
       "    <tr>\n",
       "      <th>10</th>\n",
       "      <td>10</td>\n",
       "      <td>3 Elevators</td>\n",
       "      <td>3</td>\n",
       "    </tr>\n",
       "    <tr>\n",
       "      <th>105</th>\n",
       "      <td>105</td>\n",
       "      <td>2 Elevators</td>\n",
       "      <td>2</td>\n",
       "    </tr>\n",
       "    <tr>\n",
       "      <th>110</th>\n",
       "      <td>110</td>\n",
       "      <td>2 Elevators</td>\n",
       "      <td>2</td>\n",
       "    </tr>\n",
       "    <tr>\n",
       "      <th>114</th>\n",
       "      <td>114</td>\n",
       "      <td>3 Elevators</td>\n",
       "      <td>3</td>\n",
       "    </tr>\n",
       "  </tbody>\n",
       "</table>\n",
       "</div>"
      ],
      "text/plain": [
       "      id elevator_count_words num_elevator\n",
       "1      1          3 Elevators            3\n",
       "10    10          3 Elevators            3\n",
       "105  105          2 Elevators            2\n",
       "110  110          2 Elevators            2\n",
       "114  114          3 Elevators            3"
      ]
     },
     "execution_count": 11,
     "metadata": {},
     "output_type": "execute_result"
    }
   ],
   "source": [
    "# take number only\n",
    "accessible_df['num_elevator'] = accessible_df['elevator_count_words'].apply(lambda x: x.split()[0])\n",
    "accessible_df.head()"
   ]
  },
  {
   "cell_type": "code",
   "execution_count": 12,
   "metadata": {
    "collapsed": true
   },
   "outputs": [],
   "source": [
    "accessible_df = accessible_df[['id', 'num_elevator']]"
   ]
  },
  {
   "cell_type": "code",
   "execution_count": 13,
   "metadata": {
    "collapsed": true
   },
   "outputs": [],
   "source": [
    "accessible_df.to_csv('num_elevator.csv', index = False)"
   ]
  }
 ],
 "metadata": {
  "kernelspec": {
   "display_name": "Python 3",
   "language": "python",
   "name": "python3"
  },
  "language_info": {
   "codemirror_mode": {
    "name": "ipython",
    "version": 3
   },
   "file_extension": ".py",
   "mimetype": "text/x-python",
   "name": "python",
   "nbconvert_exporter": "python",
   "pygments_lexer": "ipython3",
   "version": "3.4.5"
  }
 },
 "nbformat": 4,
 "nbformat_minor": 2
}
